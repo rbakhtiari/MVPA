{
 "cells": [
  {
   "cell_type": "code",
   "execution_count": 1,
   "metadata": {},
   "outputs": [
    {
     "name": "stdout",
     "output_type": "stream",
     "text": [
      "Populating the interactive namespace from numpy and matplotlib\n"
     ]
    }
   ],
   "source": [
    "%pylab inline\n",
    "import matplotlib.pyplot as plt\n",
    "import pandas as pd\n",
    "from glob import glob\n",
    "from collections import namedtuple\n",
    "from scipy import signal\n",
    "import numpy as np\n",
    "from scipy.fftpack import fft,fftshift "
   ]
  },
  {
   "cell_type": "code",
   "execution_count": 2,
   "metadata": {},
   "outputs": [],
   "source": [
    "Result = namedtuple('Result', 'subject condition')\n",
    "#Event = namedtuple('Event', 'timestamp value mean') # Old\n",
    "Event = namedtuple('Event', 'timestamp value mean status') # New"
   ]
  },
  {
   "cell_type": "code",
   "execution_count": 3,
   "metadata": {},
   "outputs": [],
   "source": [
    "my_path='C:\\\\Users\\\\User\\\\Documents\\\\Reyhaneh\\\\\\EEG+fMRI\\\\Resting\\\\RS\\\\ExportedDataLenient\\\\'\n",
    "#my_path='C:\\\\MBSRtmp\\\\'\n",
    "input_file_pattern = my_path+'*.csv'\n",
    "\n",
    "start_time = 0   # ms\n",
    "sample_interval = 4 # ms (250Hz)\n",
    "\n",
    "Cz_channels = (1,2)\n",
    "Frontal = (12,9,6,3,60) # F3,F1,Fz,F2,F4\n",
    "FrontalExt = (12,9,6,3,60,59,2,8,11,13) # F3,F1,Fz,F2,F4,F6,AF4,AFz,AF3,F5\n",
    "tmp = (7,8,9)\n",
    "PCz_channels = (90, 121, 80)\n",
    "Pz_channels = (101, 100, 129)\n",
    "POz_channels = (126, 118, 127)\n",
    "CL_channels = (59, 58, 65)\n",
    "CR_channels = (183, 195, 182)\n",
    "PL_channels = (86, 76, 85)\n",
    "PR_channels = (162, 171, 172)\n",
    "POL_channels = (108, 109, 117)\n",
    "POR_channels = (151, 140, 139)\n",
    "\n",
    "SiteListNames = ('Frontal','FrontalExt')\n",
    "SiteListLoc = (Frontal,FrontalExt)\n",
    "FreqListNames = ('theta','thetaLow','thetaHigh','alpha','beta')\n",
    "FreqListRange = ((4,7), (3.5,6), (6,8.5),(8,13), (13,30))\n",
    "\n",
    "WindowSize = 1000 # ms\n",
    "OverLap = 50 # %"
   ]
  },
  {
   "cell_type": "code",
   "execution_count": 4,
   "metadata": {},
   "outputs": [],
   "source": [
    "def convert_to_channel(x):\n",
    "    return x +1\n",
    "\n",
    "def time_conversion_function(start_time, sample_interval):\n",
    "    def conversion(x):\n",
    "        return start_time + x * sample_interval\n",
    "    return conversion"
   ]
  },
  {
   "cell_type": "code",
   "execution_count": 5,
   "metadata": {},
   "outputs": [],
   "source": [
    "result_map = {}\n",
    "\n",
    "for filename in glob(input_file_pattern):\n",
    "    res = Result(*filename[:-4].rsplit('_', 1))\n",
    "    raw_data = pd.read_csv(filename, header=None)\n",
    "    cleaned_data = raw_data.rename(index=time_conversion_function(start_time, sample_interval), columns=convert_to_channel)\n",
    "    result_map[res] = cleaned_data\n",
    "\n"
   ]
  },
  {
   "cell_type": "code",
   "execution_count": 6,
   "metadata": {},
   "outputs": [],
   "source": [
    "def save_figure_fft(meanwavefromFFT,fVals, experiment, channel_name):\n",
    "    title_template = '{subject}|{condition}|{channel_name}'\n",
    "    title = title_template.format(\n",
    "        subject=experiment.subject,\n",
    "        condition=experiment.condition,\n",
    "        channel_name=channel_name,\n",
    "    )\n",
    "    filename_template = '{subject}_{condition}_{channel_name}_FFT.png'\n",
    "    filename = filename_template.format(\n",
    "        subject=experiment.subject,\n",
    "        condition=experiment.condition,\n",
    "        channel_name=channel_name,\n",
    "    )\n",
    "    fig, ax = plt.subplots(nrows=1, ncols=1)\n",
    "    ax.plot(fVals,meanwavefromFFT)\n",
    "    ax.set_title(experiment.subject[experiment.subject.rfind('\\\\',)+1:]+'|'+experiment.condition+'|'+channel_name)\n",
    "    ax.set_xlabel('Frequency (Hz)')         \n",
    "    ax.set_ylabel('|DFT Values|')\n",
    "    ax.set_xlim(0,50)\n",
    "    ax.set_xticks(np.arange(0, 50,10))\n",
    "   # show()\n",
    "   # fig = ax.get_figure()\n",
    "    fig.savefig(filename)\n",
    "    fig.clear()\n"
   ]
  },
  {
   "cell_type": "code",
   "execution_count": 7,
   "metadata": {},
   "outputs": [],
   "source": [
    "def average_channel_values(result, channels):\n",
    "    selected_channels = result.loc[:, channels]\n",
    "    return selected_channels.mean(axis=1)\n",
    "\n",
    "def find_maximum_and_mean_value_in_time_window(time_series, start_time, end_time):\n",
    "    from matplotlib.pyplot import plot, scatter, show\n",
    "           \n",
    "    #return Event(timestamp=time_slice.idxmax(), value=time_slice.max(), mean=time_slice.mean()) # old\n",
    "    return Event(timestamp=int(maxLocalIndOut), value=maxLocalMax, mean=time_slice.mean(), status=Status) # new"
   ]
  },
  {
   "cell_type": "code",
   "execution_count": 110,
   "metadata": {},
   "outputs": [
    {
     "name": "stdout",
     "output_type": "stream",
     "text": [
      "[529, 530, 531, 532, 533, 534, 535, 536, 537, 538, 539, 540]\n",
      "86022|RSConsv|FrontalExt|theta:(4, 7)/beta:(13, 30)|2.2651\n"
     ]
    }
   ],
   "source": [
    "        indtetha = [indFreq for indFreq in range(len(FreqListNames)) if FreqListNames[indFreq]=='theta']\n",
    "        indbeta = [indFreq for indFreq in range(len(FreqListNames)) if FreqListNames[indFreq]=='beta']\n",
    "        indtetha\n",
    "        freqindtheta = [indf for indf in range(len(fVals))  if (fVals[indf]>=FreqListRange[indtetha[0]][0] and fVals[indf]<=FreqListRange[indtetha[0]][1])]\n",
    "        freqindbeta = [indf for indf in range(len(fVals))  if (fVals[indf]>=FreqListRange[indbeta[0]][0] and fVals[indf]<=FreqListRange[indbeta[0]][1])]\n",
    "        print(freqindtheta)\n",
    "        np.mean(meanwavefromFFT[freqindtheta])/np.mean(meanwavefromFFT[freqindbeta])\n",
    "        '{:.4f}'.format(np.mean(meanwavefromFFT[freqindtheta])/np.mean(meanwavefromFFT[freqindbeta]))\n",
    "        #freqindtheta = [indf for indf in range(len(fVals))  if (fVals[indf]>=FreqListRange[indtetha][0] and fVals[indf]<=FreqListRange[indtetha][1])]\n",
    "    #    freqindbeta = [indf for indf in range(len(fVals))  if (fVals[indf]>=FreqListRange[indbeta][0] and fVals[indf]<=FreqListRange[indbeta][1])]\n",
    "        print(result.subject[result.subject.rfind('\\\\',)+1:]+'|'+result.condition+'|'+SiteListNames[indSite]+\n",
    "              '|'+FreqListNames[indtetha[0]]+':'+str(FreqListRange[indtetha[0]])+'/'+FreqListNames[indbeta[0]]+\n",
    "              ':'+str(FreqListRange[indbeta[0]])+'|'+'{:.4f}'.format(np.mean(meanwavefromFFT[freqindtheta])/np.mean(meanwavefromFFT[freqindbeta])))\n",
    "        #print(FreqListNames)#[indtetha])\n",
    "        #indtetha"
   ]
  },
  {
   "cell_type": "code",
   "execution_count": 8,
   "metadata": {},
   "outputs": [
    {
     "name": "stdout",
     "output_type": "stream",
     "text": [
      "86001|RSLenn|Frontal|theta:(4, 7)/beta:(13, 30)|1.9703\n",
      "86001|RSLenn|Frontal|theta:(4, 7)|104.5909\n",
      "86001|RSLenn|Frontal|thetaLow:(3.5, 6)|109.4968\n",
      "86001|RSLenn|Frontal|thetaHigh:(6, 8.5)|107.3512\n",
      "86001|RSLenn|Frontal|alpha:(8, 13)|101.4193\n",
      "86001|RSLenn|Frontal|beta:(13, 30)|53.0843\n",
      "86001|RSLenn|FrontalExt|theta:(4, 7)/beta:(13, 30)|2.1288\n",
      "86001|RSLenn|FrontalExt|theta:(4, 7)|84.0581\n",
      "86001|RSLenn|FrontalExt|thetaLow:(3.5, 6)|87.7091\n",
      "86001|RSLenn|FrontalExt|thetaHigh:(6, 8.5)|85.8393\n",
      "86001|RSLenn|FrontalExt|alpha:(8, 13)|82.9797\n",
      "86001|RSLenn|FrontalExt|beta:(13, 30)|39.4856\n",
      "86002|RSLenn|Frontal|theta:(4, 7)/beta:(13, 30)|1.9206\n",
      "86002|RSLenn|Frontal|theta:(4, 7)|227.5771\n",
      "86002|RSLenn|Frontal|thetaLow:(3.5, 6)|257.3724\n",
      "86002|RSLenn|Frontal|thetaHigh:(6, 8.5)|167.5645\n",
      "86002|RSLenn|Frontal|alpha:(8, 13)|148.5880\n",
      "86002|RSLenn|Frontal|beta:(13, 30)|118.4911\n",
      "86002|RSLenn|FrontalExt|theta:(4, 7)/beta:(13, 30)|2.1090\n",
      "86002|RSLenn|FrontalExt|theta:(4, 7)|161.1059\n",
      "86002|RSLenn|FrontalExt|thetaLow:(3.5, 6)|186.9156\n",
      "86002|RSLenn|FrontalExt|thetaHigh:(6, 8.5)|116.2238\n",
      "86002|RSLenn|FrontalExt|alpha:(8, 13)|112.5983\n",
      "86002|RSLenn|FrontalExt|beta:(13, 30)|76.3897\n",
      "86003|RSLenn|Frontal|theta:(4, 7)/beta:(13, 30)|1.2410\n",
      "86003|RSLenn|Frontal|theta:(4, 7)|110.2497\n",
      "86003|RSLenn|Frontal|thetaLow:(3.5, 6)|108.4542\n",
      "86003|RSLenn|Frontal|thetaHigh:(6, 8.5)|114.4913\n",
      "86003|RSLenn|Frontal|alpha:(8, 13)|114.6690\n",
      "86003|RSLenn|Frontal|beta:(13, 30)|88.8418\n",
      "86003|RSLenn|FrontalExt|theta:(4, 7)/beta:(13, 30)|1.4338\n",
      "86003|RSLenn|FrontalExt|theta:(4, 7)|84.1191\n",
      "86003|RSLenn|FrontalExt|thetaLow:(3.5, 6)|84.4556\n",
      "86003|RSLenn|FrontalExt|thetaHigh:(6, 8.5)|89.1306\n",
      "86003|RSLenn|FrontalExt|alpha:(8, 13)|88.8926\n",
      "86003|RSLenn|FrontalExt|beta:(13, 30)|58.6689\n",
      "86004|RSLenn|Frontal|theta:(4, 7)/beta:(13, 30)|1.8301\n",
      "86004|RSLenn|Frontal|theta:(4, 7)|158.3177\n",
      "86004|RSLenn|Frontal|thetaLow:(3.5, 6)|162.7186\n",
      "86004|RSLenn|Frontal|thetaHigh:(6, 8.5)|170.7781\n",
      "86004|RSLenn|Frontal|alpha:(8, 13)|201.2596\n",
      "86004|RSLenn|Frontal|beta:(13, 30)|86.5072\n",
      "86004|RSLenn|FrontalExt|theta:(4, 7)/beta:(13, 30)|1.7755\n",
      "86004|RSLenn|FrontalExt|theta:(4, 7)|121.6751\n",
      "86004|RSLenn|FrontalExt|thetaLow:(3.5, 6)|126.1116\n",
      "86004|RSLenn|FrontalExt|thetaHigh:(6, 8.5)|130.3502\n",
      "86004|RSLenn|FrontalExt|alpha:(8, 13)|167.3099\n",
      "86004|RSLenn|FrontalExt|beta:(13, 30)|68.5284\n",
      "86005|RSLenn|Frontal|theta:(4, 7)/beta:(13, 30)|2.2715\n",
      "86005|RSLenn|Frontal|theta:(4, 7)|173.8352\n",
      "86005|RSLenn|Frontal|thetaLow:(3.5, 6)|190.4464\n",
      "86005|RSLenn|Frontal|thetaHigh:(6, 8.5)|145.1524\n",
      "86005|RSLenn|Frontal|alpha:(8, 13)|156.0329\n",
      "86005|RSLenn|Frontal|beta:(13, 30)|76.5298\n",
      "86005|RSLenn|FrontalExt|theta:(4, 7)/beta:(13, 30)|2.3272\n",
      "86005|RSLenn|FrontalExt|theta:(4, 7)|116.8848\n",
      "86005|RSLenn|FrontalExt|thetaLow:(3.5, 6)|123.3149\n",
      "86005|RSLenn|FrontalExt|thetaHigh:(6, 8.5)|101.8475\n",
      "86005|RSLenn|FrontalExt|alpha:(8, 13)|109.2315\n",
      "86005|RSLenn|FrontalExt|beta:(13, 30)|50.2254\n",
      "86006|RSLenn|Frontal|theta:(4, 7)/beta:(13, 30)|2.5114\n",
      "86006|RSLenn|Frontal|theta:(4, 7)|142.8819\n",
      "86006|RSLenn|Frontal|thetaLow:(3.5, 6)|164.8707\n",
      "86006|RSLenn|Frontal|thetaHigh:(6, 8.5)|103.9590\n",
      "86006|RSLenn|Frontal|alpha:(8, 13)|108.4663\n",
      "86006|RSLenn|Frontal|beta:(13, 30)|56.8941\n",
      "86006|RSLenn|FrontalExt|theta:(4, 7)/beta:(13, 30)|2.3763\n",
      "86006|RSLenn|FrontalExt|theta:(4, 7)|131.1734\n",
      "86006|RSLenn|FrontalExt|thetaLow:(3.5, 6)|148.6122\n",
      "86006|RSLenn|FrontalExt|thetaHigh:(6, 8.5)|95.6149\n",
      "86006|RSLenn|FrontalExt|alpha:(8, 13)|88.0674\n",
      "86006|RSLenn|FrontalExt|beta:(13, 30)|55.2012\n",
      "86008|RSLenn|Frontal|theta:(4, 7)/beta:(13, 30)|1.9241\n",
      "86008|RSLenn|Frontal|theta:(4, 7)|80.0257\n",
      "86008|RSLenn|Frontal|thetaLow:(3.5, 6)|86.4643\n",
      "86008|RSLenn|Frontal|thetaHigh:(6, 8.5)|68.1841\n",
      "86008|RSLenn|Frontal|alpha:(8, 13)|54.1186\n",
      "86008|RSLenn|Frontal|beta:(13, 30)|41.5910\n",
      "86008|RSLenn|FrontalExt|theta:(4, 7)/beta:(13, 30)|1.9412\n",
      "86008|RSLenn|FrontalExt|theta:(4, 7)|75.7525\n",
      "86008|RSLenn|FrontalExt|thetaLow:(3.5, 6)|80.3233\n",
      "86008|RSLenn|FrontalExt|thetaHigh:(6, 8.5)|68.0912\n",
      "86008|RSLenn|FrontalExt|alpha:(8, 13)|54.2503\n",
      "86008|RSLenn|FrontalExt|beta:(13, 30)|39.0241\n",
      "86009|RSLenn|Frontal|theta:(4, 7)/beta:(13, 30)|3.4347\n",
      "86009|RSLenn|Frontal|theta:(4, 7)|155.0792\n",
      "86009|RSLenn|Frontal|thetaLow:(3.5, 6)|169.3685\n",
      "86009|RSLenn|Frontal|thetaHigh:(6, 8.5)|122.0415\n",
      "86009|RSLenn|Frontal|alpha:(8, 13)|115.5687\n",
      "86009|RSLenn|Frontal|beta:(13, 30)|45.1506\n",
      "86009|RSLenn|FrontalExt|theta:(4, 7)/beta:(13, 30)|3.4115\n",
      "86009|RSLenn|FrontalExt|theta:(4, 7)|107.7839\n",
      "86009|RSLenn|FrontalExt|thetaLow:(3.5, 6)|118.2438\n",
      "86009|RSLenn|FrontalExt|thetaHigh:(6, 8.5)|84.9337\n",
      "86009|RSLenn|FrontalExt|alpha:(8, 13)|73.3389\n",
      "86009|RSLenn|FrontalExt|beta:(13, 30)|31.5941\n",
      "86010|RSLenn|Frontal|theta:(4, 7)/beta:(13, 30)|1.8728\n",
      "86010|RSLenn|Frontal|theta:(4, 7)|84.7976\n",
      "86010|RSLenn|Frontal|thetaLow:(3.5, 6)|88.7212\n",
      "86010|RSLenn|Frontal|thetaHigh:(6, 8.5)|73.4629\n",
      "86010|RSLenn|Frontal|alpha:(8, 13)|77.8882\n",
      "86010|RSLenn|Frontal|beta:(13, 30)|45.2783\n",
      "86010|RSLenn|FrontalExt|theta:(4, 7)/beta:(13, 30)|1.8706\n",
      "86010|RSLenn|FrontalExt|theta:(4, 7)|76.6234\n",
      "86010|RSLenn|FrontalExt|thetaLow:(3.5, 6)|81.2248\n",
      "86010|RSLenn|FrontalExt|thetaHigh:(6, 8.5)|66.7521\n",
      "86010|RSLenn|FrontalExt|alpha:(8, 13)|76.8393\n",
      "86010|RSLenn|FrontalExt|beta:(13, 30)|40.9611\n",
      "86011|RSLenn|Frontal|theta:(4, 7)/beta:(13, 30)|2.3832\n",
      "86011|RSLenn|Frontal|theta:(4, 7)|180.0258\n",
      "86011|RSLenn|Frontal|thetaLow:(3.5, 6)|205.9753\n",
      "86011|RSLenn|Frontal|thetaHigh:(6, 8.5)|132.1964\n",
      "86011|RSLenn|Frontal|alpha:(8, 13)|116.5932\n",
      "86011|RSLenn|Frontal|beta:(13, 30)|75.5384\n",
      "86011|RSLenn|FrontalExt|theta:(4, 7)/beta:(13, 30)|1.9781\n",
      "86011|RSLenn|FrontalExt|theta:(4, 7)|86.4671\n",
      "86011|RSLenn|FrontalExt|thetaLow:(3.5, 6)|88.7790\n",
      "86011|RSLenn|FrontalExt|thetaHigh:(6, 8.5)|75.5560\n",
      "86011|RSLenn|FrontalExt|alpha:(8, 13)|77.4266\n",
      "86011|RSLenn|FrontalExt|beta:(13, 30)|43.7122\n"
     ]
    },
    {
     "name": "stderr",
     "output_type": "stream",
     "text": [
      "C:\\Users\\User\\Anaconda3\\lib\\site-packages\\ipykernel_launcher.py:14: RuntimeWarning: More than 20 figures have been opened. Figures created through the pyplot interface (`matplotlib.pyplot.figure`) are retained until explicitly closed and may consume too much memory. (To control this warning, see the rcParam `figure.max_open_warning`).\n",
      "  \n"
     ]
    },
    {
     "name": "stdout",
     "output_type": "stream",
     "text": [
      "86012|RSLenn|Frontal|theta:(4, 7)/beta:(13, 30)|1.5409\n",
      "86012|RSLenn|Frontal|theta:(4, 7)|165.5946\n",
      "86012|RSLenn|Frontal|thetaLow:(3.5, 6)|168.5238\n",
      "86012|RSLenn|Frontal|thetaHigh:(6, 8.5)|155.7276\n",
      "86012|RSLenn|Frontal|alpha:(8, 13)|146.5879\n",
      "86012|RSLenn|Frontal|beta:(13, 30)|107.4639\n",
      "86012|RSLenn|FrontalExt|theta:(4, 7)/beta:(13, 30)|1.5841\n",
      "86012|RSLenn|FrontalExt|theta:(4, 7)|149.2035\n",
      "86012|RSLenn|FrontalExt|thetaLow:(3.5, 6)|154.4701\n",
      "86012|RSLenn|FrontalExt|thetaHigh:(6, 8.5)|135.0455\n",
      "86012|RSLenn|FrontalExt|alpha:(8, 13)|132.4271\n",
      "86012|RSLenn|FrontalExt|beta:(13, 30)|94.1874\n",
      "86013|RSLenn|Frontal|theta:(4, 7)/beta:(13, 30)|1.8925\n",
      "86013|RSLenn|Frontal|theta:(4, 7)|123.4812\n",
      "86013|RSLenn|Frontal|thetaLow:(3.5, 6)|127.4277\n",
      "86013|RSLenn|Frontal|thetaHigh:(6, 8.5)|113.4004\n",
      "86013|RSLenn|Frontal|alpha:(8, 13)|121.4792\n",
      "86013|RSLenn|Frontal|beta:(13, 30)|65.2487\n",
      "86013|RSLenn|FrontalExt|theta:(4, 7)/beta:(13, 30)|1.8618\n",
      "86013|RSLenn|FrontalExt|theta:(4, 7)|115.9943\n",
      "86013|RSLenn|FrontalExt|thetaLow:(3.5, 6)|119.8744\n",
      "86013|RSLenn|FrontalExt|thetaHigh:(6, 8.5)|110.6465\n",
      "86013|RSLenn|FrontalExt|alpha:(8, 13)|116.9056\n",
      "86013|RSLenn|FrontalExt|beta:(13, 30)|62.3008\n",
      "86014|RSLenn|Frontal|theta:(4, 7)/beta:(13, 30)|1.8057\n",
      "86014|RSLenn|Frontal|theta:(4, 7)|80.1695\n",
      "86014|RSLenn|Frontal|thetaLow:(3.5, 6)|79.1468\n",
      "86014|RSLenn|Frontal|thetaHigh:(6, 8.5)|79.9915\n",
      "86014|RSLenn|Frontal|alpha:(8, 13)|72.9113\n",
      "86014|RSLenn|Frontal|beta:(13, 30)|44.3983\n",
      "86014|RSLenn|FrontalExt|theta:(4, 7)/beta:(13, 30)|2.1535\n",
      "86014|RSLenn|FrontalExt|theta:(4, 7)|66.4211\n",
      "86014|RSLenn|FrontalExt|thetaLow:(3.5, 6)|64.1550\n",
      "86014|RSLenn|FrontalExt|thetaHigh:(6, 8.5)|64.3152\n",
      "86014|RSLenn|FrontalExt|alpha:(8, 13)|59.0372\n",
      "86014|RSLenn|FrontalExt|beta:(13, 30)|30.8440\n",
      "86015|RSLenn|Frontal|theta:(4, 7)/beta:(13, 30)|1.8651\n",
      "86015|RSLenn|Frontal|theta:(4, 7)|87.9319\n",
      "86015|RSLenn|Frontal|thetaLow:(3.5, 6)|87.7633\n",
      "86015|RSLenn|Frontal|thetaHigh:(6, 8.5)|105.7899\n",
      "86015|RSLenn|Frontal|alpha:(8, 13)|101.6171\n",
      "86015|RSLenn|Frontal|beta:(13, 30)|47.1460\n",
      "86015|RSLenn|FrontalExt|theta:(4, 7)/beta:(13, 30)|1.6858\n",
      "86015|RSLenn|FrontalExt|theta:(4, 7)|77.9794\n",
      "86015|RSLenn|FrontalExt|thetaLow:(3.5, 6)|78.2138\n",
      "86015|RSLenn|FrontalExt|thetaHigh:(6, 8.5)|101.7136\n",
      "86015|RSLenn|FrontalExt|alpha:(8, 13)|101.9882\n",
      "86015|RSLenn|FrontalExt|beta:(13, 30)|46.2564\n",
      "86016|RSLenn|Frontal|theta:(4, 7)/beta:(13, 30)|1.7515\n",
      "86016|RSLenn|Frontal|theta:(4, 7)|76.1574\n",
      "86016|RSLenn|Frontal|thetaLow:(3.5, 6)|77.2175\n",
      "86016|RSLenn|Frontal|thetaHigh:(6, 8.5)|69.3611\n",
      "86016|RSLenn|Frontal|alpha:(8, 13)|58.1949\n",
      "86016|RSLenn|Frontal|beta:(13, 30)|43.4801\n",
      "86016|RSLenn|FrontalExt|theta:(4, 7)/beta:(13, 30)|1.7536\n",
      "86016|RSLenn|FrontalExt|theta:(4, 7)|62.9383\n",
      "86016|RSLenn|FrontalExt|thetaLow:(3.5, 6)|65.0403\n",
      "86016|RSLenn|FrontalExt|thetaHigh:(6, 8.5)|57.8901\n",
      "86016|RSLenn|FrontalExt|alpha:(8, 13)|48.3229\n",
      "86016|RSLenn|FrontalExt|beta:(13, 30)|35.8908\n",
      "86017|RSLenn|Frontal|theta:(4, 7)/beta:(13, 30)|3.6352\n",
      "86017|RSLenn|Frontal|theta:(4, 7)|254.9038\n",
      "86017|RSLenn|Frontal|thetaLow:(3.5, 6)|275.3957\n",
      "86017|RSLenn|Frontal|thetaHigh:(6, 8.5)|199.1837\n",
      "86017|RSLenn|Frontal|alpha:(8, 13)|145.6280\n",
      "86017|RSLenn|Frontal|beta:(13, 30)|70.1205\n",
      "86017|RSLenn|FrontalExt|theta:(4, 7)/beta:(13, 30)|3.3599\n",
      "86017|RSLenn|FrontalExt|theta:(4, 7)|182.6744\n",
      "86017|RSLenn|FrontalExt|thetaLow:(3.5, 6)|196.2694\n",
      "86017|RSLenn|FrontalExt|thetaHigh:(6, 8.5)|147.7078\n",
      "86017|RSLenn|FrontalExt|alpha:(8, 13)|110.2102\n",
      "86017|RSLenn|FrontalExt|beta:(13, 30)|54.3683\n",
      "86018|RSLenn|Frontal|theta:(4, 7)/beta:(13, 30)|3.8857\n",
      "86018|RSLenn|Frontal|theta:(4, 7)|275.8097\n",
      "86018|RSLenn|Frontal|thetaLow:(3.5, 6)|281.1453\n",
      "86018|RSLenn|Frontal|thetaHigh:(6, 8.5)|212.5533\n",
      "86018|RSLenn|Frontal|alpha:(8, 13)|175.5617\n",
      "86018|RSLenn|Frontal|beta:(13, 30)|70.9804\n",
      "86018|RSLenn|FrontalExt|theta:(4, 7)/beta:(13, 30)|3.5259\n",
      "86018|RSLenn|FrontalExt|theta:(4, 7)|198.7128\n",
      "86018|RSLenn|FrontalExt|thetaLow:(3.5, 6)|199.0165\n",
      "86018|RSLenn|FrontalExt|thetaHigh:(6, 8.5)|147.3193\n",
      "86018|RSLenn|FrontalExt|alpha:(8, 13)|122.6409\n",
      "86018|RSLenn|FrontalExt|beta:(13, 30)|56.3575\n",
      "86019|RSLenn|Frontal|theta:(4, 7)/beta:(13, 30)|3.4049\n",
      "86019|RSLenn|Frontal|theta:(4, 7)|214.5411\n",
      "86019|RSLenn|Frontal|thetaLow:(3.5, 6)|245.8223\n",
      "86019|RSLenn|Frontal|thetaHigh:(6, 8.5)|159.0307\n",
      "86019|RSLenn|Frontal|alpha:(8, 13)|131.2391\n",
      "86019|RSLenn|Frontal|beta:(13, 30)|63.0091\n",
      "86019|RSLenn|FrontalExt|theta:(4, 7)/beta:(13, 30)|3.6030\n",
      "86019|RSLenn|FrontalExt|theta:(4, 7)|236.8657\n",
      "86019|RSLenn|FrontalExt|thetaLow:(3.5, 6)|279.1686\n",
      "86019|RSLenn|FrontalExt|thetaHigh:(6, 8.5)|168.5161\n",
      "86019|RSLenn|FrontalExt|alpha:(8, 13)|134.0271\n",
      "86019|RSLenn|FrontalExt|beta:(13, 30)|65.7404\n",
      "86020|RSLenn|Frontal|theta:(4, 7)/beta:(13, 30)|2.7834\n",
      "86020|RSLenn|Frontal|theta:(4, 7)|123.2441\n",
      "86020|RSLenn|Frontal|thetaLow:(3.5, 6)|127.4380\n",
      "86020|RSLenn|Frontal|thetaHigh:(6, 8.5)|96.1869\n",
      "86020|RSLenn|Frontal|alpha:(8, 13)|103.7495\n",
      "86020|RSLenn|Frontal|beta:(13, 30)|44.2787\n",
      "86020|RSLenn|FrontalExt|theta:(4, 7)/beta:(13, 30)|2.2893\n",
      "86020|RSLenn|FrontalExt|theta:(4, 7)|91.1091\n",
      "86020|RSLenn|FrontalExt|thetaLow:(3.5, 6)|92.4601\n",
      "86020|RSLenn|FrontalExt|thetaHigh:(6, 8.5)|79.2385\n",
      "86020|RSLenn|FrontalExt|alpha:(8, 13)|95.9054\n",
      "86020|RSLenn|FrontalExt|beta:(13, 30)|39.7983\n",
      "86022|RSLenn|Frontal|theta:(4, 7)/beta:(13, 30)|1.7439\n",
      "86022|RSLenn|Frontal|theta:(4, 7)|93.5990\n",
      "86022|RSLenn|Frontal|thetaLow:(3.5, 6)|100.5155\n",
      "86022|RSLenn|Frontal|thetaHigh:(6, 8.5)|79.2410\n",
      "86022|RSLenn|Frontal|alpha:(8, 13)|63.3971\n",
      "86022|RSLenn|Frontal|beta:(13, 30)|53.6724\n",
      "86022|RSLenn|FrontalExt|theta:(4, 7)/beta:(13, 30)|2.2214\n",
      "86022|RSLenn|FrontalExt|theta:(4, 7)|78.9694\n",
      "86022|RSLenn|FrontalExt|thetaLow:(3.5, 6)|81.7898\n",
      "86022|RSLenn|FrontalExt|thetaHigh:(6, 8.5)|71.0064\n",
      "86022|RSLenn|FrontalExt|alpha:(8, 13)|51.7571\n",
      "86022|RSLenn|FrontalExt|beta:(13, 30)|35.5497\n"
     ]
    },
    {
     "data": {
      "text/plain": [
       "<Figure size 432x288 with 0 Axes>"
      ]
     },
     "metadata": {},
     "output_type": "display_data"
    },
    {
     "data": {
      "text/plain": [
       "<Figure size 432x288 with 0 Axes>"
      ]
     },
     "metadata": {},
     "output_type": "display_data"
    },
    {
     "data": {
      "text/plain": [
       "<Figure size 432x288 with 0 Axes>"
      ]
     },
     "metadata": {},
     "output_type": "display_data"
    },
    {
     "data": {
      "text/plain": [
       "<Figure size 432x288 with 0 Axes>"
      ]
     },
     "metadata": {},
     "output_type": "display_data"
    },
    {
     "data": {
      "text/plain": [
       "<Figure size 432x288 with 0 Axes>"
      ]
     },
     "metadata": {},
     "output_type": "display_data"
    },
    {
     "data": {
      "text/plain": [
       "<Figure size 432x288 with 0 Axes>"
      ]
     },
     "metadata": {},
     "output_type": "display_data"
    },
    {
     "data": {
      "text/plain": [
       "<Figure size 432x288 with 0 Axes>"
      ]
     },
     "metadata": {},
     "output_type": "display_data"
    },
    {
     "data": {
      "text/plain": [
       "<Figure size 432x288 with 0 Axes>"
      ]
     },
     "metadata": {},
     "output_type": "display_data"
    },
    {
     "data": {
      "text/plain": [
       "<Figure size 432x288 with 0 Axes>"
      ]
     },
     "metadata": {},
     "output_type": "display_data"
    },
    {
     "data": {
      "text/plain": [
       "<Figure size 432x288 with 0 Axes>"
      ]
     },
     "metadata": {},
     "output_type": "display_data"
    },
    {
     "data": {
      "text/plain": [
       "<Figure size 432x288 with 0 Axes>"
      ]
     },
     "metadata": {},
     "output_type": "display_data"
    },
    {
     "data": {
      "text/plain": [
       "<Figure size 432x288 with 0 Axes>"
      ]
     },
     "metadata": {},
     "output_type": "display_data"
    },
    {
     "data": {
      "text/plain": [
       "<Figure size 432x288 with 0 Axes>"
      ]
     },
     "metadata": {},
     "output_type": "display_data"
    },
    {
     "data": {
      "text/plain": [
       "<Figure size 432x288 with 0 Axes>"
      ]
     },
     "metadata": {},
     "output_type": "display_data"
    },
    {
     "data": {
      "text/plain": [
       "<Figure size 432x288 with 0 Axes>"
      ]
     },
     "metadata": {},
     "output_type": "display_data"
    },
    {
     "data": {
      "text/plain": [
       "<Figure size 432x288 with 0 Axes>"
      ]
     },
     "metadata": {},
     "output_type": "display_data"
    },
    {
     "data": {
      "text/plain": [
       "<Figure size 432x288 with 0 Axes>"
      ]
     },
     "metadata": {},
     "output_type": "display_data"
    },
    {
     "data": {
      "text/plain": [
       "<Figure size 432x288 with 0 Axes>"
      ]
     },
     "metadata": {},
     "output_type": "display_data"
    },
    {
     "data": {
      "text/plain": [
       "<Figure size 432x288 with 0 Axes>"
      ]
     },
     "metadata": {},
     "output_type": "display_data"
    },
    {
     "data": {
      "text/plain": [
       "<Figure size 432x288 with 0 Axes>"
      ]
     },
     "metadata": {},
     "output_type": "display_data"
    },
    {
     "data": {
      "text/plain": [
       "<Figure size 432x288 with 0 Axes>"
      ]
     },
     "metadata": {},
     "output_type": "display_data"
    },
    {
     "data": {
      "text/plain": [
       "<Figure size 432x288 with 0 Axes>"
      ]
     },
     "metadata": {},
     "output_type": "display_data"
    },
    {
     "data": {
      "text/plain": [
       "<Figure size 432x288 with 0 Axes>"
      ]
     },
     "metadata": {},
     "output_type": "display_data"
    },
    {
     "data": {
      "text/plain": [
       "<Figure size 432x288 with 0 Axes>"
      ]
     },
     "metadata": {},
     "output_type": "display_data"
    },
    {
     "data": {
      "text/plain": [
       "<Figure size 432x288 with 0 Axes>"
      ]
     },
     "metadata": {},
     "output_type": "display_data"
    },
    {
     "data": {
      "text/plain": [
       "<Figure size 432x288 with 0 Axes>"
      ]
     },
     "metadata": {},
     "output_type": "display_data"
    },
    {
     "data": {
      "text/plain": [
       "<Figure size 432x288 with 0 Axes>"
      ]
     },
     "metadata": {},
     "output_type": "display_data"
    },
    {
     "data": {
      "text/plain": [
       "<Figure size 432x288 with 0 Axes>"
      ]
     },
     "metadata": {},
     "output_type": "display_data"
    },
    {
     "data": {
      "text/plain": [
       "<Figure size 432x288 with 0 Axes>"
      ]
     },
     "metadata": {},
     "output_type": "display_data"
    },
    {
     "data": {
      "text/plain": [
       "<Figure size 432x288 with 0 Axes>"
      ]
     },
     "metadata": {},
     "output_type": "display_data"
    },
    {
     "data": {
      "text/plain": [
       "<Figure size 432x288 with 0 Axes>"
      ]
     },
     "metadata": {},
     "output_type": "display_data"
    },
    {
     "data": {
      "text/plain": [
       "<Figure size 432x288 with 0 Axes>"
      ]
     },
     "metadata": {},
     "output_type": "display_data"
    },
    {
     "data": {
      "text/plain": [
       "<Figure size 432x288 with 0 Axes>"
      ]
     },
     "metadata": {},
     "output_type": "display_data"
    },
    {
     "data": {
      "text/plain": [
       "<Figure size 432x288 with 0 Axes>"
      ]
     },
     "metadata": {},
     "output_type": "display_data"
    },
    {
     "data": {
      "text/plain": [
       "<Figure size 432x288 with 0 Axes>"
      ]
     },
     "metadata": {},
     "output_type": "display_data"
    },
    {
     "data": {
      "text/plain": [
       "<Figure size 432x288 with 0 Axes>"
      ]
     },
     "metadata": {},
     "output_type": "display_data"
    },
    {
     "data": {
      "text/plain": [
       "<Figure size 432x288 with 0 Axes>"
      ]
     },
     "metadata": {},
     "output_type": "display_data"
    },
    {
     "data": {
      "text/plain": [
       "<Figure size 432x288 with 0 Axes>"
      ]
     },
     "metadata": {},
     "output_type": "display_data"
    },
    {
     "data": {
      "text/plain": [
       "<Figure size 432x288 with 0 Axes>"
      ]
     },
     "metadata": {},
     "output_type": "display_data"
    },
    {
     "data": {
      "text/plain": [
       "<Figure size 432x288 with 0 Axes>"
      ]
     },
     "metadata": {},
     "output_type": "display_data"
    }
   ],
   "source": [
    "NFFT=1024    \n",
    "fs =250\n",
    "# Hanning window of one second width and 50% overlap\n",
    "#windowFilter = signal.hamming(int(WindowSize/sample_interval))\n",
    "windowFilter = signal.windows.hann(int(WindowSize/sample_interval))\n",
    "\n",
    "WindowSize = 1000\n",
    "OverLap = 50\n",
    "fVals = np.arange(start = -NFFT/2,stop = NFFT/2)*fs/NFFT\n",
    "for result in sorted(result_map.keys()):\n",
    "    for indSite in range(len(SiteListNames)):\n",
    "        waveform = average_channel_values(result_map[result], SiteListLoc[indSite])\n",
    "        waveformFFT=[]\n",
    "        end = 0\n",
    "        while (end<=len(waveform)- int(OverLap * WindowSize/100)):#len(waveform):\n",
    "            start = max(0,end - int(OverLap * WindowSize/100) )\n",
    "            end = start + WindowSize\n",
    "            WindowIndex=(np.arange(start=start, stop=end-1,step=sample_interval ))\n",
    "            waveformWindow = waveform[WindowIndex]\n",
    "            waveformFFT.append(fftshift(fft(waveformWindow*windowFilter,NFFT)))\n",
    "        #    print(np.arange(start=start, stop=end-1,step=sample_interval ))\n",
    "        meanwavefromFFT = np.mean(np.abs(waveformFFT),axis = 0)\n",
    "        save_figure_fft(meanwavefromFFT,fVals, result, SiteListNames[indSite])\n",
    "\n",
    "        # Theta/beta:\n",
    "        indtetha = [indFreq for indFreq in range(len(FreqListNames)) if FreqListNames[indFreq]=='theta']\n",
    "        indbeta = [indFreq for indFreq in range(len(FreqListNames)) if FreqListNames[indFreq]=='beta']\n",
    "        freqindtheta = [indf for indf in range(len(fVals))  if (fVals[indf]>=FreqListRange[indtetha[0]][0] and fVals[indf]<=FreqListRange[indtetha[0]][1])]\n",
    "        freqindbeta = [indf for indf in range(len(fVals))  if (fVals[indf]>=FreqListRange[indbeta[0]][0] and fVals[indf]<=FreqListRange[indbeta[0]][1])]\n",
    "        print(result.subject[result.subject.rfind('\\\\',)+1:]+'|'+result.condition+'|'+SiteListNames[indSite]+\n",
    "              '|'+FreqListNames[indtetha[0]]+':'+str(FreqListRange[indtetha[0]])+'/'+FreqListNames[indbeta[0]]+\n",
    "              ':'+str(FreqListRange[indbeta[0]])+'|'+'{:.4f}'.format(np.mean(meanwavefromFFT[freqindtheta])/np.mean(meanwavefromFFT[freqindbeta])))\n",
    "\n",
    "        for indFreq in range(len(FreqListNames)):\n",
    "            freqind = [indf for indf in range(len(fVals))  if (fVals[indf]>=FreqListRange[indFreq][0] and fVals[indf]<=FreqListRange[indFreq][1])]\n",
    "            print(result.subject[result.subject.rfind('\\\\',)+1:]+'|'+result.condition+'|'+SiteListNames[indSite]+'|'+FreqListNames[indFreq]+':'+str(FreqListRange[indFreq])+'|'+'{:.4f}'.format(np.mean(meanwavefromFFT[freqind])))\n",
    "                          \n"
   ]
  }
 ],
 "metadata": {
  "anaconda-cloud": {},
  "kernelspec": {
   "display_name": "Python 3",
   "language": "python",
   "name": "python3"
  },
  "language_info": {
   "codemirror_mode": {
    "name": "ipython",
    "version": 3
   },
   "file_extension": ".py",
   "mimetype": "text/x-python",
   "name": "python",
   "nbconvert_exporter": "python",
   "pygments_lexer": "ipython3",
   "version": "3.8.8"
  }
 },
 "nbformat": 4,
 "nbformat_minor": 1
}
