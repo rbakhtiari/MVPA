{
 "cells": [
  {
   "cell_type": "markdown",
   "id": "15a0d7b8",
   "metadata": {},
   "source": [
    "# Introduction\n",
    "In this file, whole brain MVPA is applied on Z-stat files from first level analysis I have done on naive space, ART applied images, with each stimuli giving one Z-stat image.\n",
    "\n",
    "MPVA is applied for all voxels of the brain. For each participant, data is split into the number of runs, with data from one run is used for test, and the rest is used for training. \n",
    "\n",
    "## Future works\n",
    "Testing on various types of classifers, wokring on classifier performance are works to be done.\n",
    "    "
   ]
  },
  {
   "cell_type": "code",
   "execution_count": 6,
   "id": "595ae782",
   "metadata": {},
   "outputs": [],
   "source": [
    "import os\n",
    "import glob\n",
    "import numpy as np\n",
    "import pandas as pd\n",
    "import os.path as op\n",
    "import warnings\n",
    "import matplotlib.pyplot as plt\n",
    "plt.style.use('classic')\n",
    "warnings.filterwarnings(\"ignore\")\n",
    "from scipy.io import loadmat\n",
    "from glob import glob\n",
    "import nibabel as nib\n",
    "import math\n",
    "import itertools\n",
    "import timeit\n",
    "from timeit import default_timer as timer\n",
    "\n",
    "%matplotlib inline"
   ]
  },
  {
   "cell_type": "code",
   "execution_count": 7,
   "id": "a4c3d1a3",
   "metadata": {},
   "outputs": [],
   "source": [
    "from sklearn.preprocessing import StandardScaler\n",
    "from sklearn.svm import SVC\n",
    "#from sklearn.svm import LinearSVC\n",
    "\n",
    "from sklearn.discriminant_analysis import LinearDiscriminantAnalysis\n",
    "from sklearn.metrics import accuracy_score\n",
    "from sklearn.model_selection import train_test_split\n",
    "from sklearn.metrics import roc_auc_score\n",
    "from sklearn.model_selection import GroupKFold\n",
    "from sklearn.decomposition import PCA\n",
    "from sklearn.feature_selection import SelectKBest, f_classif\n",
    "from sklearn.pipeline import Pipeline\n",
    "from sklearn.multioutput import MultiOutputClassifier"
   ]
  },
  {
   "cell_type": "code",
   "execution_count": 8,
   "id": "3dfba78a",
   "metadata": {},
   "outputs": [],
   "source": [
    "subj_list_file='C://Users/user/Documents/Reyhaneh/EEG+fMRI/EO/subj_simultaneous.txt'\n",
    "subj_list=list()\n",
    "f = open(subj_list_file, 'r')\n",
    "line=f.readline()\n",
    "while line:\n",
    "    subj_list.append(line[0:-1])\n",
    "    oldline=line\n",
    "    line = f.readline()\n",
    "subj_list.pop()\n",
    "subj_list.append(oldline)\n",
    "f.close()\n",
    "Nsubj=len(subj_list)"
   ]
  },
  {
   "cell_type": "code",
   "execution_count": 9,
   "id": "5da5fcb4",
   "metadata": {},
   "outputs": [],
   "source": [
    "# note: I don't know why the last item is repeated! but it doesn't make a misatke\n",
    "\n",
    "conditions=['Neu','Neg','Pos','Targ']\n",
    "ZstatInfo=pd.DataFrame(columns=['Subj','Run','Folder']+conditions)\n",
    "for subj in subj_list:\n",
    "    #print('Participant: '+subj)\n",
    "    # Zstat files and their condisitons are in SPM filesWe repeat loading in the dataframe to avoid dividing the onsets by 2 multiple times ...\n",
    "    SubjSPMFolder='C://Users/user/Documents/Reyhaneh/EEG+fMRI/EO/MRI_data/Analysis/SPM/'+subj+'/3cond_dist2/'\n",
    "    os.path.isdir(SubjSPMFolder)\n",
    "    myZstat=[]\n",
    "    \n",
    "    nRuns = len(os.listdir(SubjSPMFolder))\n",
    "    iRuns = 0\n",
    "    for myRun in os.listdir(SubjSPMFolder):\n",
    "        ZstatInfotmp=pd.DataFrame(columns=ZstatInfo.columns,index=[0])\n",
    "        ZstatInfotmp['Subj'][0]=subj\n",
    "        \n",
    "        RunSubjSPM=SubjSPMFolder+myRun+'/SPM.mat'\n",
    "        ZstatInfotmp['Folder'][0]=SubjSPMFolder+myRun+'/'\n",
    "\n",
    "        #print('   loading SPM.mat for '+myRun+'...')\n",
    "        mat = loadmat(RunSubjSPM)\n",
    "        mdata=mat['SPM'][0,0]\n",
    "        ndata=mdata['Sess'][0,0]\n",
    "        odata=ndata['U']\n",
    "        pdata=odata['name'][0]\n",
    "        ZstatNames=[pdata[i][0,0][0] for i in range(len(pdata))]\n",
    "        myZstat.append(ZstatNames)\n",
    "\n",
    "        ZstatInfotmp['Run'][0]=iRuns+1\n",
    "        old_ind=len(myZstat[0])+1\n",
    "        for iCond in reversed(conditions):    \n",
    "            Start_ind=myZstat[0].index(iCond+'_1')+1\n",
    "            #print(Start_ind)\n",
    "            ZstatInfotmp[iCond][0]=['spmT_'+str(val).zfill(4)+'.nii' for val in list(range(Start_ind, old_ind))]#list(range(Start_ind, old_ind))\n",
    "            old_ind=Start_ind\n",
    "        ZstatInfo=ZstatInfo.append(ZstatInfotmp,ignore_index=True)\n",
    "        iRuns = iRuns+1\n",
    " "
   ]
  },
  {
   "cell_type": "code",
   "execution_count": 10,
   "id": "42cc2107",
   "metadata": {},
   "outputs": [
    {
     "name": "stdout",
     "output_type": "stream",
     "text": [
      "C://Users/user/Documents/Reyhaneh/EEG+fMRI/EO/MRI_data/Analysis/SPM/TP_05162014/3cond_dist2/run01/spmT_0001.nii\n",
      "(64, 64, 28)\n"
     ]
    }
   ],
   "source": [
    "# find Voxel dimension by openning a file\n",
    "MyZstat=ZstatInfo.loc[(ZstatInfo['Subj']==subj) & (ZstatInfo['Run']==1)]\n",
    "MyZstat.reset_index(inplace = True, drop = True)\n",
    "MyFile=MyZstat['Folder'][0]+MyZstat['Neu'][0][0]\n",
    "print(MyFile)\n",
    "data = nib.load(MyFile).get_data()\n",
    "voxel_dims = data.shape\n",
    "print(voxel_dims)\n"
   ]
  },
  {
   "cell_type": "code",
   "execution_count": 33,
   "id": "cbf3d252",
   "metadata": {},
   "outputs": [
    {
     "data": {
      "text/plain": [
       "0      AB_04152014\n",
       "1      AB_04152014\n",
       "2      AB_04152014\n",
       "3      AB_04152014\n",
       "4      AB_04152014\n",
       "          ...     \n",
       "117    TP_05162014\n",
       "118    TP_05162014\n",
       "119    TP_05162014\n",
       "120    TP_05162014\n",
       "121    TP_05162014\n",
       "Name: Subj, Length: 122, dtype: object"
      ]
     },
     "execution_count": 33,
     "metadata": {},
     "output_type": "execute_result"
    }
   ],
   "source": [
    "ZstatInfo['Subj']"
   ]
  },
  {
   "cell_type": "code",
   "execution_count": 46,
   "id": "5c19448f",
   "metadata": {},
   "outputs": [
    {
     "name": "stdout",
     "output_type": "stream",
     "text": [
      "C://Users/user/Documents/Reyhaneh/EEG+fMRI/EO/MRI_data/Analysis/SPM/AB_04152014/3cond_dist2/run05/spmT_0011.nii\n"
     ]
    }
   ],
   "source": [
    "MyZstat=ZstatInfo.loc[(ZstatInfo['Subj']=='AB_04152014') & (ZstatInfo['Run']==5)]\n",
    "MyZstat.reset_index(inplace = True, drop = True)\n",
    "MyFile3=MyZstat['Folder'][0]+MyZstat['Neg'][0][4]\n",
    "print(MyFile3)\n",
    "hdr3=nib.load(MyFile3).header.structarr"
   ]
  },
  {
   "cell_type": "code",
   "execution_count": 50,
   "id": "557c4b2c",
   "metadata": {},
   "outputs": [],
   "source": [
    "mydata=nib.load(MyFile3).get_data()\n",
    "img_affine=nib.load(MyFile3).affine\n",
    "nft_img = nib.Nifti1Image(mydata, img_affine)\n",
    "nib.save(nft_img, 'C://Users/user/Documents/Reyhaneh/EEG+fMRI/EO/MRI_data/tmp.nii.gz')\n",
    "#img = nib.Nifti1Image(nib.load(MyFile3).get_data(), hdr3)"
   ]
  },
  {
   "cell_type": "code",
   "execution_count": 40,
   "id": "9f4fa830",
   "metadata": {},
   "outputs": [
    {
     "data": {
      "text/plain": [
       "array((348, b'', b'', 0, 0, b'r', 0, [ 3, 64, 64, 28,  1,  1,  1,  1], 0., 0., 0., 0, 16, 32, 0, [-1.,  4.,  4.,  4.,  0.,  0.,  0.,  0.], 0., nan, nan, 0, 0, 10, 0., 0., 0., 0., 0, 0, b'SPM{T_[109.0]} - contrast 14: Neg_6', b'', 2, 2, -0.01092714, 0.9963955, -0.08073097, 134.997, -150.5094, -6.896915, [-3.9945722e+00, -7.1830869e-02, -1.9553673e-01,  1.3499699e+02], [-1.0237324e-01,  3.9469049e+00,  6.4145285e-01, -1.5050940e+02], [-0.18142223, -0.64558685,  3.9433873 , -6.896915  ], b'', b'n+1'),\n",
       "      dtype=[('sizeof_hdr', '<i4'), ('data_type', 'S10'), ('db_name', 'S18'), ('extents', '<i4'), ('session_error', '<i2'), ('regular', 'S1'), ('dim_info', 'u1'), ('dim', '<i2', (8,)), ('intent_p1', '<f4'), ('intent_p2', '<f4'), ('intent_p3', '<f4'), ('intent_code', '<i2'), ('datatype', '<i2'), ('bitpix', '<i2'), ('slice_start', '<i2'), ('pixdim', '<f4', (8,)), ('vox_offset', '<f4'), ('scl_slope', '<f4'), ('scl_inter', '<f4'), ('slice_end', '<i2'), ('slice_code', 'u1'), ('xyzt_units', 'u1'), ('cal_max', '<f4'), ('cal_min', '<f4'), ('slice_duration', '<f4'), ('toffset', '<f4'), ('glmax', '<i4'), ('glmin', '<i4'), ('descrip', 'S80'), ('aux_file', 'S24'), ('qform_code', '<i2'), ('sform_code', '<i2'), ('quatern_b', '<f4'), ('quatern_c', '<f4'), ('quatern_d', '<f4'), ('qoffset_x', '<f4'), ('qoffset_y', '<f4'), ('qoffset_z', '<f4'), ('srow_x', '<f4', (4,)), ('srow_y', '<f4', (4,)), ('srow_z', '<f4', (4,)), ('intent_name', 'S16'), ('magic', 'S4')])"
      ]
     },
     "execution_count": 40,
     "metadata": {},
     "output_type": "execute_result"
    }
   ],
   "source": [
    "hdr=nib.load(MyFile).header\n",
    "hdr2=nib.load(MyFile2).header\n",
    "hdr2.structarr"
   ]
  },
  {
   "cell_type": "code",
   "execution_count": 31,
   "id": "18351be8",
   "metadata": {
    "scrolled": false
   },
   "outputs": [
    {
     "data": {
      "text/plain": [
       "array((348, b'', b'', 0, 0, b'r', 0, [ 3, 64, 64, 28,  1,  1,  1,  1], 0., 0., 0., 0, 16, 32, 0, [-1.,  4.,  4.,  4.,  0.,  0.,  0.,  0.], 0., nan, nan, 0, 0, 10, 0., 0., 0., 0., 0, 0, b'SPM{T_[114.0]} - contrast 1: Neu_1', b'', 2, 2, 0.00123516, 0.9880689, -0.15400483, 127.28155, -156.23947, -5.182937, [-3.99998140e+00,  1.08797550e-02, -5.64050674e-03,  1.27281555e+02], [ 8.6470842e-03,  3.8102479e+00,  1.2173480e+00, -1.5623947e+02], [-0.00868404, -1.2173302 ,  3.8102536 , -5.1829376 ], b'', b'n+1'),\n",
       "      dtype=[('sizeof_hdr', '<i4'), ('data_type', 'S10'), ('db_name', 'S18'), ('extents', '<i4'), ('session_error', '<i2'), ('regular', 'S1'), ('dim_info', 'u1'), ('dim', '<i2', (8,)), ('intent_p1', '<f4'), ('intent_p2', '<f4'), ('intent_p3', '<f4'), ('intent_code', '<i2'), ('datatype', '<i2'), ('bitpix', '<i2'), ('slice_start', '<i2'), ('pixdim', '<f4', (8,)), ('vox_offset', '<f4'), ('scl_slope', '<f4'), ('scl_inter', '<f4'), ('slice_end', '<i2'), ('slice_code', 'u1'), ('xyzt_units', 'u1'), ('cal_max', '<f4'), ('cal_min', '<f4'), ('slice_duration', '<f4'), ('toffset', '<f4'), ('glmax', '<i4'), ('glmin', '<i4'), ('descrip', 'S80'), ('aux_file', 'S24'), ('qform_code', '<i2'), ('sform_code', '<i2'), ('quatern_b', '<f4'), ('quatern_c', '<f4'), ('quatern_d', '<f4'), ('qoffset_x', '<f4'), ('qoffset_y', '<f4'), ('qoffset_z', '<f4'), ('srow_x', '<f4', (4,)), ('srow_y', '<f4', (4,)), ('srow_z', '<f4', (4,)), ('intent_name', 'S16'), ('magic', 'S4')])"
      ]
     },
     "execution_count": 31,
     "metadata": {},
     "output_type": "execute_result"
    }
   ],
   "source": [
    "hdr.structarr"
   ]
  },
  {
   "cell_type": "markdown",
   "id": "6135b713",
   "metadata": {},
   "source": [
    "## notes on AUC calculation for multilabel case:\n",
    "There are two options available: \n",
    "* multi_class='ovr'(One-vs-rest): Computes the AUC of each class against the rest, This treats the multiclass case in the same way as the multilabel case. \n",
    " * Sensitive to class imbalance even when average == 'macro', because class imbalance affects the composition of each of the ‘rest’ groupings.\n",
    "* multi_class='ovo'(One-vs-one): Computes the average AUC of all possible pairwise combinations of classes. \n",
    " * Insensitive to class imbalance when average == 'macro'.\n",
    " * In the pairwise AUC calculation, if a sample is labeled wrongly as a another class (not in paired), it will be dropped from the calculation, resulting in a higher rate\n",
    "\n",
    "Comparison results for 'AM_05082014':\n",
    "\n",
    "* Accuracy: [0.71, 0.75,0.57, 0.54, 0.54]\n",
    "* AUC, with multi_class='ovr':[0.83576389 0.89131944 0.84791667 0.83854167 0.78506944] \n",
    "* AUC, with multi_class='ovo': [0.81163194 0.875      0.81076389 0.7578125  0.72222222]\n",
    "* AUC, with multi_class='ovo', average = 'macro':[0.80381944 0.875      0.81597222 0.81336806 0.71354167]\n",
    "\n",
    "## Conclusion: \n",
    "Overall 'ovo' with average == 'macro' gives the lowest value, but still higher than accuracy calculations\n",
    "We use AUC and Accuracy for the purpose of this analysis"
   ]
  },
  {
   "cell_type": "code",
   "execution_count": 14,
   "id": "358685b8",
   "metadata": {},
   "outputs": [
    {
     "name": "stdout",
     "output_type": "stream",
     "text": [
      "Performance for participant#0 over all 5 folds: mean: 0.7218253968253968, std: 0.04981636724969173\n",
      "   Performance of each fold: [0.64087302 0.69444444 0.73293651 0.78174603 0.75912698]\n",
      "Performance for participant#1 over all 5 folds: mean: 0.7748263888888889, std: 0.06990644928212678\n",
      "   Performance of each fold: [0.85069444 0.77083333 0.82118056 0.64670139 0.78472222]\n",
      "Performance for participant#2 over all 5 folds: mean: 0.882638888888889, std: 0.027037666270899662\n",
      "   Performance of each fold: [0.91840278 0.90625    0.84809028 0.8828125  0.85763889]\n",
      "Performance for participant#3 over all 5 folds: mean: 0.8015625, std: 0.046802928132651335\n",
      "   Performance of each fold: [0.81597222 0.71527778 0.84548611 0.79340278 0.83767361]\n",
      "Performance for participant#4 over all 5 folds: mean: 0.8345486111111111, std: 0.029121161592030195\n",
      "   Performance of each fold: [0.83767361 0.79427083 0.81857639 0.83940972 0.8828125 ]\n",
      "Performance for participant#5 over all 8 folds: mean: 0.8332407407407407, std: 0.02389229806279707\n",
      "   Performance of each fold: [0.82296296 0.81333333 0.83185185 0.81185185 0.82       0.86592593\n",
      " 0.82       0.88      ]\n",
      "Performance for participant#6 over all 8 folds: mean: 0.7903703703703704, std: 0.046738627644903594\n",
      "   Performance of each fold: [0.78518519 0.79333333 0.73777778 0.82074074 0.79185185 0.82074074\n",
      " 0.86666667 0.70666667]\n",
      "Performance for participant#7 over all 5 folds: mean: 0.7934027777777779, std: 0.05616259069313129\n",
      "   Performance of each fold: [0.79774306 0.84722222 0.72222222 0.73784722 0.86197917]\n",
      "Performance for participant#8 over all 5 folds: mean: 0.7538095238095238, std: 0.020866526844561317\n",
      "   Performance of each fold: [0.78730159 0.73809524 0.76190476 0.7265873  0.75515873]\n",
      "Performance for participant#9 over all 5 folds: mean: 0.8213541666666666, std: 0.038919104085379984\n",
      "   Performance of each fold: [0.81944444 0.85416667 0.8359375  0.74739583 0.84982639]\n",
      "Performance for participant#10 over all 5 folds: mean: 0.7921875, std: 0.043147163968071583\n",
      "   Performance of each fold: [0.82465278 0.81510417 0.75173611 0.73003472 0.83940972]\n",
      "Performance for participant#11 over all 5 folds: mean: 0.7126736111111112, std: 0.04442545167100544\n",
      "   Performance of each fold: [0.75173611 0.73958333 0.62847222 0.73524306 0.70833333]\n",
      "Performance for participant#12 over all 5 folds: mean: 0.746875, std: 0.048354979986617426\n",
      "   Performance of each fold: [0.78819444 0.74479167 0.65451389 0.76909722 0.77777778]\n",
      "Performance for participant#13 over all 5 folds: mean: 0.7592013888888889, std: 0.06515992982251677\n",
      "   Performance of each fold: [0.8359375  0.82725694 0.75607639 0.67013889 0.70659722]\n",
      "Performance for participant#14 over all 5 folds: mean: 0.7630208333333333, std: 0.06792610988655966\n",
      "   Performance of each fold: [0.71961806 0.67708333 0.73263889 0.85069444 0.83506944]\n",
      "Performance for participant#15 over all 5 folds: mean: 0.7878472222222221, std: 0.029368514519153517\n",
      "   Performance of each fold: [0.77256944 0.78819444 0.83333333 0.74479167 0.80034722]\n",
      "Performance for participant#16 over all 5 folds: mean: 0.5977430555555555, std: 0.06517842986684635\n",
      "   Performance of each fold: [0.52517361 0.68576389 0.56336806 0.54861111 0.66579861]\n",
      "Performance for participant#17 over all 8 folds: mean: 0.8097222222222222, std: 0.03793257591438638\n",
      "   Performance of each fold: [0.78148148 0.81481481 0.85481481 0.73037037 0.85333333 0.79851852\n",
      " 0.81925926 0.82518519]\n",
      "Performance for participant#18 over all 5 folds: mean: 0.6875, std: 0.05932573898677676\n",
      "   Performance of each fold: [0.66059028 0.73090278 0.66840278 0.77430556 0.60329861]\n",
      "Performance for participant#19 over all 5 folds: mean: 0.7565972222222221, std: 0.05533975012297074\n",
      "   Performance of each fold: [0.76215278 0.69184028 0.71701389 0.7578125  0.85416667]\n",
      "Performance for participant#20 over all 8 folds: mean: 0.782962962962963, std: 0.07515507516036023\n",
      "   Performance of each fold: [0.76592593 0.75925926 0.87037037 0.73555556 0.72148148 0.92740741\n",
      " 0.79851852 0.68518519]\n",
      "Performance for participant#21 over all 5 folds: mean: 0.7965277777777777, std: 0.04349504082523536\n",
      "   Performance of each fold: [0.77864583 0.80208333 0.74392361 0.875      0.78298611]\n",
      "\n",
      "Average performance mean (std): 0.773 (0.057)\n"
     ]
    }
   ],
   "source": [
    "# This code does classification based on whole brain volume\n",
    "CLconditions=['Neu','Neg','Targ']\n",
    "\n",
    "select100best = SelectKBest(f_classif, k=100)\n",
    "##LinearSVC(random_state=0))\n",
    "clf = SVC(kernel='linear',probability=True)\n",
    "pipe = Pipeline([('scaler', StandardScaler()), ('ufs', select100best), ('clf', clf)])\n",
    "\n",
    "#subj_list_one=[subj_list[1]]; \n",
    "Nsubj=len(subj_list)\n",
    "all_performance = np.zeros(Nsubj)\n",
    "for i_sub, subj in enumerate(subj_list):\n",
    "    X=np.empty((0, np.prod(voxel_dims)), int)\n",
    "    Y=np.array([])    \n",
    "    Gr=np.array([])    \n",
    "    for iRun in ZstatInfo.loc[ZstatInfo['Subj']==subj]['Run']:\n",
    "        MyZstat=ZstatInfo.loc[(ZstatInfo['Subj']==subj) & (ZstatInfo['Run']==iRun)]\n",
    "        MyZstat.reset_index(inplace = True, drop = True)\n",
    "        #MyZstat=MyZstat.loc[0]\n",
    "        X_run=np.empty((0, np.prod(voxel_dims)), int)\n",
    "        Y_run=np.array([])\n",
    "        Gr_run=np.array([])\n",
    "        for iCond,CondName in enumerate(CLconditions):\n",
    "            #print(MyZstat[CondName][0])\n",
    "            X_tmp = np.zeros((len(MyZstat[CondName][0]), np.prod(voxel_dims)))\n",
    "            Y_tmp = np.zeros(len(MyZstat[CondName][0]))\n",
    "            for MyInd,MyNii in enumerate(MyZstat[CondName][0]):\n",
    "                MyFile=MyZstat['Folder'][0]+MyNii\n",
    "                data = nib.load(MyFile).get_data()\n",
    "                dataR = data.ravel()\n",
    "                X_tmp[MyInd,:] = dataR\n",
    "                Y_tmp[MyInd]=int(iCond)+1\n",
    "                \n",
    "            X_run=np.concatenate((X_run,X_tmp),axis = 0)\n",
    "            Y_run=np.concatenate((Y_run,Y_tmp),axis = 0)\n",
    "            Gr_run=np.concatenate((Gr_run,np.repeat(iRun,Y_tmp.shape)),axis = 0)\n",
    "            #print(Y.shape)\n",
    "        X=np.concatenate((X,X_run),axis = 0)\n",
    "        Y=np.concatenate((Y,Y_run),axis = 0)\n",
    "        Gr=np.concatenate((Gr,Gr_run),axis = 0)\n",
    "\n",
    "    # print(Gr)\n",
    "    gkf = GroupKFold(n_splits=iRun) # leave one out, initialize GroupKFold with Nrun-1 splits\n",
    "    performance_this_fold = np.zeros(gkf.n_splits)\n",
    "    for i_fold, (train_idx, test_idx) in enumerate(gkf.split(X=X, y=Y, groups=Gr)):\n",
    "        # print(\"Indices of our test-samples: %r\" % test_idx.tolist())\n",
    "        # print(\"... which correspond to following runs: %r\" % Gr[test_idx].tolist(), '\\n')\n",
    "        # Implement your ToDo here!\n",
    "        X_test, X_train=X[test_idx], X[train_idx]\n",
    "        Y_test, Y_train=Y[test_idx], Y[train_idx]\n",
    "        \n",
    "        pipe.fit(X_train, Y_train)\n",
    "        preds = pipe.predict(X_test)\n",
    "#         print('TRUE:',Y_test)\n",
    "#         print('Pred:',preds)\n",
    "#         print(\"Accuracy test: %.2f\" % (preds == Y_test).mean())\n",
    "\n",
    "#        performance = roc_auc_score(Y_test,  pipe.predict_proba(X_test), multi_class='ovr') # 'ovr'(One-vs-rest): Computes the AUC of each class against the rest, This treats the multiclass case in the same way as the multilabel case. Sensitive to class imbalance even when average == 'macro', because class imbalance affects the composition of each of the ‘rest’ groupings.\n",
    "        # in the pairwise AUC calculation, if a sample is labeled wrongly as a another class (not in paired), it will be dropped from the calculation, resulting in a higher rate\n",
    "        performance = roc_auc_score(Y_test,  pipe.predict_proba(X_test),  multi_class='ovo', average = 'macro') # 'ovo' (One-vs-one) Computes the average AUC of all possible pairwise combinations of classes. Insensitive to class imbalance when average == 'macro'.\n",
    "\n",
    "        performance_this_fold[i_fold] = performance\n",
    "        \n",
    "    \n",
    "\n",
    "    mean_performance_this_participant = performance_this_fold.mean()\n",
    "    print(f'Performance for participant#{i_sub} over all {i_fold+1} folds: mean: {mean_performance_this_participant}, std: { performance_this_fold.std()}')\n",
    "    print(f'   Performance of each fold: {performance_this_fold}')\n",
    "    all_performance[i_sub] = mean_performance_this_participant\n",
    "\n",
    "print('\\nAverage performance mean (std): %.3f (%.3f)' % (all_performance.mean(), all_performance.std()))"
   ]
  }
 ],
 "metadata": {
  "kernelspec": {
   "display_name": "Python 3 (ipykernel)",
   "language": "python",
   "name": "python3"
  },
  "language_info": {
   "codemirror_mode": {
    "name": "ipython",
    "version": 3
   },
   "file_extension": ".py",
   "mimetype": "text/x-python",
   "name": "python",
   "nbconvert_exporter": "python",
   "pygments_lexer": "ipython3",
   "version": "3.11.1"
  }
 },
 "nbformat": 4,
 "nbformat_minor": 5
}
