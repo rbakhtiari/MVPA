{
 "cells": [
  {
   "cell_type": "markdown",
   "id": "05468f51",
   "metadata": {},
   "source": [
    "# Mulitprocessing,\n",
    "# Class,\n",
    "# Parallel Processing"
   ]
  },
  {
   "cell_type": "markdown",
   "id": "e14196ba",
   "metadata": {},
   "source": [
    "## \\__init__ method\n",
    "The \\__init__ method is similar to constructors in C++ and Java. Constructors are used to initialize the object’s state. Like methods, a constructor also contains a collection of statements(i.e. instructions) that are executed at the time of Object creation. It runs as soon as an object of a class is instantiated. The method is useful to do any initialization you want to do with your object."
   ]
  },
  {
   "cell_type": "code",
   "execution_count": 1,
   "id": "0d1595fd",
   "metadata": {},
   "outputs": [
    {
     "name": "stdout",
     "output_type": "stream",
     "text": [
      "brown\n",
      "pug5\n",
      "brown\n"
     ]
    }
   ],
   "source": [
    "\n",
    "# Python3 program to show that we can create\n",
    "# instance variables inside methods\n",
    " \n",
    "# Class for Dog\n",
    " \n",
    " \n",
    "class Dog:\n",
    " \n",
    "    # Class Variable\n",
    "    animal = 'dog'\n",
    " \n",
    "    # The init method or constructor\n",
    "    def __init__(self, breed):\n",
    " \n",
    "        # Instance Variable\n",
    "        self.breed = breed\n",
    " \n",
    "    # Adds an instance variable\n",
    "    def setColor(self, color):\n",
    "        self.color = color\n",
    " \n",
    "    # Retrieves instance variable\n",
    "    def getColor(self):\n",
    "        return self.color\n",
    " \n",
    "    def getBreed(self):\n",
    "        return self.breed\n",
    "    \n",
    "# Driver Code\n",
    "Rodger = Dog(\"pug5\")\n",
    "Rodger.setColor(\"brown\")\n",
    "print(Rodger.getColor())\n",
    "print(Rodger.getBreed())\n",
    "print(Rodger.color)"
   ]
  },
  {
   "cell_type": "code",
   "execution_count": 2,
   "id": "da7194eb",
   "metadata": {},
   "outputs": [
    {
     "name": "stdout",
     "output_type": "stream",
     "text": [
      "Hello, my name is Nikhil\n",
      "Hello, my name is Abhinav\n",
      "Hello, my name is Anshul\n"
     ]
    },
    {
     "data": {
      "text/plain": [
       "'Nikhil'"
      ]
     },
     "execution_count": 2,
     "metadata": {},
     "output_type": "execute_result"
    }
   ],
   "source": [
    "\n",
    "# A Sample class with init method\n",
    "class Person:\n",
    " \n",
    "    # init method or constructor\n",
    "    def __init__(self, name):\n",
    "        self.name = name\n",
    " \n",
    "    # Sample Method\n",
    "    def say_hi(self):\n",
    "        print('Hello, my name is', self.name)\n",
    " \n",
    " \n",
    "# Creating different objects\n",
    "p1 = Person('Nikhil')\n",
    "p2 = Person('Abhinav')\n",
    "p3 = Person('Anshul')\n",
    " \n",
    "p1.say_hi()\n",
    "p2.say_hi()\n",
    "p3.say_hi()\n",
    "\n",
    "p1.name"
   ]
  },
  {
   "cell_type": "markdown",
   "id": "9f33f353",
   "metadata": {},
   "source": [
    "# \\__init__ with inheritance\n",
    "\n",
    "Inheritance is the capability of one class to derive or inherit the properties from some other class. Let’s consider the below example to see how \\__init__ works in inheritance. "
   ]
  },
  {
   "cell_type": "code",
   "execution_count": 3,
   "id": "f16d85d5",
   "metadata": {},
   "outputs": [
    {
     "name": "stdout",
     "output_type": "stream",
     "text": [
      "A init called\n",
      "Really nice!\n",
      "blue\n",
      "A init called\n",
      "B init called\n",
      "Something nice!\n",
      "what\n",
      "red\n"
     ]
    }
   ],
   "source": [
    "# Python program to\n",
    "# demonstrate init with\n",
    "# inheritance\n",
    " \n",
    "class A(object):\n",
    "    def __init__(self, something):\n",
    "        print(\"A init called\")\n",
    "        self.something = something+\" nice!\"\n",
    "        self.what='what'\n",
    "\n",
    "    def setColor(self,Color):\n",
    "        self.Color=Color\n",
    "\n",
    "    \n",
    "    \n",
    " \n",
    " \n",
    "class B(A):\n",
    "    def __init__(self, something):\n",
    "        # Calling init of parent class\n",
    "        A.__init__(self, something)\n",
    "        print(\"B init called\")\n",
    "        #self.something = something # it overrides the inherited value\n",
    " \n",
    "\n",
    "\n",
    "Aobj=A(\"Really\") \n",
    "print(Aobj.something)\n",
    "\n",
    "#print(Aobj.Color) # gives error before being set\n",
    "Aobj.setColor(\"blue\")\n",
    "print(Aobj.Color)\n",
    "\n",
    "obj = B(\"Something\")\n",
    "print(obj.something)\n",
    "print(obj.what)\n",
    "\n",
    "#print(obj.Color)# gives error before being set\n",
    "obj.setColor(\"red\")\n",
    "print(obj.Color)"
   ]
  },
  {
   "cell_type": "markdown",
   "id": "136e441d",
   "metadata": {},
   "source": [
    "So, the parent class constructor is called first. But in Python, it is not compulsory that the parent class constructor will always be called first. The order in which the __init__ method is called for a parent or a child class can be modified. This can simply be done by calling the parent class constructor after the body of the child class constructor. \n",
    "\n"
   ]
  },
  {
   "cell_type": "code",
   "execution_count": 4,
   "id": "d57aa0f0",
   "metadata": {},
   "outputs": [
    {
     "name": "stdout",
     "output_type": "stream",
     "text": [
      "B init called\n",
      "A init called\n",
      "Something nice!\n"
     ]
    }
   ],
   "source": [
    "\n",
    "# Python program to\n",
    "# demonstrate init with\n",
    "# inheritance\n",
    " \n",
    "class A(object):\n",
    "    def __init__(self, something):\n",
    "        print(\"A init called\")\n",
    "        self.something = something + \" nice!\"\n",
    " \n",
    " \n",
    "class B(A):\n",
    "    def __init__(self, something):\n",
    "        print(\"B init called\")\n",
    "        self.something = something\n",
    "        # Calling init of parent class, it overrides previous settings\n",
    "        A.__init__(self, something)\n",
    " \n",
    " \n",
    "obj = B(\"Something\")\n",
    "print(obj.something)"
   ]
  },
  {
   "cell_type": "markdown",
   "id": "8b1259c4",
   "metadata": {},
   "source": [
    "# Class and Instance Variables\n",
    "Instance variables are for data, unique to each instance and class variables are for attributes and methods shared by all instances of the class. Instance variables are variables whose value is assigned inside a constructor or method with self whereas class variables are variables whose value is assigned in the class.\n",
    "\n",
    "Defining instance variables using a constructor. "
   ]
  },
  {
   "cell_type": "code",
   "execution_count": 5,
   "id": "8f2ea0d1",
   "metadata": {},
   "outputs": [
    {
     "name": "stdout",
     "output_type": "stream",
     "text": [
      "Rodger details:\n",
      "Rodger is a dog\n",
      "Breed:  Pug\n",
      "Color:  brown\n",
      "\n",
      "Buzo details:\n",
      "Buzo is a dog\n",
      "Breed:  Bulldog\n",
      "Color:  black\n",
      "\n",
      "Accessing class variable using class name\n",
      "dog\n"
     ]
    },
    {
     "ename": "AttributeError",
     "evalue": "type object 'Dog' has no attribute 'breed'",
     "output_type": "error",
     "traceback": [
      "\u001b[1;31m---------------------------------------------------------------------------\u001b[0m",
      "\u001b[1;31mAttributeError\u001b[0m                            Traceback (most recent call last)",
      "Cell \u001b[1;32mIn[5], line 41\u001b[0m\n\u001b[0;32m     38\u001b[0m \u001b[38;5;28mprint\u001b[39m(\u001b[38;5;124m\"\u001b[39m\u001b[38;5;130;01m\\n\u001b[39;00m\u001b[38;5;124mAccessing class variable using class name\u001b[39m\u001b[38;5;124m\"\u001b[39m)\n\u001b[0;32m     39\u001b[0m \u001b[38;5;28mprint\u001b[39m(Dog\u001b[38;5;241m.\u001b[39manimal)\n\u001b[1;32m---> 41\u001b[0m \u001b[43mDog\u001b[49m\u001b[38;5;241;43m.\u001b[39;49m\u001b[43mbreed\u001b[49m\n",
      "\u001b[1;31mAttributeError\u001b[0m: type object 'Dog' has no attribute 'breed'"
     ]
    }
   ],
   "source": [
    "# Python3 program to show that the variables with a value\n",
    "# assigned in the class declaration, are class variables and\n",
    "# variables inside methods and constructors are instance\n",
    "# variables.\n",
    " \n",
    "# Class for Dog\n",
    " \n",
    " \n",
    "class Dog:\n",
    " \n",
    "    # Class Variable\n",
    "    animal = 'dog'\n",
    " \n",
    "    # The init method or constructor\n",
    "    def __init__(self, breed, color):\n",
    " \n",
    "        # Instance Variable\n",
    "        self.breed = breed\n",
    "        self.color = color\n",
    " \n",
    " \n",
    "# Objects of Dog class\n",
    "Rodger = Dog(\"Pug\", \"brown\")\n",
    "Buzo = Dog(\"Bulldog\", \"black\")\n",
    " \n",
    "print('Rodger details:')\n",
    "print('Rodger is a', Rodger.animal)\n",
    "print('Breed: ', Rodger.breed)\n",
    "print('Color: ', Rodger.color)\n",
    " \n",
    "print('\\nBuzo details:')\n",
    "print('Buzo is a', Buzo.animal)\n",
    "print('Breed: ', Buzo.breed)\n",
    "print('Color: ', Buzo.color)\n",
    " \n",
    "# Class variables can be accessed using class\n",
    "# name also\n",
    "print(\"\\nAccessing class variable using class name\")\n",
    "print(Dog.animal)\n",
    "\n",
    "Dog.breed\n"
   ]
  },
  {
   "cell_type": "markdown",
   "id": "3807b10e",
   "metadata": {},
   "source": [
    "Defining instance variables using the normal method.\n",
    "\n"
   ]
  },
  {
   "cell_type": "code",
   "execution_count": 6,
   "id": "61875f1d",
   "metadata": {},
   "outputs": [
    {
     "name": "stdout",
     "output_type": "stream",
     "text": [
      "brown\n"
     ]
    }
   ],
   "source": [
    "# Python3 program to show that we can create\n",
    "# instance variables inside methods\n",
    " \n",
    "# Class for Dog\n",
    " \n",
    " \n",
    "class Dog:\n",
    " \n",
    "    # Class Variable\n",
    "    animal = 'dog'\n",
    " \n",
    "    # The init method or constructor\n",
    "    def __init__(self, breed):\n",
    " \n",
    "        # Instance Variable\n",
    "        self.breed = breed\n",
    " \n",
    "    # Adds an instance variable\n",
    "    def setColor(self, color):\n",
    "        self.color = color\n",
    " \n",
    "    # Retrieves instance variable\n",
    "    def getColor(self):\n",
    "        return self.color\n",
    " \n",
    " \n",
    "# Driver Code\n",
    "Rodger = Dog(\"pug\")\n",
    "Rodger.setColor(\"brown\")\n",
    "print(Rodger.getColor())"
   ]
  },
  {
   "cell_type": "markdown",
   "id": "284400ad",
   "metadata": {},
   "source": [
    "# Multiprocessing for parallel processing\n",
    "Using the standard multiprocessing module, we can efficiently parallelize simple tasks by creating child processes. This module provides an easy-to-use interface and contains a set of utilities to handle task submission and synchronization.\n",
    "\n",
    "- Process and Pool Class\n",
    "- Process\n",
    "\n",
    "By subclassing multiprocessing.process, you can create a process that runs independently. By extending the __init__ method you can initialize resource and by implementing Process.run() method you can write the code for the subprocess. In the below code, we see how to create a process which prints the assigned id:"
   ]
  },
  {
   "cell_type": "code",
   "execution_count": 7,
   "id": "75bc4b42",
   "metadata": {},
   "outputs": [
    {
     "name": "stdout",
     "output_type": "stream",
     "text": [
      "Always executed\n",
      "Executed when invoked directly\n"
     ]
    }
   ],
   "source": [
    "\n",
    "# Python program to execute\n",
    "# main directly\n",
    "print (\"Always executed\")\n",
    " \n",
    "if __name__ == \"__main__\":\n",
    "    print (\"Executed when invoked directly\")\n",
    "else:\n",
    "    print (\"Executed when imported\")"
   ]
  },
  {
   "cell_type": "code",
   "execution_count": 8,
   "id": "9b4df68e",
   "metadata": {},
   "outputs": [
    {
     "name": "stdout",
     "output_type": "stream",
     "text": [
      "init is done\n",
      "__main__\n",
      "init is done\n",
      "init is done\n"
     ]
    }
   ],
   "source": [
    "# it is not running!!?\n",
    "import multiprocessing\n",
    "import time\n",
    "  \n",
    "  \n",
    "class Process(multiprocessing.Process):\n",
    "    def __init__(self, id):\n",
    "        super(Process, self).__init__()\n",
    "        self.id = id\n",
    "        print('init is done')\n",
    "                 \n",
    "    def run(self):\n",
    "        time.sleep(1)\n",
    "        print(\"I'm the process with id: {}\".format(self.id))\n",
    "        \n",
    "p = Process(0)\n",
    "p.start()  # To spawn the process, we need to initialize our Process object and invoke Process.start() method. Here Process.start() will create a new process and will invoke the Process.run() method.\n",
    "\n",
    "print(__name__)  \n",
    "if __name__ == '__main__':\n",
    "    p = Process(0)\n",
    "    p.start()  # To spawn the process, we need to initialize our Process object and invoke Process.start() method. Here Process.start() will create a new process and will invoke the Process.run() method.\n",
    "    p.join() # The code after p.start() will be executed immediately before the task completion of process p. To wait for the task completion, you can use Process.join().\n",
    "    p = Process(1)\n",
    "    p.start()\n",
    "    p.join()\n",
    "else:\n",
    "    print('hi')"
   ]
  },
  {
   "cell_type": "markdown",
   "id": "65355a2f",
   "metadata": {},
   "source": [
    "# Pool class\n",
    "\n",
    "Pool class can be used for parallel execution of a function for different input data. The multiprocessing.Pool() class spawns a set of processes called workers and can submit tasks using the methods apply/apply_async and map/map_async. For parallel mapping, you should first initialize a multiprocessing.Pool() object. The first argument is the number of workers; if not given, that number will be equal to the number of cores in the system."
   ]
  },
  {
   "cell_type": "code",
   "execution_count": null,
   "id": "3531cd49",
   "metadata": {},
   "outputs": [],
   "source": [
    "from multiprocessing import Pool\n",
    "\n",
    "def f(x):\n",
    "    return x*x\n",
    "\n",
    "if __name__ == '__main__':\n",
    "    with Pool(5) as p:\n",
    "        print(p.map(f, [1, 2, 3]))"
   ]
  },
  {
   "cell_type": "code",
   "execution_count": null,
   "id": "0e5a93b6",
   "metadata": {},
   "outputs": [
    {
     "name": "stdout",
     "output_type": "stream",
     "text": [
      "start process:3\n",
      "square 3:9\n",
      "end process:3\n"
     ]
    }
   ],
   "source": [
    "import time\n",
    "from multiprocessing import Pool\n",
    "\n",
    "\n",
    "def square(x):\n",
    "    print(f\"start process:{x}\")\n",
    "    square = x * x\n",
    "    print(f\"square {x}:{square}\")\n",
    "    time.sleep(1)\n",
    "    print(f\"end process:{x}\")\n",
    "\n",
    "square(3)\n",
    "if __name__ == \"__main__\":\n",
    "    starttime = time.time()\n",
    "    pool = Pool()\n",
    "    pool.map(square, range(0, 5))\n",
    "    pool.close()\n",
    "    endtime = time.time()\n",
    "    print(f\"Time taken {endtime-starttime} seconds\")"
   ]
  },
  {
   "cell_type": "code",
   "execution_count": null,
   "id": "27b3d305",
   "metadata": {},
   "outputs": [],
   "source": [
    "import multiprocessing\n",
    "import time\n",
    "\n",
    "\n",
    "def square(x):\n",
    "    return x * x\n",
    "\n",
    "if __name__ == '__main__':\n",
    "    pool = multiprocessing.Pool()\n",
    "    pool = multiprocessing.Pool(processes=4)\n",
    "    inputs = [0,1,2,3,4]\n",
    "    outputs = pool.map(square, inputs)\n",
    "    print(\"Input: {}\".format(inputs))\n",
    "    print(\"Output: {}\".format(outputs))\n"
   ]
  },
  {
   "cell_type": "code",
   "execution_count": null,
   "id": "fa405b0d",
   "metadata": {},
   "outputs": [],
   "source": [
    "from multiprocessing import Pool\n",
    "\n",
    "def worker(number):\n",
    "    return number*number\n",
    "\n",
    "if __name__ == '__main__':\n",
    "    pool = Pool() # use all available CPUs\n",
    "    for square in pool.imap(worker, [0,1,2,3,4]):\n",
    "        print(square)"
   ]
  },
  {
   "cell_type": "code",
   "execution_count": null,
   "id": "2ff30d85",
   "metadata": {},
   "outputs": [],
   "source": [
    "import multiprocessing\n",
    "import time\n",
    "\n",
    "\n",
    "def square(x):\n",
    "    return x * x\n",
    "\n",
    "if __name__ == '__main__':\n",
    "    pool = multiprocessing.Pool()\n",
    "    pool = multiprocessing.Pool(processes=4)\n",
    "    inputs = [0,1,2,3,4]\n",
    "    outputs = pool.map(square, inputs)\n",
    "    print(\"Input: {}\".format(inputs))\n",
    "    print(\"Output: {}\".format(outputs))"
   ]
  },
  {
   "cell_type": "markdown",
   "id": "2d658d58",
   "metadata": {},
   "source": [
    "None of above cells can be run. Check:\n",
    "\n",
    "https://stackoverflow.com/questions/21198857/python-multiprocessing-example-not-working"
   ]
  },
  {
   "cell_type": "code",
   "execution_count": 1,
   "id": "445d5a45",
   "metadata": {},
   "outputs": [],
   "source": [
    "from multiprocessing import Process\n",
    "import os\n",
    "\n",
    "def info(title):\n",
    "    print(title)\n",
    "    print('module name:', __name__)\n",
    "    print('parent process:', os.getppid())\n",
    "    print('process id:', os.getpid())\n",
    "\n",
    "def f(name):\n",
    "    info('function f')\n",
    "    print('hello', name)\n",
    "\n",
    "def fsquare(x):\n",
    "    info('function f')\n",
    "    return x*x\n",
    "    \n",
    "if __name__ == '__main__':\n",
    "   # info('main line')\n",
    "    p = Process(target=fsquare, args=(4,))\n",
    "    p.start()\n",
    "    p.join()"
   ]
  },
  {
   "cell_type": "code",
   "execution_count": 3,
   "id": "d66c7224",
   "metadata": {},
   "outputs": [],
   "source": [
    "import multiprocessing\n",
    "import os\n",
    "\n",
    "def worker(number):\n",
    "    print(number)\n",
    "    return\n",
    "\n",
    "if __name__ == '__main__':\n",
    "    test = multiprocessing.Process(target=worker, args=([0,1,2,3,4],))\n",
    "    test.start()\n",
    "    test.join()"
   ]
  },
  {
   "cell_type": "code",
   "execution_count": 5,
   "id": "9f6c0342",
   "metadata": {},
   "outputs": [],
   "source": [
    "def worker1(myval:int)->int:\n",
    "    # printing process id\n",
    "    myOut=myval*1\n",
    "    print(\"ID of process running worker1: {}\".format(os.getpid()))\n",
    "    return myOut\n",
    "     "
   ]
  },
  {
   "cell_type": "code",
   "execution_count": 9,
   "id": "d0823566",
   "metadata": {},
   "outputs": [
    {
     "name": "stdout",
     "output_type": "stream",
     "text": [
      "ID of main process: 4296\n",
      "ID of process p1: 49568\n",
      "ID of process p2: 10984\n",
      "Both processes finished execution!\n",
      "Process p1 is alive: False\n",
      "Process p2 is alive: False\n"
     ]
    }
   ],
   "source": [
    "def worker2(myval:int)->int:\n",
    "    # printing process id\n",
    "    myOut=myval*2\n",
    "    print(\"ID of process running worker2: {}\".format(os.getpid()))\n",
    "    return myOut\n",
    "\n",
    "if __name__ == \"__main__\":\n",
    "    # printing main program process id\n",
    "    print(\"ID of main process: {}\".format(os.getpid()))\n",
    "  \n",
    "    # creating processes\n",
    "    p1 = multiprocessing.Process(target=worker1,args=[3])\n",
    "    p2 = multiprocessing.Process(target=worker2,args=[10])\n",
    "  \n",
    "    # starting processes\n",
    "    p1.start()\n",
    "    p2.start()\n",
    "  \n",
    "    # process IDs\n",
    "    print(\"ID of process p1: {}\".format(p1.pid))\n",
    "    print(\"ID of process p2: {}\".format(p2.pid))\n",
    "  \n",
    "    # wait until processes are finished\n",
    "    p1.join()\n",
    "    p2.join()\n",
    "  \n",
    "    # both processes finished\n",
    "    print(\"Both processes finished execution!\")\n",
    "  \n",
    "    # check if processes are alive\n",
    "    print(\"Process p1 is alive: {}\".format(p1.is_alive()))\n",
    "    print(\"Process p2 is alive: {}\".format(p2.is_alive()))"
   ]
  },
  {
   "cell_type": "code",
   "execution_count": 2,
   "id": "e668da2c",
   "metadata": {},
   "outputs": [
    {
     "data": {
      "text/plain": [
       "16"
      ]
     },
     "execution_count": 2,
     "metadata": {},
     "output_type": "execute_result"
    }
   ],
   "source": [
    "import os\n",
    "os.cpu_count() "
   ]
  },
  {
   "cell_type": "code",
   "execution_count": null,
   "id": "3b91ff92",
   "metadata": {},
   "outputs": [],
   "source": [
    "from multiprocessing import Pool\n",
    "\n",
    "\n",
    "def f(x):\n",
    "    return x * x\n",
    "\n",
    "\n",
    "def main():\n",
    "    pool = Pool(processes=3)  # set the processes max number 3\n",
    "    result = pool.map(f, range(10))\n",
    "    pool.close()\n",
    "    pool.join()\n",
    "    print(result)\n",
    "    print('end')\n",
    "\n",
    "\n",
    "if __name__ == \"__main__\":\n",
    "    main()"
   ]
  },
  {
   "cell_type": "code",
   "execution_count": 6,
   "id": "8fb7c350",
   "metadata": {},
   "outputs": [
    {
     "name": "stdout",
     "output_type": "stream",
     "text": [
      "[0, 1, 4, 9, 16, 25, 36, 49, 64, 81]\n"
     ]
    }
   ],
   "source": [
    "from multiprocessing import Pool\n",
    "from squaref import squaref\n",
    "\n",
    "def f(x):\n",
    "    return x*x\n",
    "\n",
    "if (__name__ == '__main__'):\n",
    "    pool = Pool(4)\n",
    "    print(pool.map(squaref, range(10)))"
   ]
  },
  {
   "cell_type": "code",
   "execution_count": null,
   "id": "19fc1c0e",
   "metadata": {},
   "outputs": [],
   "source": []
  },
  {
   "cell_type": "code",
   "execution_count": 1,
   "id": "4774d146",
   "metadata": {
    "scrolled": true
   },
   "outputs": [
    {
     "data": {
      "text/plain": [
       "9"
      ]
     },
     "execution_count": 1,
     "metadata": {},
     "output_type": "execute_result"
    }
   ],
   "source": [
    "import squaref\n",
    "squaref.squaref(3)"
   ]
  },
  {
   "cell_type": "code",
   "execution_count": 2,
   "id": "295bbc7c",
   "metadata": {},
   "outputs": [],
   "source": [
    "from squaref import add2, multi_run_wrapper\n"
   ]
  },
  {
   "cell_type": "code",
   "execution_count": 5,
   "id": "75797cd9",
   "metadata": {},
   "outputs": [
    {
     "data": {
      "text/plain": [
       "list"
      ]
     },
     "execution_count": 5,
     "metadata": {},
     "output_type": "execute_result"
    }
   ],
   "source": [
    "bb=[(1,2),(2,3),(3,4)]\n",
    "type(bb)"
   ]
  },
  {
   "cell_type": "code",
   "execution_count": 4,
   "id": "bfd155e3",
   "metadata": {},
   "outputs": [
    {
     "name": "stdout",
     "output_type": "stream",
     "text": [
      "[3, 5, 7]\n"
     ]
    }
   ],
   "source": [
    "if __name__ == \"__main__\":\n",
    "    from multiprocessing import Pool\n",
    "    pool = Pool(4)\n",
    "    results = pool.map(multi_run_wrapper,[(1,2),(2,3),(3,4)])\n",
    "    print(results)"
   ]
  },
  {
   "cell_type": "code",
   "execution_count": 8,
   "id": "2d37c408",
   "metadata": {},
   "outputs": [
    {
     "name": "stdout",
     "output_type": "stream",
     "text": [
      "[100, 101, 102, 103, 104, 105, 106, 107, 108, 109]\n"
     ]
    }
   ],
   "source": [
    "if __name__ == '__main__':\n",
    "\n",
    "    N = 10\n",
    "\n",
    "    args1 = [*range(N)]\n",
    "    args2 = [100] * N  # make argument iterables same length\n",
    "\n",
    "    # create list of argument tuples for individual function calls\n",
    "    tasks = [*zip(args1, args2)]\n",
    "    # [(0, 100), (1, 100), (2, 100), ..., (9, 100)]\n",
    "\n",
    "    with Pool(4) as pool:\n",
    "        aa=pool.starmap(add2, iterable=tasks)\n",
    "    print(aa)"
   ]
  },
  {
   "cell_type": "code",
   "execution_count": 9,
   "id": "15aafe23",
   "metadata": {},
   "outputs": [
    {
     "data": {
      "text/plain": [
       "140711991436136"
      ]
     },
     "execution_count": 9,
     "metadata": {},
     "output_type": "execute_result"
    }
   ],
   "source": [
    "x=3\n",
    "id(x)"
   ]
  },
  {
   "cell_type": "code",
   "execution_count": 10,
   "id": "9820a468",
   "metadata": {},
   "outputs": [
    {
     "data": {
      "text/plain": [
       "140711991436200"
      ]
     },
     "execution_count": 10,
     "metadata": {},
     "output_type": "execute_result"
    }
   ],
   "source": [
    "x=5\n",
    "id(x)"
   ]
  },
  {
   "cell_type": "code",
   "execution_count": 11,
   "id": "7fd1658a",
   "metadata": {},
   "outputs": [
    {
     "data": {
      "text/plain": [
       "140711991436360"
      ]
     },
     "execution_count": 11,
     "metadata": {},
     "output_type": "execute_result"
    }
   ],
   "source": [
    "x=x+5\n",
    "id(x)"
   ]
  },
  {
   "cell_type": "code",
   "execution_count": null,
   "id": "0116828a",
   "metadata": {},
   "outputs": [],
   "source": [
    "x = 1000"
   ]
  },
  {
   "cell_type": "code",
   "execution_count": 17,
   "id": "ed07074a",
   "metadata": {},
   "outputs": [
    {
     "data": {
      "text/plain": [
       "False"
      ]
     },
     "execution_count": 17,
     "metadata": {},
     "output_type": "execute_result"
    }
   ],
   "source": [
    "y = 1000\n",
    "x is y"
   ]
  },
  {
   "cell_type": "code",
   "execution_count": 15,
   "id": "1b546196",
   "metadata": {},
   "outputs": [
    {
     "name": "stdout",
     "output_type": "stream",
     "text": [
      "2072557731472 2072557731568\n",
      "2072557731472 2072557813040\n"
     ]
    },
    {
     "data": {
      "text/plain": [
       "False"
      ]
     },
     "execution_count": 15,
     "metadata": {},
     "output_type": "execute_result"
    }
   ],
   "source": [
    "x = 1000\n",
    "y = 499 + 501\n",
    "print(id(x),id(y))\n",
    "y = 1000\n",
    "print(id(x),id(y))\n",
    "x is y"
   ]
  },
  {
   "cell_type": "code",
   "execution_count": 35,
   "id": "fb62f495",
   "metadata": {},
   "outputs": [
    {
     "ename": "TypeError",
     "evalue": "'str' object does not support item assignment",
     "output_type": "error",
     "traceback": [
      "\u001b[1;31m---------------------------------------------------------------------------\u001b[0m",
      "\u001b[1;31mTypeError\u001b[0m                                 Traceback (most recent call last)",
      "Cell \u001b[1;32mIn[35], line 2\u001b[0m\n\u001b[0;32m      1\u001b[0m aa\u001b[38;5;241m=\u001b[39m\u001b[38;5;124m'\u001b[39m\u001b[38;5;124msge\u001b[39m\u001b[38;5;124m'\u001b[39m\n\u001b[1;32m----> 2\u001b[0m \u001b[43maa\u001b[49m\u001b[43m[\u001b[49m\u001b[38;5;241;43m0\u001b[39;49m\u001b[43m]\u001b[49m\u001b[38;5;241m=\u001b[39m\u001b[38;5;241m1\u001b[39m\n",
      "\u001b[1;31mTypeError\u001b[0m: 'str' object does not support item assignment"
     ]
    }
   ],
   "source": [
    "aa='sge'\n",
    "aa[0]=1"
   ]
  },
  {
   "cell_type": "code",
   "execution_count": 20,
   "id": "4e55b8d6",
   "metadata": {},
   "outputs": [
    {
     "data": {
      "text/plain": [
       "False"
      ]
     },
     "execution_count": 20,
     "metadata": {},
     "output_type": "execute_result"
    }
   ],
   "source": [
    "x = 1030\n",
    "y = 19 + 1011\n",
    "x is y"
   ]
  },
  {
   "cell_type": "code",
   "execution_count": 24,
   "id": "a7a8e257",
   "metadata": {},
   "outputs": [
    {
     "name": "stdout",
     "output_type": "stream",
     "text": [
      "140711991436360 140711991436360\n"
     ]
    }
   ],
   "source": [
    "a=[10]*20\n",
    "print(id(a[0]),id(a[19]))"
   ]
  },
  {
   "cell_type": "code",
   "execution_count": 31,
   "id": "06ecde05",
   "metadata": {},
   "outputs": [
    {
     "data": {
      "text/plain": [
       "2338"
      ]
     },
     "execution_count": 31,
     "metadata": {},
     "output_type": "execute_result"
    }
   ],
   "source": [
    "def add_one(x):\n",
    "    x[0] += 1\n",
    "\n",
    "y = [2337]\n",
    "add_one(y)\n",
    "y[0]"
   ]
  },
  {
   "cell_type": "code",
   "execution_count": 32,
   "id": "251b15ff",
   "metadata": {},
   "outputs": [
    {
     "data": {
      "text/plain": [
       "2338"
      ]
     },
     "execution_count": 32,
     "metadata": {},
     "output_type": "execute_result"
    }
   ],
   "source": [
    "# pointert behaviour works as lists are mutable\n",
    "\n",
    "\n",
    "y = [2337,636]\n",
    "add_one(y)\n",
    "y[0]"
   ]
  },
  {
   "cell_type": "code",
   "execution_count": 33,
   "id": "6b3a54b1",
   "metadata": {},
   "outputs": [
    {
     "ename": "TypeError",
     "evalue": "'tuple' object does not support item assignment",
     "output_type": "error",
     "traceback": [
      "\u001b[1;31m---------------------------------------------------------------------------\u001b[0m",
      "\u001b[1;31mTypeError\u001b[0m                                 Traceback (most recent call last)",
      "Cell \u001b[1;32mIn[33], line 2\u001b[0m\n\u001b[0;32m      1\u001b[0m z\u001b[38;5;241m=\u001b[39m(\u001b[38;5;241m6\u001b[39m,)\n\u001b[1;32m----> 2\u001b[0m \u001b[43madd_one\u001b[49m\u001b[43m(\u001b[49m\u001b[43mz\u001b[49m\u001b[43m)\u001b[49m\n",
      "Cell \u001b[1;32mIn[31], line 2\u001b[0m, in \u001b[0;36madd_one\u001b[1;34m(x)\u001b[0m\n\u001b[0;32m      1\u001b[0m \u001b[38;5;28;01mdef\u001b[39;00m \u001b[38;5;21madd_one\u001b[39m(x):\n\u001b[1;32m----> 2\u001b[0m     \u001b[43mx\u001b[49m\u001b[43m[\u001b[49m\u001b[38;5;241;43m0\u001b[39;49m\u001b[43m]\u001b[49m \u001b[38;5;241m+\u001b[39m\u001b[38;5;241m=\u001b[39m \u001b[38;5;241m1\u001b[39m\n",
      "\u001b[1;31mTypeError\u001b[0m: 'tuple' object does not support item assignment"
     ]
    }
   ],
   "source": [
    "z=(6,)\n",
    "add_one(z)"
   ]
  },
  {
   "cell_type": "code",
   "execution_count": 41,
   "id": "42f2cb1e",
   "metadata": {},
   "outputs": [
    {
     "data": {
      "text/plain": [
       "'The comedian is Eric Idle, aged 74.'"
      ]
     },
     "execution_count": 41,
     "metadata": {},
     "output_type": "execute_result"
    }
   ],
   "source": [
    "comedian = {'name': 'Eric Idle', 'age': 74}\n",
    "f\"The comedian is {comedian['name']}, aged {comedian['age']}.\""
   ]
  },
  {
   "cell_type": "code",
   "execution_count": 36,
   "id": "5399b23d",
   "metadata": {},
   "outputs": [],
   "source": [
    "def say_hello(name):\n",
    "    return f\"Hello {name}\"\n",
    "\n",
    "def be_awesome(name):\n",
    "    return f\"Yo {name}, together we are the awesomest!\"\n",
    "\n",
    "def greet_bob(greeter_func):\n",
    "    return greeter_func(\"Bob\")"
   ]
  },
  {
   "cell_type": "code",
   "execution_count": 38,
   "id": "f33ad04d",
   "metadata": {},
   "outputs": [
    {
     "name": "stdout",
     "output_type": "stream",
     "text": [
      "Hello Bob\n",
      "Yo Bob, together we are the awesomest!\n"
     ]
    }
   ],
   "source": [
    "print(greet_bob(say_hello))\n",
    "\n",
    "\n",
    "print(greet_bob(be_awesome))\n"
   ]
  },
  {
   "cell_type": "code",
   "execution_count": 51,
   "id": "8e971d5b",
   "metadata": {},
   "outputs": [
    {
     "name": "stdout",
     "output_type": "stream",
     "text": [
      "Printing from the parent() function\n",
      "Printing from the second_child() function\n",
      "Printing from the first_child() function\n"
     ]
    }
   ],
   "source": [
    "def parent():\n",
    "    print(\"Printing from the parent() function\")\n",
    "\n",
    "    def first_child():\n",
    "        print(\"Printing from the first_child() function\")\n",
    "\n",
    "    def second_child():\n",
    "        print(\"Printing from the second_child() function\")\n",
    "\n",
    "    second_child()\n",
    "    first_child()\n",
    "parent()    "
   ]
  },
  {
   "cell_type": "code",
   "execution_count": 50,
   "id": "55a2e436",
   "metadata": {},
   "outputs": [
    {
     "data": {
      "text/plain": [
       "<function __main__.parent.<locals>.second_child()>"
      ]
     },
     "execution_count": 50,
     "metadata": {},
     "output_type": "execute_result"
    }
   ],
   "source": [
    "def parent(num):\n",
    "    def first_child():\n",
    "        return \"Hi, I am Emma\"\n",
    "\n",
    "    def second_child():\n",
    "        return \"Call me Liam\"\n",
    "\n",
    "    if num == 1:\n",
    "        return first_child\n",
    "    else:\n",
    "        return second_child\n",
    "\n",
    "first = parent(1)\n",
    "second = parent(2)\n",
    "\n",
    "first\n",
    "\n",
    "\n",
    "second    "
   ]
  },
  {
   "cell_type": "code",
   "execution_count": 54,
   "id": "0ac261b8",
   "metadata": {},
   "outputs": [
    {
     "name": "stdout",
     "output_type": "stream",
     "text": [
      "Something is happening before the function is called.\n",
      "Whee!\n",
      "Something is happening after the function is called.\n"
     ]
    }
   ],
   "source": [
    "def my_decorator(func):\n",
    "    def wrapper():\n",
    "        print(\"Something is happening before the function is called.\")\n",
    "        func()\n",
    "        print(\"Something is happening after the function is called.\")\n",
    "    return wrapper\n",
    "\n",
    "def say_whee():\n",
    "    print(\"Whee!\")\n",
    "\n",
    "say_wheeO = my_decorator(say_whee)\n",
    "\n",
    "print(say_wheeO)\n",
    "say_wheeO()"
   ]
  },
  {
   "cell_type": "code",
   "execution_count": 52,
   "id": "19528675",
   "metadata": {},
   "outputs": [
    {
     "name": "stdout",
     "output_type": "stream",
     "text": [
      "Something is happening before the function is called.\n",
      "Whee!\n",
      "Something is happening after the function is called.\n"
     ]
    }
   ],
   "source": [
    "def my_decorator(func):\n",
    "    def wrapper():\n",
    "        print(\"Something is happening before the function is called.\")\n",
    "        func()\n",
    "        print(\"Something is happening after the function is called.\")\n",
    "    return wrapper()\n",
    "\n",
    "def say_whee():\n",
    "    print(\"Whee!\")\n",
    "\n",
    "say_wheeO = my_decorator(say_whee)\n",
    "\n",
    "say_wheeO\n"
   ]
  },
  {
   "cell_type": "code",
   "execution_count": 57,
   "id": "1e91cc99",
   "metadata": {},
   "outputs": [
    {
     "name": "stdout",
     "output_type": "stream",
     "text": [
      "Whee!\n"
     ]
    }
   ],
   "source": [
    "from datetime import datetime\n",
    "\n",
    "def not_during_the_night(func):\n",
    "    def wrapper():\n",
    "        if 7 <= datetime.now().hour < 22:\n",
    "            func()\n",
    "        else:\n",
    "            pass  # Hush, the neighbors are asleep\n",
    "    return wrapper\n",
    "\n",
    "def say_whee():\n",
    "    print(\"Whee!\")\n",
    "\n",
    "say_whee = not_during_the_night(say_whee)\n",
    "say_whee()"
   ]
  },
  {
   "cell_type": "code",
   "execution_count": 61,
   "id": "980de6d1",
   "metadata": {},
   "outputs": [
    {
     "name": "stdout",
     "output_type": "stream",
     "text": [
      "Something is happening before the function is called.\n",
      "Whee!\n",
      "Something is happening after the function is called.\n"
     ]
    }
   ],
   "source": [
    "def my_decorator(func):\n",
    "    def wrapper():\n",
    "        print(\"Something is happening before the function is called.\")\n",
    "        func()\n",
    "        print(\"Something is happening after the function is called.\")\n",
    "    return wrapper\n",
    "\n",
    "@my_decorator #@my_decorator is just an easier way of saying say_whee = my_decorator(say_whee)\n",
    "def say_whee():\n",
    "    print(\"Whee!\")\n",
    "\n",
    "say_whee()"
   ]
  },
  {
   "cell_type": "code",
   "execution_count": 65,
   "id": "6e8c372f",
   "metadata": {},
   "outputs": [
    {
     "name": "stdout",
     "output_type": "stream",
     "text": [
      "Whee!\n",
      "Whee!\n"
     ]
    }
   ],
   "source": [
    "def do_twice(func):\n",
    "    def wrapper_do_twice():\n",
    "        func()\n",
    "        func()\n",
    "    return wrapper_do_twice\n",
    "\n",
    "@do_twice\n",
    "def say_whee():\n",
    "    print(\"Whee!\")\n",
    "    \n",
    "say_whee()"
   ]
  },
  {
   "cell_type": "code",
   "execution_count": 66,
   "id": "d5876391",
   "metadata": {},
   "outputs": [
    {
     "ename": "TypeError",
     "evalue": "do_twice.<locals>.wrapper_do_twice() takes 0 positional arguments but 1 was given",
     "output_type": "error",
     "traceback": [
      "\u001b[1;31m---------------------------------------------------------------------------\u001b[0m",
      "\u001b[1;31mTypeError\u001b[0m                                 Traceback (most recent call last)",
      "Cell \u001b[1;32mIn[66], line 5\u001b[0m\n\u001b[0;32m      1\u001b[0m \u001b[38;5;129m@do_twice\u001b[39m\n\u001b[0;32m      2\u001b[0m \u001b[38;5;28;01mdef\u001b[39;00m \u001b[38;5;21mgreet\u001b[39m(name):\n\u001b[0;32m      3\u001b[0m     \u001b[38;5;28mprint\u001b[39m(\u001b[38;5;124mf\u001b[39m\u001b[38;5;124m\"\u001b[39m\u001b[38;5;124mHello \u001b[39m\u001b[38;5;132;01m{\u001b[39;00mname\u001b[38;5;132;01m}\u001b[39;00m\u001b[38;5;124m\"\u001b[39m)\n\u001b[1;32m----> 5\u001b[0m \u001b[43mgreet\u001b[49m\u001b[43m(\u001b[49m\u001b[38;5;124;43m'\u001b[39;49m\u001b[38;5;124;43mReyhaneh\u001b[39;49m\u001b[38;5;124;43m'\u001b[39;49m\u001b[43m)\u001b[49m\n",
      "\u001b[1;31mTypeError\u001b[0m: do_twice.<locals>.wrapper_do_twice() takes 0 positional arguments but 1 was given"
     ]
    }
   ],
   "source": [
    "@do_twice\n",
    "def greet(name):\n",
    "    print(f\"Hello {name}\")\n",
    "    \n",
    "greet('Reyhaneh')\n",
    "#The problem is that the inner function wrapper_do_twice() does not take any arguments, but name=\"World\" was passed to it. You could fix this by letting wrapper_do_twice() accept one argument, but then it would not work for the say_whee() function you created earlier."
   ]
  },
  {
   "cell_type": "code",
   "execution_count": 74,
   "id": "832e2bc8",
   "metadata": {},
   "outputs": [
    {
     "name": "stdout",
     "output_type": "stream",
     "text": [
      "Whee!\n",
      "Whee!\n",
      "Whee!\n",
      "Hello World\n",
      "Hello World\n",
      "Hello World\n",
      "Function name: greet\n",
      "Creating greeting\n",
      "Creating greeting\n",
      "Creating greeting\n"
     ]
    },
    {
     "data": {
      "text/plain": [
       "'Hi Reyhaneh'"
      ]
     },
     "execution_count": 74,
     "metadata": {},
     "output_type": "execute_result"
    }
   ],
   "source": [
    "import functools\n",
    "\n",
    "def do_twice(func):\n",
    "    @functools.wraps(func) #so that the .__name__ doesn't return wrapper_do_twice as name\n",
    "    def wrapper_do_twice(*args, **kwargs):\n",
    "        func(*args, **kwargs)\n",
    "        func(*args, **kwargs)\n",
    "        return func(*args, **kwargs)\n",
    "    return wrapper_do_twice\n",
    "\n",
    "\n",
    "@do_twice\n",
    "def say_whee():\n",
    "    print(\"Whee!\")\n",
    "    \n",
    "@do_twice\n",
    "def greet(name):\n",
    "    print(f\"Hello {name}\")\n",
    "\n",
    "@do_twice\n",
    "def return_greeting(name):\n",
    "    print(\"Creating greeting\")\n",
    "    return f\"Hi {name}\"\n",
    "\n",
    "say_whee()\n",
    "\n",
    "greet(\"World\")\n",
    "print(f'Function name: {greet.__name__}')\n",
    "\n",
    "return_greeting(\"Reyhaneh\")\n",
    "\n"
   ]
  },
  {
   "cell_type": "code",
   "execution_count": 76,
   "id": "570aad1a",
   "metadata": {},
   "outputs": [],
   "source": [
    "#This formula is a good boilerplate template for building more complex decorators.\n",
    "\n",
    "\n",
    "import functools\n",
    "\n",
    "def decorator(func):\n",
    "    @functools.wraps(func)\n",
    "    def wrapper_decorator(*args, **kwargs):\n",
    "        # Do something before\n",
    "        value = func(*args, **kwargs)\n",
    "        # Do something after\n",
    "        return value\n",
    "    return wrapper_decorator"
   ]
  }
 ],
 "metadata": {
  "kernelspec": {
   "display_name": "Python 3 (ipykernel)",
   "language": "python",
   "name": "python3"
  },
  "language_info": {
   "codemirror_mode": {
    "name": "ipython",
    "version": 3
   },
   "file_extension": ".py",
   "mimetype": "text/x-python",
   "name": "python",
   "nbconvert_exporter": "python",
   "pygments_lexer": "ipython3",
   "version": "3.11.1"
  }
 },
 "nbformat": 4,
 "nbformat_minor": 5
}
