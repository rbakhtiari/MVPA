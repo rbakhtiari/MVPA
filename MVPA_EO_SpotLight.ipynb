{
 "cells": [
  {
   "cell_type": "markdown",
   "id": "15a0d7b8",
   "metadata": {},
   "source": [
    "# Introduction\n",
    "In this file, spot light search MVPA is applied on Z-stat files from first level analysis I have done on naive space, ART applied images, with each stimuli giving one Z-stat image.\n",
    "\n",
    "MPVA is applied for all voxels of the brain. For each participant, data is split into the number of runs, with data from one run is used for test, and the rest is used for training. \n",
    "\n",
    "## Future works\n",
    "Testing on various types of classifers, wokring on classifier performance are works to be done.\n",
    "\n",
    "\n",
    "    "
   ]
  },
  {
   "cell_type": "code",
   "execution_count": 1,
   "id": "595ae782",
   "metadata": {},
   "outputs": [],
   "source": [
    "import numpy as np\n",
    "import pandas as pd\n",
    "import os.path as op\n",
    "import matplotlib.pyplot as plt\n",
    "import nibabel as nib\n",
    "import itertools\n",
    "import multiprocessing\n",
    "from multiprocessing import Pool\n",
    "from importlib import reload #import function \"reload\"\n",
    "import sys\n",
    "\n",
    "import warnings\n",
    "warnings.filterwarnings(\"ignore\")\n",
    "import os\n",
    "import glob\n",
    "from glob import glob\n",
    "from scipy.io import loadmat\n",
    "import math\n",
    "import timeit\n",
    "from timeit import default_timer as timer\n",
    "\n",
    "plt.style.use('classic')\n",
    "%matplotlib inline"
   ]
  },
  {
   "cell_type": "code",
   "execution_count": 2,
   "id": "600e07d4",
   "metadata": {},
   "outputs": [],
   "source": [
    "from MVPA_func import SpherePoints, SphereValue, LoadAllNii, MVPA_FeatureExtraction, MVPA_Classification, LoopiFeatureDict, multi_run_wrapperLoopiFeatureDict"
   ]
  },
  {
   "cell_type": "code",
   "execution_count": 3,
   "id": "a4c3d1a3",
   "metadata": {},
   "outputs": [],
   "source": [
    "from sklearn.preprocessing import StandardScaler\n",
    "from sklearn.svm import SVC\n",
    "#from sklearn.svm import LinearSVC\n",
    "\n",
    "from sklearn.discriminant_analysis import LinearDiscriminantAnalysis\n",
    "from sklearn.metrics import accuracy_score\n",
    "from sklearn.model_selection import train_test_split\n",
    "from sklearn.metrics import roc_auc_score\n",
    "from sklearn.model_selection import GroupKFold\n",
    "from sklearn.decomposition import PCA\n",
    "from sklearn.feature_selection import SelectKBest, f_classif\n",
    "from sklearn.pipeline import Pipeline\n",
    "from sklearn.multioutput import MultiOutputClassifier"
   ]
  },
  {
   "cell_type": "markdown",
   "id": "0bc34d3d",
   "metadata": {},
   "source": [
    "### Load subject list file"
   ]
  },
  {
   "cell_type": "code",
   "execution_count": 4,
   "id": "3dfba78a",
   "metadata": {},
   "outputs": [],
   "source": [
    "subj_list_file='C://Users/user/Documents/Reyhaneh/EEG+fMRI/EO/subj_simultaneous.txt'\n",
    "subj_list=list()\n",
    "f = open(subj_list_file, 'r')\n",
    "line=f.readline()\n",
    "while line:\n",
    "    subj_list.append(line[0:-1])\n",
    "    oldline=line\n",
    "    line = f.readline()\n",
    "subj_list.pop()\n",
    "subj_list.append(oldline)\n",
    "f.close()\n",
    "Nsubj=len(subj_list)"
   ]
  },
  {
   "cell_type": "markdown",
   "id": "cfbeb2dc",
   "metadata": {},
   "source": [
    "### Load SPM.mat to extract experiment info\n",
    "This cell loads spm.mat file for each participant and from the data, extracts the number of runs, the path for each stat file, etc"
   ]
  },
  {
   "cell_type": "code",
   "execution_count": 5,
   "id": "5da5fcb4",
   "metadata": {},
   "outputs": [],
   "source": [
    "# NEW note: I need to change neg to sad & Fear, 3 December 2023\n",
    "# note: I don't know why the last item is repeated! but it doesn't make a misatke\n",
    "\n",
    "conditions=['Neu','Neg','Pos','Targ']\n",
    "ZstatInfo=pd.DataFrame(columns=['Subj','Run','Folder']+conditions)\n",
    "for subj in subj_list:\n",
    "    #print('Participant: '+subj)\n",
    "    # Zstat files and their condisitons are in SPM filesWe repeat loading in the dataframe to avoid dividing the onsets by 2 multiple times ...\n",
    "    SubjSPMFolder='C://Users/user/Documents/Reyhaneh/EEG+fMRI/EO/MRI_data/Analysis/SPM/'+subj+'/3cond_dist2/'\n",
    "    os.path.isdir(SubjSPMFolder)\n",
    "    myZstat=[]\n",
    "    \n",
    "    iRuns = 0\n",
    "    for myRun in os.listdir(SubjSPMFolder):\n",
    "        ZstatInfotmp=pd.DataFrame(columns=ZstatInfo.columns,index=[0])\n",
    "        ZstatInfotmp['Subj'][0]=subj\n",
    "        \n",
    "        RunSubjSPM=SubjSPMFolder+myRun+'/SPM.mat'\n",
    "        ZstatInfotmp['Folder'][0]=SubjSPMFolder+myRun+'/'\n",
    "\n",
    "        #print('   loading SPM.mat for '+myRun+'...')\n",
    "        mat = loadmat(RunSubjSPM)\n",
    "        mdata=mat['SPM'][0,0]\n",
    "        ndata=mdata['Sess'][0,0]\n",
    "        odata=ndata['U']\n",
    "        pdata=odata['name'][0]\n",
    "        ZstatNames=[pdata[i][0,0][0] for i in range(len(pdata))]\n",
    "        myZstat.append(ZstatNames)\n",
    "\n",
    "        ZstatInfotmp['Run'][0]=iRuns+1\n",
    "        old_ind=len(myZstat[iRuns])+1 \n",
    "        for iCond in reversed(conditions):    \n",
    "            Start_ind=myZstat[iRuns].index(iCond+'_1')+1\n",
    "            #print(Start_ind)\n",
    "            ZstatInfotmp[iCond][0]=['spmT_'+str(val).zfill(4)+'.nii' for val in list(range(Start_ind, old_ind))]#list(range(Start_ind, old_ind))\n",
    "            old_ind=Start_ind\n",
    "\n",
    "        ZstatInfo=ZstatInfo.append(ZstatInfotmp,ignore_index=True)\n",
    "        iRuns = iRuns+1\n",
    " "
   ]
  },
  {
   "cell_type": "markdown",
   "id": "287fc8ea",
   "metadata": {},
   "source": [
    "### find Voxel dimension by openning one of the image files\n"
   ]
  },
  {
   "cell_type": "code",
   "execution_count": 6,
   "id": "697c9fba",
   "metadata": {},
   "outputs": [
    {
     "data": {
      "text/html": [
       "<div>\n",
       "<style scoped>\n",
       "    .dataframe tbody tr th:only-of-type {\n",
       "        vertical-align: middle;\n",
       "    }\n",
       "\n",
       "    .dataframe tbody tr th {\n",
       "        vertical-align: top;\n",
       "    }\n",
       "\n",
       "    .dataframe thead th {\n",
       "        text-align: right;\n",
       "    }\n",
       "</style>\n",
       "<table border=\"1\" class=\"dataframe\">\n",
       "  <thead>\n",
       "    <tr style=\"text-align: right;\">\n",
       "      <th></th>\n",
       "      <th>Subj</th>\n",
       "      <th>Run</th>\n",
       "      <th>Folder</th>\n",
       "      <th>Neu</th>\n",
       "      <th>Neg</th>\n",
       "      <th>Pos</th>\n",
       "      <th>Targ</th>\n",
       "    </tr>\n",
       "  </thead>\n",
       "  <tbody>\n",
       "    <tr>\n",
       "      <th>0</th>\n",
       "      <td>AB_04152014</td>\n",
       "      <td>1</td>\n",
       "      <td>C://Users/user/Documents/Reyhaneh/EEG+fMRI/EO/...</td>\n",
       "      <td>[spmT_0001.nii, spmT_0002.nii, spmT_0003.nii, ...</td>\n",
       "      <td>[spmT_0007.nii, spmT_0008.nii, spmT_0009.nii, ...</td>\n",
       "      <td>[spmT_0014.nii]</td>\n",
       "      <td>[spmT_0015.nii, spmT_0016.nii, spmT_0017.nii, ...</td>\n",
       "    </tr>\n",
       "    <tr>\n",
       "      <th>1</th>\n",
       "      <td>AB_04152014</td>\n",
       "      <td>2</td>\n",
       "      <td>C://Users/user/Documents/Reyhaneh/EEG+fMRI/EO/...</td>\n",
       "      <td>[spmT_0001.nii, spmT_0002.nii, spmT_0003.nii, ...</td>\n",
       "      <td>[spmT_0009.nii, spmT_0010.nii, spmT_0011.nii, ...</td>\n",
       "      <td>[spmT_0017.nii]</td>\n",
       "      <td>[spmT_0018.nii, spmT_0019.nii, spmT_0020.nii, ...</td>\n",
       "    </tr>\n",
       "    <tr>\n",
       "      <th>2</th>\n",
       "      <td>AB_04152014</td>\n",
       "      <td>3</td>\n",
       "      <td>C://Users/user/Documents/Reyhaneh/EEG+fMRI/EO/...</td>\n",
       "      <td>[spmT_0001.nii, spmT_0002.nii, spmT_0003.nii, ...</td>\n",
       "      <td>[spmT_0009.nii, spmT_0010.nii, spmT_0011.nii, ...</td>\n",
       "      <td>[spmT_0017.nii]</td>\n",
       "      <td>[spmT_0018.nii, spmT_0019.nii, spmT_0020.nii, ...</td>\n",
       "    </tr>\n",
       "    <tr>\n",
       "      <th>3</th>\n",
       "      <td>AB_04152014</td>\n",
       "      <td>4</td>\n",
       "      <td>C://Users/user/Documents/Reyhaneh/EEG+fMRI/EO/...</td>\n",
       "      <td>[spmT_0001.nii, spmT_0002.nii, spmT_0003.nii, ...</td>\n",
       "      <td>[spmT_0009.nii, spmT_0010.nii, spmT_0011.nii, ...</td>\n",
       "      <td>[spmT_0017.nii]</td>\n",
       "      <td>[spmT_0018.nii, spmT_0019.nii, spmT_0020.nii, ...</td>\n",
       "    </tr>\n",
       "    <tr>\n",
       "      <th>4</th>\n",
       "      <td>AB_04152014</td>\n",
       "      <td>5</td>\n",
       "      <td>C://Users/user/Documents/Reyhaneh/EEG+fMRI/EO/...</td>\n",
       "      <td>[spmT_0001.nii, spmT_0002.nii, spmT_0003.nii, ...</td>\n",
       "      <td>[spmT_0009.nii, spmT_0010.nii, spmT_0011.nii, ...</td>\n",
       "      <td>[spmT_0017.nii]</td>\n",
       "      <td>[spmT_0018.nii, spmT_0019.nii, spmT_0020.nii, ...</td>\n",
       "    </tr>\n",
       "    <tr>\n",
       "      <th>...</th>\n",
       "      <td>...</td>\n",
       "      <td>...</td>\n",
       "      <td>...</td>\n",
       "      <td>...</td>\n",
       "      <td>...</td>\n",
       "      <td>...</td>\n",
       "      <td>...</td>\n",
       "    </tr>\n",
       "    <tr>\n",
       "      <th>117</th>\n",
       "      <td>TP_05162014</td>\n",
       "      <td>1</td>\n",
       "      <td>C://Users/user/Documents/Reyhaneh/EEG+fMRI/EO/...</td>\n",
       "      <td>[spmT_0001.nii, spmT_0002.nii, spmT_0003.nii, ...</td>\n",
       "      <td>[spmT_0009.nii, spmT_0010.nii, spmT_0011.nii, ...</td>\n",
       "      <td>[spmT_0017.nii]</td>\n",
       "      <td>[spmT_0018.nii, spmT_0019.nii, spmT_0020.nii, ...</td>\n",
       "    </tr>\n",
       "    <tr>\n",
       "      <th>118</th>\n",
       "      <td>TP_05162014</td>\n",
       "      <td>2</td>\n",
       "      <td>C://Users/user/Documents/Reyhaneh/EEG+fMRI/EO/...</td>\n",
       "      <td>[spmT_0001.nii, spmT_0002.nii, spmT_0003.nii, ...</td>\n",
       "      <td>[spmT_0009.nii, spmT_0010.nii, spmT_0011.nii, ...</td>\n",
       "      <td>[spmT_0017.nii]</td>\n",
       "      <td>[spmT_0018.nii, spmT_0019.nii, spmT_0020.nii, ...</td>\n",
       "    </tr>\n",
       "    <tr>\n",
       "      <th>119</th>\n",
       "      <td>TP_05162014</td>\n",
       "      <td>3</td>\n",
       "      <td>C://Users/user/Documents/Reyhaneh/EEG+fMRI/EO/...</td>\n",
       "      <td>[spmT_0001.nii, spmT_0002.nii, spmT_0003.nii, ...</td>\n",
       "      <td>[spmT_0009.nii, spmT_0010.nii, spmT_0011.nii, ...</td>\n",
       "      <td>[spmT_0017.nii]</td>\n",
       "      <td>[spmT_0018.nii, spmT_0019.nii, spmT_0020.nii, ...</td>\n",
       "    </tr>\n",
       "    <tr>\n",
       "      <th>120</th>\n",
       "      <td>TP_05162014</td>\n",
       "      <td>4</td>\n",
       "      <td>C://Users/user/Documents/Reyhaneh/EEG+fMRI/EO/...</td>\n",
       "      <td>[spmT_0001.nii, spmT_0002.nii, spmT_0003.nii, ...</td>\n",
       "      <td>[spmT_0009.nii, spmT_0010.nii, spmT_0011.nii, ...</td>\n",
       "      <td>[spmT_0017.nii]</td>\n",
       "      <td>[spmT_0018.nii, spmT_0019.nii, spmT_0020.nii, ...</td>\n",
       "    </tr>\n",
       "    <tr>\n",
       "      <th>121</th>\n",
       "      <td>TP_05162014</td>\n",
       "      <td>5</td>\n",
       "      <td>C://Users/user/Documents/Reyhaneh/EEG+fMRI/EO/...</td>\n",
       "      <td>[spmT_0001.nii, spmT_0002.nii, spmT_0003.nii, ...</td>\n",
       "      <td>[spmT_0009.nii, spmT_0010.nii, spmT_0011.nii, ...</td>\n",
       "      <td>[spmT_0017.nii]</td>\n",
       "      <td>[spmT_0018.nii, spmT_0019.nii, spmT_0020.nii, ...</td>\n",
       "    </tr>\n",
       "  </tbody>\n",
       "</table>\n",
       "<p>122 rows × 7 columns</p>\n",
       "</div>"
      ],
      "text/plain": [
       "            Subj Run                                             Folder  \\\n",
       "0    AB_04152014   1  C://Users/user/Documents/Reyhaneh/EEG+fMRI/EO/...   \n",
       "1    AB_04152014   2  C://Users/user/Documents/Reyhaneh/EEG+fMRI/EO/...   \n",
       "2    AB_04152014   3  C://Users/user/Documents/Reyhaneh/EEG+fMRI/EO/...   \n",
       "3    AB_04152014   4  C://Users/user/Documents/Reyhaneh/EEG+fMRI/EO/...   \n",
       "4    AB_04152014   5  C://Users/user/Documents/Reyhaneh/EEG+fMRI/EO/...   \n",
       "..           ...  ..                                                ...   \n",
       "117  TP_05162014   1  C://Users/user/Documents/Reyhaneh/EEG+fMRI/EO/...   \n",
       "118  TP_05162014   2  C://Users/user/Documents/Reyhaneh/EEG+fMRI/EO/...   \n",
       "119  TP_05162014   3  C://Users/user/Documents/Reyhaneh/EEG+fMRI/EO/...   \n",
       "120  TP_05162014   4  C://Users/user/Documents/Reyhaneh/EEG+fMRI/EO/...   \n",
       "121  TP_05162014   5  C://Users/user/Documents/Reyhaneh/EEG+fMRI/EO/...   \n",
       "\n",
       "                                                   Neu  \\\n",
       "0    [spmT_0001.nii, spmT_0002.nii, spmT_0003.nii, ...   \n",
       "1    [spmT_0001.nii, spmT_0002.nii, spmT_0003.nii, ...   \n",
       "2    [spmT_0001.nii, spmT_0002.nii, spmT_0003.nii, ...   \n",
       "3    [spmT_0001.nii, spmT_0002.nii, spmT_0003.nii, ...   \n",
       "4    [spmT_0001.nii, spmT_0002.nii, spmT_0003.nii, ...   \n",
       "..                                                 ...   \n",
       "117  [spmT_0001.nii, spmT_0002.nii, spmT_0003.nii, ...   \n",
       "118  [spmT_0001.nii, spmT_0002.nii, spmT_0003.nii, ...   \n",
       "119  [spmT_0001.nii, spmT_0002.nii, spmT_0003.nii, ...   \n",
       "120  [spmT_0001.nii, spmT_0002.nii, spmT_0003.nii, ...   \n",
       "121  [spmT_0001.nii, spmT_0002.nii, spmT_0003.nii, ...   \n",
       "\n",
       "                                                   Neg              Pos  \\\n",
       "0    [spmT_0007.nii, spmT_0008.nii, spmT_0009.nii, ...  [spmT_0014.nii]   \n",
       "1    [spmT_0009.nii, spmT_0010.nii, spmT_0011.nii, ...  [spmT_0017.nii]   \n",
       "2    [spmT_0009.nii, spmT_0010.nii, spmT_0011.nii, ...  [spmT_0017.nii]   \n",
       "3    [spmT_0009.nii, spmT_0010.nii, spmT_0011.nii, ...  [spmT_0017.nii]   \n",
       "4    [spmT_0009.nii, spmT_0010.nii, spmT_0011.nii, ...  [spmT_0017.nii]   \n",
       "..                                                 ...              ...   \n",
       "117  [spmT_0009.nii, spmT_0010.nii, spmT_0011.nii, ...  [spmT_0017.nii]   \n",
       "118  [spmT_0009.nii, spmT_0010.nii, spmT_0011.nii, ...  [spmT_0017.nii]   \n",
       "119  [spmT_0009.nii, spmT_0010.nii, spmT_0011.nii, ...  [spmT_0017.nii]   \n",
       "120  [spmT_0009.nii, spmT_0010.nii, spmT_0011.nii, ...  [spmT_0017.nii]   \n",
       "121  [spmT_0009.nii, spmT_0010.nii, spmT_0011.nii, ...  [spmT_0017.nii]   \n",
       "\n",
       "                                                  Targ  \n",
       "0    [spmT_0015.nii, spmT_0016.nii, spmT_0017.nii, ...  \n",
       "1    [spmT_0018.nii, spmT_0019.nii, spmT_0020.nii, ...  \n",
       "2    [spmT_0018.nii, spmT_0019.nii, spmT_0020.nii, ...  \n",
       "3    [spmT_0018.nii, spmT_0019.nii, spmT_0020.nii, ...  \n",
       "4    [spmT_0018.nii, spmT_0019.nii, spmT_0020.nii, ...  \n",
       "..                                                 ...  \n",
       "117  [spmT_0018.nii, spmT_0019.nii, spmT_0020.nii, ...  \n",
       "118  [spmT_0018.nii, spmT_0019.nii, spmT_0020.nii, ...  \n",
       "119  [spmT_0018.nii, spmT_0019.nii, spmT_0020.nii, ...  \n",
       "120  [spmT_0018.nii, spmT_0019.nii, spmT_0020.nii, ...  \n",
       "121  [spmT_0018.nii, spmT_0019.nii, spmT_0020.nii, ...  \n",
       "\n",
       "[122 rows x 7 columns]"
      ]
     },
     "execution_count": 6,
     "metadata": {},
     "output_type": "execute_result"
    }
   ],
   "source": [
    "ZstatInfo"
   ]
  },
  {
   "cell_type": "code",
   "execution_count": 7,
   "id": "046cc8c0",
   "metadata": {},
   "outputs": [],
   "source": [
    "# Calculate the length of each list in Neu, Neg, and Targ columns\n",
    "ZstatInfo['Neu_cnt'] = ZstatInfo['Neu'].apply(len)\n",
    "ZstatInfo['Neg_cnt'] = ZstatInfo['Neg'].apply(len)\n",
    "ZstatInfo['Targ_cnt'] = ZstatInfo['Targ'].apply(len)\n",
    "\n",
    "# Sum the counts for each Subj\n",
    "result = ZstatInfo.groupby('Subj')[['Neu_cnt', 'Neg_cnt', 'Targ_cnt']].sum().reset_index()\n",
    "result.to_csv('trial_cnt.csv')"
   ]
  },
  {
   "cell_type": "code",
   "execution_count": 7,
   "id": "42cc2107",
   "metadata": {},
   "outputs": [
    {
     "name": "stdout",
     "output_type": "stream",
     "text": [
      "(64, 64, 28)\n"
     ]
    }
   ],
   "source": [
    "MyZstat=ZstatInfo.loc[(ZstatInfo['Subj']==subj) & (ZstatInfo['Run']==1)]\n",
    "MyZstat.reset_index(inplace = True, drop = True)\n",
    "MyFile=MyZstat['Folder'][0]+MyZstat['Neu'][0][0]\n",
    "#print(MyFile)\n",
    "data = nib.load(MyFile).get_data()\n",
    "voxel_dims = data.shape\n",
    "print(voxel_dims)\n"
   ]
  },
  {
   "cell_type": "code",
   "execution_count": 23,
   "id": "61d478ba",
   "metadata": {
    "scrolled": true
   },
   "outputs": [
    {
     "name": "stdout",
     "output_type": "stream",
     "text": [
      "size of shperes: (3, 1, 123)\n",
      "5615.042040199973\n"
     ]
    }
   ],
   "source": [
    "# Calculate the spotlights voxels for all points and keep them in AllPoints \n",
    "\n",
    "radius = 3 #spheres  radius \n",
    "\n",
    "if os.path.exists('Radius'+str(radius)+'_points.npy'):\n",
    "    print('load existing sphere file...')\n",
    "    AllPoints=np.load('Radius'+str(radius)+'_points.npy')\n",
    "    print('size of shperes:',AllPoints[0].shape)\n",
    "else:\n",
    "    start = timer()\n",
    "\n",
    "    tmpPoints = SpherePoints(np.array([26,26,16]) , radius, voxel_dims) #generate a random sphere to find its dimension\n",
    "    print('size of shperes:',tmpPoints.shape)\n",
    "    AllZeroSphere = np.zeros((1,tmpPoints.shape[2]))\n",
    "    AllZeroSpherePoints=np.zeros(tmpPoints.shape)\n",
    "    cnt=0\n",
    "    for MyCenter in itertools.product(range(0,voxel_dims[0]), range(0,voxel_dims[1]), range(0,voxel_dims[2])):\n",
    "        #print(MyCenter)\n",
    "        myPoints = SpherePoints(np.array(MyCenter) , radius, voxel_dims)\n",
    "        if myPoints.shape==(3,1,0): myPoints=AllZeroSpherePoints\n",
    "        if cnt==0:\n",
    "            AllPoints = np.array(myPoints,ndmin=4)\n",
    "            cnt=1\n",
    "        else:\n",
    "            AllPoints = np.concatenate((AllPoints,np.array(myPoints,ndmin=4)),axis=0)\n",
    "    #     if myPoints.shape!=(3,1,0): sphereVal = data[myPoints[0],myPoints[1],myPoints[2]]\n",
    "    #     else: sphereVal = AllZeroSphere\n",
    "\n",
    "    #    if myPoints.shape!=(0,): sphereVal = SphereValue(myPoints,data)\n",
    "    #     if sphereVal.shape!=(0,): sphereValOut=\n",
    "\n",
    "\n",
    "    end = timer()\n",
    "    print(end-start)\n",
    "    np.save('Radius'+str(radius)+'_points.npy',AllPoints)\n",
    "    # aa=np.load('Radius'+str(radius)+'_points.npy')"
   ]
  },
  {
   "cell_type": "code",
   "execution_count": 24,
   "id": "9694b913",
   "metadata": {},
   "outputs": [
    {
     "name": "stdout",
     "output_type": "stream",
     "text": [
      "AB_04152014\n",
      "471.5188950999873\n",
      "AM_05082014\n",
      "503.63950000004843\n",
      "CJ_06052014\n",
      "476.429766700021\n",
      "CS_04162014\n",
      "492.7330146000022\n",
      "DH_05142014\n",
      "510.9115828999784\n",
      "DS_12132013\n",
      "977.5868635000661\n",
      "ET_12102013\n",
      "1136.9223263999447\n",
      "JK_04252014\n",
      "498.87233530008234\n",
      "KK_04152014\n",
      "439.11542389995884\n",
      "MB_04252014\n",
      "535.9788431999041\n",
      "MG_04152014\n",
      "512.9381816000678\n",
      "ML_05122014\n",
      "572.5286690000212\n",
      "MM_05132014\n",
      "631.2255823999876\n",
      "NB_05012014\n",
      "606.478436299949\n",
      "NJM_05142014\n",
      "565.6530673999805\n",
      "PD_04162014\n",
      "578.0618271999992\n",
      "RS_04162014\n",
      "590.076231700019\n",
      "RS_12102013\n",
      "1102.5432949999813\n",
      "SA_05162014\n",
      "609.7574222999392\n",
      "TD_05012014\n",
      "666.928425500053\n",
      "TH_12172013\n",
      "1056.0340601999778\n",
      "TP_05162014\n",
      "555.3920823999215\n"
     ]
    }
   ],
   "source": [
    "# This code does classification based on spot light search, parallel processing, fast\n",
    "CLconditions=['Neu','Neg','Targ']\n",
    "\n",
    "if not os.path.exists('C://Users/user/Documents/Reyhaneh/EEG+fMRI/EO/MRI_data/Analysis/MVPA/SpotlightR'+str(radius)):\n",
    "    # Create the directory if it doesn't exist\n",
    "    os.makedirs('C://Users/user/Documents/Reyhaneh/EEG+fMRI/EO/MRI_data/Analysis/MVPA/SpotlightR'+str(radius))\n",
    "    \n",
    "##LinearSVC(random_state=0))\n",
    "clf = SVC(kernel='linear',probability=True)\n",
    "pipeSpotLight = Pipeline([('scaler', StandardScaler()), ('clf', clf)])\n",
    "\n",
    "# subj_list_one=[subj_list[1]]; \n",
    "# Nsubj=len(subj_list_one)\n",
    "Nsubj=len(subj_list)\n",
    "all_performance = np.zeros(Nsubj)\n",
    "for i_sub, subj in enumerate(subj_list):\n",
    "    if (subj=='ET_12102013') & (radius==2): \n",
    "        continue  \n",
    "    print(subj)\n",
    "    start = timer()\n",
    "\n",
    "    ZstatInfoSubj=ZstatInfo.loc[ZstatInfo['Subj']==subj]\n",
    "    Zstattmp=ZstatInfoSubj.loc[ZstatInfoSubj['Run']==1]\n",
    "    Zstattmp.reset_index(inplace = True, drop = True)\n",
    "    MyFiletmp=Zstattmp['Folder'][0]+Zstattmp['Neg'][0][0]\n",
    "    \n",
    "    myimg_affine=nib.load(MyFiletmp).affine\n",
    "\n",
    "    Alldata=LoadAllNii(ZstatInfoSubj,CLconditions) # load Alldata\n",
    "         \n",
    "    DataArgDict= {'AllPoints': AllPoints,\n",
    "              'ZstatInfoSubj':ZstatInfoSubj ,\n",
    "              'CLconditions': CLconditions, \n",
    "              'Alldata': Alldata,\n",
    "              'pipeSpotLight':pipeSpotLight} \n",
    "    SpotLight_performance=np.zeros(AllPoints.shape[0])\n",
    "    \n",
    "    aa1= range(AllPoints.shape[0])\n",
    "    aa2=[DataArgDict]*len(aa1)\n",
    "    aa=[*zip(aa1, aa2)]\n",
    "\n",
    "    if __name__ == \"__main__\":\n",
    "\n",
    "        pool = Pool(multiprocessing.cpu_count()-2)\n",
    "        resultsN = pool.map(multi_run_wrapperLoopiFeatureDict,aa)\n",
    "\n",
    "        resultsN=np.array(resultsN).reshape(voxel_dims)\n",
    "\n",
    "        nft_img = nib.Nifti1Image(resultsN, myimg_affine)\n",
    "        OutFile='C://Users/user/Documents/Reyhaneh/EEG+fMRI/EO/MRI_data/Analysis/MVPA/SpotlightR'+str(radius)+'/MVPA_'+subj+'.nii.gz'\n",
    "        nib.save(nft_img, OutFile)\n",
    "\n",
    "    end = timer()\n",
    "    print(end-start)\n",
    "# print(resultsN[56500:56510])"
   ]
  },
  {
   "cell_type": "code",
   "execution_count": 25,
   "id": "d7ee037a",
   "metadata": {},
   "outputs": [
    {
     "data": {
      "text/plain": [
       "3"
      ]
     },
     "execution_count": 25,
     "metadata": {},
     "output_type": "execute_result"
    }
   ],
   "source": [
    "radius\n"
   ]
  },
  {
   "cell_type": "code",
   "execution_count": 15,
   "id": "b83f6688",
   "metadata": {},
   "outputs": [
    {
     "data": {
      "text/plain": [
       "False"
      ]
     },
     "execution_count": 15,
     "metadata": {},
     "output_type": "execute_result"
    }
   ],
   "source": [
    "(subj=='ET_12102013') & (radius==2)"
   ]
  },
  {
   "cell_type": "code",
   "execution_count": null,
   "id": "97426b2f",
   "metadata": {},
   "outputs": [],
   "source": [
    "Nsubj"
   ]
  },
  {
   "cell_type": "markdown",
   "id": "5a20ec72",
   "metadata": {},
   "source": [
    "# This code does classification based on spot light search, serial processing, slow. Don't run it\n",
    "start = timer()\n",
    "CLconditions=['Neu','Neg','Targ']\n",
    "radius = 1 #spheres radius\n",
    "\n",
    "\n",
    "##LinearSVC(random_state=0))\n",
    "clf = SVC(kernel='linear',probability=True)\n",
    "pipeSpotLight = Pipeline([('scaler', StandardScaler()), ('clf', clf)])\n",
    "\n",
    "subj_list_one=[subj_list[1]]; \n",
    "Nsubj=len(subj_list_one)\n",
    "all_performance = np.zeros(Nsubj)\n",
    "for i_sub, subj in enumerate(subj_list_one):\n",
    "    \n",
    "    ZstatInfoSubj=ZstatInfo.loc[ZstatInfo['Subj']==subj]\n",
    "    \n",
    "    Alldata=LoadAllNii(ZstatInfoSubj,CLconditions) # load Alldata\n",
    "         \n",
    "    DataArgDict= {'AllPoints': AllPoints,\n",
    "              'ZstatInfoSubj':ZstatInfoSubj ,\n",
    "              'CLconditions': CLconditions, \n",
    "              'Alldata': Alldata,\n",
    "              'pipeSpotLight':pipeSpotLight} \n",
    "    SpotLight_performance=np.zeros(AllPoints.shape[0])\n",
    "    for iFeature in range(AllPoints.shape[0]): #iFeature=40836, range(56500,56610):\n",
    "\n",
    "        SpotLight_performance[iFeature]= LoopiFeature(iFeature, AllPoints,ZstatInfoSubj ,CLconditions, Alldata, pipeSpotLight)\n",
    "        \n",
    "end = timer()\n",
    "print(end-start)\n",
    "#SpotLight_performance[56500:56610]"
   ]
  },
  {
   "cell_type": "code",
   "execution_count": 17,
   "id": "f5a0035e",
   "metadata": {},
   "outputs": [],
   "source": [
    "pipeSpotLight='pipeSpotLight'\n",
    "SpotPerformance = 0;\n",
    "NRun=int(max(Gr))"
   ]
  },
  {
   "cell_type": "code",
   "execution_count": 19,
   "id": "2badbc3f",
   "metadata": {},
   "outputs": [
    {
     "data": {
      "text/plain": [
       "8"
      ]
     },
     "execution_count": 19,
     "metadata": {},
     "output_type": "execute_result"
    }
   ],
   "source": [
    "gkf = GroupKFold(n_splits=NRun)\n",
    "performance_this_fold = np.zeros(gkf.n_splits)\n",
    "gkf.n_splits"
   ]
  },
  {
   "cell_type": "code",
   "execution_count": 20,
   "id": "66ab2649",
   "metadata": {},
   "outputs": [
    {
     "name": "stdout",
     "output_type": "stream",
     "text": [
      "Indices of our test-samples: [133, 134, 135, 136, 137, 138, 139, 140, 141, 142, 143, 144, 145, 146, 147, 148, 149, 150, 151]\n",
      "... which correspond to following runs: [8.0, 8.0, 8.0, 8.0, 8.0, 8.0, 8.0, 8.0, 8.0, 8.0, 8.0, 8.0, 8.0, 8.0, 8.0, 8.0, 8.0, 8.0, 8.0] \n",
      "\n"
     ]
    },
    {
     "ename": "AttributeError",
     "evalue": "'str' object has no attribute 'fit'",
     "output_type": "error",
     "traceback": [
      "\u001b[1;31m---------------------------------------------------------------------------\u001b[0m",
      "\u001b[1;31mAttributeError\u001b[0m                            Traceback (most recent call last)",
      "Cell \u001b[1;32mIn[20], line 15\u001b[0m\n\u001b[0;32m     12\u001b[0m         X_test, X_train\u001b[38;5;241m=\u001b[39mX[test_idx], X[train_idx]\n\u001b[0;32m     13\u001b[0m         Y_test, Y_train\u001b[38;5;241m=\u001b[39mY[test_idx], Y[train_idx]\n\u001b[1;32m---> 15\u001b[0m         \u001b[43mpipeSpotLight\u001b[49m\u001b[38;5;241;43m.\u001b[39;49m\u001b[43mfit\u001b[49m(X_train, Y_train)\n\u001b[0;32m     16\u001b[0m         preds \u001b[38;5;241m=\u001b[39m pipeSpotLight\u001b[38;5;241m.\u001b[39mpredict(X_test)\n\u001b[0;32m     17\u001b[0m \u001b[38;5;66;03m#                 print('TRUE:',Y_test)\u001b[39;00m\n\u001b[0;32m     18\u001b[0m \u001b[38;5;66;03m#                 print('Pred:',preds)\u001b[39;00m\n\u001b[0;32m     19\u001b[0m \u001b[38;5;66;03m#                 print(\"Accuracy test: %.2f\" % (preds == Y_test).mean())\u001b[39;00m\n\u001b[0;32m     20\u001b[0m \n\u001b[0;32m     21\u001b[0m \u001b[38;5;66;03m#        performance = roc_auc_score(Y_test,  pipe.predict_proba(X_test), multi_class='ovr') # 'ovr'(One-vs-rest): Computes the AUC of each class against the rest, This treats the multiclass case in the same way as the multilabel case. Sensitive to class imbalance even when average == 'macro', because class imbalance affects the composition of each of the ‘rest’ groupings.\u001b[39;00m\n\u001b[0;32m     22\u001b[0m         \u001b[38;5;66;03m# in the pairwise AUC calculation, if a sample is labeled wrongly as a another class (not in paired), it will be dropped from the calculation, resulting in a higher rate\u001b[39;00m\n",
      "\u001b[1;31mAttributeError\u001b[0m: 'str' object has no attribute 'fit'"
     ]
    }
   ],
   "source": [
    "pipeSpotLight='pipeSpotLight'\n",
    "SpotPerformance = 0;\n",
    "NRun=int(max(Gr))\n",
    "if (np.any(X)): # perform classifier if values of X are not all zero\n",
    "    # print(Gr)\n",
    "    gkf = GroupKFold(n_splits=NRun) # leave one out, initialize GroupKFold with Nrun splits\n",
    "    performance_this_fold = np.zeros(gkf.n_splits)\n",
    "    for i_fold, (train_idx, test_idx) in enumerate(gkf.split(X=X, y=Y, groups=Gr)):\n",
    "        print(\"Indices of our test-samples: %r\" % test_idx.tolist())\n",
    "        print(\"... which correspond to following runs: %r\" % Gr[test_idx].tolist(), '\\n')\n",
    "        # Implement your ToDo here!\n",
    "        X_test, X_train=X[test_idx], X[train_idx]\n",
    "        Y_test, Y_train=Y[test_idx], Y[train_idx]\n",
    "\n",
    "        pipeSpotLight.fit(X_train, Y_train)\n",
    "        preds = pipeSpotLight.predict(X_test)\n",
    "#                 print('TRUE:',Y_test)\n",
    "#                 print('Pred:',preds)\n",
    "#                 print(\"Accuracy test: %.2f\" % (preds == Y_test).mean())\n",
    "\n",
    "#        performance = roc_auc_score(Y_test,  pipe.predict_proba(X_test), multi_class='ovr') # 'ovr'(One-vs-rest): Computes the AUC of each class against the rest, This treats the multiclass case in the same way as the multilabel case. Sensitive to class imbalance even when average == 'macro', because class imbalance affects the composition of each of the ‘rest’ groupings.\n",
    "        # in the pairwise AUC calculation, if a sample is labeled wrongly as a another class (not in paired), it will be dropped from the calculation, resulting in a higher rate\n",
    "        performance = roc_auc_score(Y_test,  pipeSpotLight.predict_proba(X_test),  multi_class='ovo', average = 'macro') # 'ovo' (One-vs-one) Computes the average AUC of all possible pairwise combinations of classes. Insensitive to class imbalance when average == 'macro'.\n",
    "\n",
    "        performance_this_fold[i_fold] = performance\n",
    "\n",
    "    SpotPerformance=np.mean(performance_this_fold)"
   ]
  },
  {
   "cell_type": "code",
   "execution_count": 14,
   "id": "85cc5ef6",
   "metadata": {},
   "outputs": [],
   "source": [
    "iFeature=74712\n",
    "\n",
    "myPoints = DataArgDict['AllPoints'][iFeature] \n",
    "myPoints.shape\n",
    "#LoopiFeatureDict(iFeature, DataArgDict)\n",
    "[X, Y, Gr]=MVPA_FeatureExtraction(DataArgDict['ZstatInfoSubj'],DataArgDict['CLconditions'],DataArgDict['Alldata'], myPoints) # extract data for classifer\n",
    "SpotPerformance=MVPA_Classification(X,Y,Gr, DataArgDict['pipeSpotLight'])\n",
    "pipeSpotLight='pipeSpotLight'"
   ]
  },
  {
   "cell_type": "code",
   "execution_count": 17,
   "id": "ec87c70a",
   "metadata": {},
   "outputs": [
    {
     "name": "stdout",
     "output_type": "stream",
     "text": [
      "ET_12102013\n",
      "6693.612897799991\n"
     ]
    }
   ],
   "source": [
    "# This code does classification based on spot light search, serial processing (for trouble shooting)\n",
    "CLconditions=['Neu','Neg','Targ']\n",
    "\n",
    "\n",
    "##LinearSVC(random_state=0))\n",
    "clf = SVC(kernel='linear',probability=True)\n",
    "pipeSpotLight = Pipeline([('scaler', StandardScaler()), ('clf', clf)])\n",
    "\n",
    "# subj_list_one=[subj_list[1]]; \n",
    "# Nsubj=len(subj_list_one)\n",
    "Nsubj=len([subj_list[6]])\n",
    "all_performance = np.zeros(Nsubj)\n",
    "for i_sub, subj in enumerate([subj_list[6]]):\n",
    "    print(subj)\n",
    "    start = timer()\n",
    "\n",
    "    ZstatInfoSubj=ZstatInfo.loc[ZstatInfo['Subj']==subj]\n",
    "    Zstattmp=ZstatInfoSubj.loc[ZstatInfoSubj['Run']==1]\n",
    "    Zstattmp.reset_index(inplace = True, drop = True)\n",
    "    MyFiletmp=Zstattmp['Folder'][0]+Zstattmp['Neg'][0][0]\n",
    "    \n",
    "    myimg_affine=nib.load(MyFiletmp).affine\n",
    "\n",
    "    Alldata=LoadAllNii(ZstatInfoSubj,CLconditions) # load Alldata\n",
    "         \n",
    "    DataArgDict= {'AllPoints': AllPoints,\n",
    "              'ZstatInfoSubj':ZstatInfoSubj ,\n",
    "              'CLconditions': CLconditions, \n",
    "              'Alldata': Alldata,\n",
    "              'pipeSpotLight':pipeSpotLight} \n",
    "    SpotLight_performance=np.zeros(AllPoints.shape[0])\n",
    "    \n",
    "#     aa1= range(AllPoints.shape[0])\n",
    "#     aa2=[DataArgDict]*len(aa1)\n",
    "#     aa=[*zip(aa1, aa2)]\n",
    "\n",
    "    resultsN = np.zeros(AllPoints.shape[0])\n",
    "    for iFeature in range(AllPoints.shape[0]): #iFeature=40836, range(56500,56610):\n",
    "        if (iFeature==74712 and radius==2 and subj=='ET_12102013'): # for ET, radius=2, the code stucks at this voxel\n",
    "            resultsN[iFeature]=resultsN[iFeature-1]\n",
    "        else:\n",
    "            resultsN[iFeature]= LoopiFeatureDict(iFeature, DataArgDict)\n",
    "    \n",
    "    resultsN=np.array(resultsN).reshape(voxel_dims)\n",
    "\n",
    "    nft_img = nib.Nifti1Image(resultsN, myimg_affine)\n",
    "    OutFile='C://Users/user/Documents/Reyhaneh/EEG+fMRI/EO/MRI_data/Analysis/MVPA/SpotlightR'+str(radius)+'/MVPA_'+subj+'.nii.gz'\n",
    "    nib.save(nft_img, OutFile)\n",
    "\n",
    "    end = timer()\n",
    "    print(end-start)\n",
    "# print(resultsN[56500:56510])"
   ]
  },
  {
   "cell_type": "code",
   "execution_count": 2,
   "id": "844c83f1",
   "metadata": {},
   "outputs": [
    {
     "ename": "NameError",
     "evalue": "name 'OutFile' is not defined",
     "output_type": "error",
     "traceback": [
      "\u001b[1;31m---------------------------------------------------------------------------\u001b[0m",
      "\u001b[1;31mNameError\u001b[0m                                 Traceback (most recent call last)",
      "Cell \u001b[1;32mIn[2], line 1\u001b[0m\n\u001b[1;32m----> 1\u001b[0m \u001b[43mOutFile\u001b[49m\n",
      "\u001b[1;31mNameError\u001b[0m: name 'OutFile' is not defined"
     ]
    }
   ],
   "source": [
    "OutFile"
   ]
  },
  {
   "cell_type": "code",
   "execution_count": 41,
   "id": "d79bf782",
   "metadata": {},
   "outputs": [
    {
     "name": "stdout",
     "output_type": "stream",
     "text": [
      "C://Users/user/Documents/Reyhaneh/EEG+fMRI/EO/MRI_data/Analysis/SPM/AM_05082014/3cond_dist2/run01/spmT_0009.nii\n"
     ]
    }
   ],
   "source": [
    "Zstattmp=ZstatInfoSubj.loc[ZstatInfoSubj['Run']==1]\n",
    "Zstattmp.reset_index(inplace = True, drop = True)\n",
    "MyFile=Zstattmp['Folder'][0]+Zstattmp['Neg'][0][0]\n",
    "data = nib.load(MyFile).get_data()\n",
    "voxel_dims = data.shape\n",
    "print(voxel_dims)"
   ]
  },
  {
   "cell_type": "code",
   "execution_count": 40,
   "id": "bc0ec079",
   "metadata": {},
   "outputs": [
    {
     "data": {
      "text/html": [
       "<div>\n",
       "<style scoped>\n",
       "    .dataframe tbody tr th:only-of-type {\n",
       "        vertical-align: middle;\n",
       "    }\n",
       "\n",
       "    .dataframe tbody tr th {\n",
       "        vertical-align: top;\n",
       "    }\n",
       "\n",
       "    .dataframe thead th {\n",
       "        text-align: right;\n",
       "    }\n",
       "</style>\n",
       "<table border=\"1\" class=\"dataframe\">\n",
       "  <thead>\n",
       "    <tr style=\"text-align: right;\">\n",
       "      <th></th>\n",
       "      <th>Subj</th>\n",
       "      <th>Run</th>\n",
       "      <th>Folder</th>\n",
       "      <th>Neu</th>\n",
       "      <th>Neg</th>\n",
       "      <th>Pos</th>\n",
       "      <th>Targ</th>\n",
       "    </tr>\n",
       "  </thead>\n",
       "  <tbody>\n",
       "    <tr>\n",
       "      <th>0</th>\n",
       "      <td>AM_05082014</td>\n",
       "      <td>1</td>\n",
       "      <td>C://Users/user/Documents/Reyhaneh/EEG+fMRI/EO/...</td>\n",
       "      <td>[spmT_0001.nii, spmT_0002.nii, spmT_0003.nii, ...</td>\n",
       "      <td>[spmT_0009.nii, spmT_0010.nii, spmT_0011.nii, ...</td>\n",
       "      <td>[spmT_0017.nii]</td>\n",
       "      <td>[spmT_0018.nii, spmT_0019.nii, spmT_0020.nii, ...</td>\n",
       "    </tr>\n",
       "  </tbody>\n",
       "</table>\n",
       "</div>"
      ],
      "text/plain": [
       "          Subj Run                                             Folder  \\\n",
       "0  AM_05082014   1  C://Users/user/Documents/Reyhaneh/EEG+fMRI/EO/...   \n",
       "\n",
       "                                                 Neu  \\\n",
       "0  [spmT_0001.nii, spmT_0002.nii, spmT_0003.nii, ...   \n",
       "\n",
       "                                                 Neg              Pos  \\\n",
       "0  [spmT_0009.nii, spmT_0010.nii, spmT_0011.nii, ...  [spmT_0017.nii]   \n",
       "\n",
       "                                                Targ  \n",
       "0  [spmT_0018.nii, spmT_0019.nii, spmT_0020.nii, ...  "
      ]
     },
     "execution_count": 40,
     "metadata": {},
     "output_type": "execute_result"
    }
   ],
   "source": [
    "Zstattmp=ZstatInfoSubj.loc[ZstatInfoSubj['Run']==1]\n",
    "Zstattmp.reset_index(inplace = True, drop = True)\n",
    "Zstattmp"
   ]
  },
  {
   "cell_type": "code",
   "execution_count": null,
   "id": "92f74cf9",
   "metadata": {},
   "outputs": [],
   "source": [
    "\n",
    "MyFile=MyZstat['Folder'][0]+MyZstat['Neu'][0][0]\n",
    "#print(MyFile)\n",
    "data = nib.load(MyFile).get_data()\n",
    "voxel_dims = data.shape\n",
    "print(voxel_dims)"
   ]
  },
  {
   "cell_type": "code",
   "execution_count": null,
   "id": "8c34a51c",
   "metadata": {},
   "outputs": [],
   "source": [
    "statOut=np.array(resultsN).reshape(voxel_dims)\n",
    "statOut.shape\n",
    "nib.save(statOut)"
   ]
  },
  {
   "cell_type": "code",
   "execution_count": null,
   "id": "d9c05ac6",
   "metadata": {},
   "outputs": [],
   "source": [
    "cnt=0\n",
    "tmpVal=[]\n",
    "for tmp in itertools.product(range(0,1), range(0,2), range(0,3)):\n",
    "    print(f'{tmp}: {cnt}')\n",
    "    tmpVal.append(cnt)\n",
    "    cnt+=1\n",
    "print(tmpVal)\n",
    "tmpVal=np.array(tmpVal)\n",
    "tt=tmpVal.reshape(1,2,3)\n",
    "tt.shape"
   ]
  },
  {
   "cell_type": "code",
   "execution_count": null,
   "id": "2b37e3d5",
   "metadata": {},
   "outputs": [],
   "source": [
    "tt[0,1,2]"
   ]
  },
  {
   "cell_type": "code",
   "execution_count": null,
   "id": "5d56fb7a",
   "metadata": {},
   "outputs": [],
   "source": [
    "aa1= range(AllPoints.shape[0])\n",
    "aa2=[DataArgDict]*len(aa1)\n",
    "aa=[*zip(aa1, aa2)]\n",
    "\n",
    "#def multi_run_wrapperLoopiFeatureDict(args): # If I call it here, Jupyter notebook will freeze\n",
    "#    return LoopiFeatureDict(*args) \n",
    "start = timer()\n",
    "\n",
    "if __name__ == \"__main__\":\n",
    "    \n",
    "    pool = Pool(multiprocessing.cpu_count())\n",
    "    results = pool.map(multi_run_wrapperLoopiFeatureDict,aa)\n",
    "    #print(results)\n",
    "end = timer()\n",
    "print(end-start)    \n",
    "print(results[56500:56510])"
   ]
  },
  {
   "cell_type": "markdown",
   "id": "6ec6807e",
   "metadata": {},
   "source": [
    "If it is needed to modify a funciton and relaod it:"
   ]
  },
  {
   "cell_type": "code",
   "execution_count": null,
   "id": "422f8d62",
   "metadata": {},
   "outputs": [],
   "source": [
    "#del multi_run_wrapperLoopiFeatureDict\n",
    "#from MVPA_func import multi_run_wrapperLoopiFeatureDict\n",
    "multi_run_wrapperLoopiFeatureDict = reload(sys.modules[\"MVPA_func\"]).multi_run_wrapperLoopiFeatureDict  # reload() returns the new module\n",
    "LoopiFeatureDict = reload(sys.modules[\"MVPA_func\"]).LoopiFeatureDict  # reload() returns the new module\n"
   ]
  },
  {
   "cell_type": "code",
   "execution_count": null,
   "id": "06c2701a",
   "metadata": {},
   "outputs": [],
   "source": [
    "SpotLight_performance[56500:56510]"
   ]
  }
 ],
 "metadata": {
  "kernelspec": {
   "display_name": "Python 3 (ipykernel)",
   "language": "python",
   "name": "python3"
  },
  "language_info": {
   "codemirror_mode": {
    "name": "ipython",
    "version": 3
   },
   "file_extension": ".py",
   "mimetype": "text/x-python",
   "name": "python",
   "nbconvert_exporter": "python",
   "pygments_lexer": "ipython3",
   "version": "3.11.1"
  }
 },
 "nbformat": 4,
 "nbformat_minor": 5
}
