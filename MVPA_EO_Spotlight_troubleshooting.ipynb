{
 "cells": [
  {
   "attachments": {},
   "cell_type": "markdown",
   "id": "15a0d7b8",
   "metadata": {},
   "source": [
    "# Introduction\n",
    "In this file, spot light search MVPA is applied on Z-stat files from first level analysis I have done on naive space, ART applied images, with each stimuli giving one Z-stat image.\n",
    "\n",
    "MPVA is applied for all voxels of the brain. For each participant, data is split into the number of runs, with data from one run is used for test, and the rest is used for training. \n",
    "\n",
    "## Observation\n",
    "Brain on fire\n",
    "\n",
    "# Trouble Shooting resutls\n",
    "I checked the output from multi-class classifier performance (Neutral, Negative, Target), for which ROC value even for Radius=0 was above 0 for many regions. \n",
    "My tests showed that, the classifer labled all data to Target (chance level), however between Neutral & Negative it’s performance was above chance, resulting in ROC_AUC>.5\n",
    "However, fMRI data has auto-correlation property, as a result the true null hypothesis testing should be done (permutation) not simply comparing the results with chance level=.5 (at subject leve)\n",
    "Sklearn has a permutation_test_score function for permutation test, however it does not support multi-class. Therefore, I’m going to focus on two class here only (Neg/Target or Neg/Neu, or Neu+Neg/Target)\n",
    "\n",
    "\n",
    "    "
   ]
  },
  {
   "cell_type": "code",
   "execution_count": 1,
   "id": "595ae782",
   "metadata": {},
   "outputs": [],
   "source": [
    "import numpy as np\n",
    "import pandas as pd\n",
    "import os.path as op\n",
    "import matplotlib.pyplot as plt\n",
    "import nibabel as nib\n",
    "import itertools\n",
    "import multiprocessing\n",
    "from multiprocessing import Pool\n",
    "from importlib import reload #import function \"reload\"\n",
    "import sys\n",
    "\n",
    "import warnings\n",
    "warnings.filterwarnings(\"ignore\")\n",
    "import os\n",
    "import glob\n",
    "from glob import glob\n",
    "from scipy.io import loadmat\n",
    "import math\n",
    "import timeit\n",
    "from timeit import default_timer as timer\n",
    "\n",
    "plt.style.use('classic')\n",
    "%matplotlib inline"
   ]
  },
  {
   "cell_type": "code",
   "execution_count": 16,
   "id": "600e07d4",
   "metadata": {},
   "outputs": [],
   "source": [
    "from MVPA_func import SpherePoints, SphereValue, LoadAllNii, MVPA_FeatureExtraction, MVPA_Classification, LoopiFeatureDict, multi_run_wrapperLoopiFeatureDict\n",
    "from MVPA_func import LoopiFeatureDictPerm, multi_run_wrapperLoopiFeatureDictPerm"
   ]
  },
  {
   "cell_type": "code",
   "execution_count": 3,
   "id": "a4c3d1a3",
   "metadata": {},
   "outputs": [],
   "source": [
    "from sklearn.preprocessing import StandardScaler\n",
    "from sklearn.svm import SVC\n",
    "#from sklearn.svm import LinearSVC\n",
    "\n",
    "from sklearn.discriminant_analysis import LinearDiscriminantAnalysis\n",
    "from sklearn.metrics import accuracy_score\n",
    "from sklearn.model_selection import train_test_split\n",
    "from sklearn.metrics import roc_auc_score\n",
    "from sklearn.model_selection import GroupKFold\n",
    "from sklearn.decomposition import PCA\n",
    "from sklearn.feature_selection import SelectKBest, f_classif\n",
    "from sklearn.pipeline import Pipeline\n",
    "from sklearn.multioutput import MultiOutputClassifier"
   ]
  },
  {
   "cell_type": "markdown",
   "id": "0bc34d3d",
   "metadata": {},
   "source": [
    "### Load subject list file"
   ]
  },
  {
   "cell_type": "code",
   "execution_count": 4,
   "id": "3dfba78a",
   "metadata": {},
   "outputs": [],
   "source": [
    "subj_list_file='C://Users/user/Documents/Reyhaneh/EEG+fMRI/EO/subj_simultaneous.txt'\n",
    "subj_list=list()\n",
    "f = open(subj_list_file, 'r')\n",
    "line=f.readline()\n",
    "while line:\n",
    "    subj_list.append(line[0:-1])\n",
    "    oldline=line\n",
    "    line = f.readline()\n",
    "subj_list.pop()\n",
    "subj_list.append(oldline)\n",
    "f.close()\n",
    "Nsubj=len(subj_list)"
   ]
  },
  {
   "cell_type": "markdown",
   "id": "cfbeb2dc",
   "metadata": {},
   "source": [
    "### Load SPM.mat to extract experiment info\n",
    "This cell loads spm.mat file for each participant and from the data, extracts the number of runs, the path for each stat file, etc"
   ]
  },
  {
   "cell_type": "code",
   "execution_count": 5,
   "id": "5da5fcb4",
   "metadata": {},
   "outputs": [],
   "source": [
    "# NEW note: I need to change neg to sad & Fear, 3 December 2023\n",
    "# note: I don't know why the last item is repeated! but it doesn't make a misatke\n",
    "\n",
    "conditions=['Neu','Neg','Pos','Targ']\n",
    "ZstatInfo=pd.DataFrame(columns=['Subj','Run','Folder']+conditions)\n",
    "for subj in subj_list:\n",
    "    #print('Participant: '+subj)\n",
    "    # Zstat files and their condisitons are in SPM filesWe repeat loading in the dataframe to avoid dividing the onsets by 2 multiple times ...\n",
    "    SubjSPMFolder='C://Users/user/Documents/Reyhaneh/EEG+fMRI/EO/MRI_data/Analysis/SPM/'+subj+'/3cond_dist2/'\n",
    "    os.path.isdir(SubjSPMFolder)\n",
    "    myZstat=[]\n",
    "    \n",
    "    iRuns = 0\n",
    "    for myRun in os.listdir(SubjSPMFolder):\n",
    "        ZstatInfotmp=pd.DataFrame(columns=ZstatInfo.columns,index=[0])\n",
    "        ZstatInfotmp['Subj'][0]=subj\n",
    "        \n",
    "        RunSubjSPM=SubjSPMFolder+myRun+'/SPM.mat'\n",
    "        ZstatInfotmp['Folder'][0]=SubjSPMFolder+myRun+'/'\n",
    "\n",
    "        #print('   loading SPM.mat for '+myRun+'...')\n",
    "        mat = loadmat(RunSubjSPM)\n",
    "        mdata=mat['SPM'][0,0]\n",
    "        ndata=mdata['Sess'][0,0]\n",
    "        odata=ndata['U']\n",
    "        pdata=odata['name'][0]\n",
    "        ZstatNames=[pdata[i][0,0][0] for i in range(len(pdata))]\n",
    "        myZstat.append(ZstatNames)\n",
    "\n",
    "        ZstatInfotmp['Run'][0]=iRuns+1\n",
    "        old_ind=len(myZstat[iRuns])+1 \n",
    "        for iCond in reversed(conditions):    \n",
    "            Start_ind=myZstat[iRuns].index(iCond+'_1')+1\n",
    "            #print(Start_ind)\n",
    "            ZstatInfotmp[iCond][0]=['spmT_'+str(val).zfill(4)+'.nii' for val in list(range(Start_ind, old_ind))]#list(range(Start_ind, old_ind))\n",
    "            old_ind=Start_ind\n",
    "\n",
    "        ZstatInfo=ZstatInfo.append(ZstatInfotmp,ignore_index=True)\n",
    "        iRuns = iRuns+1\n",
    " "
   ]
  },
  {
   "cell_type": "markdown",
   "id": "287fc8ea",
   "metadata": {},
   "source": [
    "### find Voxel dimension by openning one of the image files\n"
   ]
  },
  {
   "cell_type": "code",
   "execution_count": 6,
   "id": "697c9fba",
   "metadata": {},
   "outputs": [
    {
     "data": {
      "text/html": [
       "<div>\n",
       "<style scoped>\n",
       "    .dataframe tbody tr th:only-of-type {\n",
       "        vertical-align: middle;\n",
       "    }\n",
       "\n",
       "    .dataframe tbody tr th {\n",
       "        vertical-align: top;\n",
       "    }\n",
       "\n",
       "    .dataframe thead th {\n",
       "        text-align: right;\n",
       "    }\n",
       "</style>\n",
       "<table border=\"1\" class=\"dataframe\">\n",
       "  <thead>\n",
       "    <tr style=\"text-align: right;\">\n",
       "      <th></th>\n",
       "      <th>Subj</th>\n",
       "      <th>Run</th>\n",
       "      <th>Folder</th>\n",
       "      <th>Neu</th>\n",
       "      <th>Neg</th>\n",
       "      <th>Pos</th>\n",
       "      <th>Targ</th>\n",
       "    </tr>\n",
       "  </thead>\n",
       "  <tbody>\n",
       "    <tr>\n",
       "      <th>0</th>\n",
       "      <td>AB_04152014</td>\n",
       "      <td>1</td>\n",
       "      <td>C://Users/user/Documents/Reyhaneh/EEG+fMRI/EO/...</td>\n",
       "      <td>[spmT_0001.nii, spmT_0002.nii, spmT_0003.nii, ...</td>\n",
       "      <td>[spmT_0007.nii, spmT_0008.nii, spmT_0009.nii, ...</td>\n",
       "      <td>[spmT_0014.nii]</td>\n",
       "      <td>[spmT_0015.nii, spmT_0016.nii, spmT_0017.nii, ...</td>\n",
       "    </tr>\n",
       "    <tr>\n",
       "      <th>1</th>\n",
       "      <td>AB_04152014</td>\n",
       "      <td>2</td>\n",
       "      <td>C://Users/user/Documents/Reyhaneh/EEG+fMRI/EO/...</td>\n",
       "      <td>[spmT_0001.nii, spmT_0002.nii, spmT_0003.nii, ...</td>\n",
       "      <td>[spmT_0009.nii, spmT_0010.nii, spmT_0011.nii, ...</td>\n",
       "      <td>[spmT_0017.nii]</td>\n",
       "      <td>[spmT_0018.nii, spmT_0019.nii, spmT_0020.nii, ...</td>\n",
       "    </tr>\n",
       "    <tr>\n",
       "      <th>2</th>\n",
       "      <td>AB_04152014</td>\n",
       "      <td>3</td>\n",
       "      <td>C://Users/user/Documents/Reyhaneh/EEG+fMRI/EO/...</td>\n",
       "      <td>[spmT_0001.nii, spmT_0002.nii, spmT_0003.nii, ...</td>\n",
       "      <td>[spmT_0009.nii, spmT_0010.nii, spmT_0011.nii, ...</td>\n",
       "      <td>[spmT_0017.nii]</td>\n",
       "      <td>[spmT_0018.nii, spmT_0019.nii, spmT_0020.nii, ...</td>\n",
       "    </tr>\n",
       "    <tr>\n",
       "      <th>3</th>\n",
       "      <td>AB_04152014</td>\n",
       "      <td>4</td>\n",
       "      <td>C://Users/user/Documents/Reyhaneh/EEG+fMRI/EO/...</td>\n",
       "      <td>[spmT_0001.nii, spmT_0002.nii, spmT_0003.nii, ...</td>\n",
       "      <td>[spmT_0009.nii, spmT_0010.nii, spmT_0011.nii, ...</td>\n",
       "      <td>[spmT_0017.nii]</td>\n",
       "      <td>[spmT_0018.nii, spmT_0019.nii, spmT_0020.nii, ...</td>\n",
       "    </tr>\n",
       "    <tr>\n",
       "      <th>4</th>\n",
       "      <td>AB_04152014</td>\n",
       "      <td>5</td>\n",
       "      <td>C://Users/user/Documents/Reyhaneh/EEG+fMRI/EO/...</td>\n",
       "      <td>[spmT_0001.nii, spmT_0002.nii, spmT_0003.nii, ...</td>\n",
       "      <td>[spmT_0009.nii, spmT_0010.nii, spmT_0011.nii, ...</td>\n",
       "      <td>[spmT_0017.nii]</td>\n",
       "      <td>[spmT_0018.nii, spmT_0019.nii, spmT_0020.nii, ...</td>\n",
       "    </tr>\n",
       "    <tr>\n",
       "      <th>...</th>\n",
       "      <td>...</td>\n",
       "      <td>...</td>\n",
       "      <td>...</td>\n",
       "      <td>...</td>\n",
       "      <td>...</td>\n",
       "      <td>...</td>\n",
       "      <td>...</td>\n",
       "    </tr>\n",
       "    <tr>\n",
       "      <th>117</th>\n",
       "      <td>TP_05162014</td>\n",
       "      <td>1</td>\n",
       "      <td>C://Users/user/Documents/Reyhaneh/EEG+fMRI/EO/...</td>\n",
       "      <td>[spmT_0001.nii, spmT_0002.nii, spmT_0003.nii, ...</td>\n",
       "      <td>[spmT_0009.nii, spmT_0010.nii, spmT_0011.nii, ...</td>\n",
       "      <td>[spmT_0017.nii]</td>\n",
       "      <td>[spmT_0018.nii, spmT_0019.nii, spmT_0020.nii, ...</td>\n",
       "    </tr>\n",
       "    <tr>\n",
       "      <th>118</th>\n",
       "      <td>TP_05162014</td>\n",
       "      <td>2</td>\n",
       "      <td>C://Users/user/Documents/Reyhaneh/EEG+fMRI/EO/...</td>\n",
       "      <td>[spmT_0001.nii, spmT_0002.nii, spmT_0003.nii, ...</td>\n",
       "      <td>[spmT_0009.nii, spmT_0010.nii, spmT_0011.nii, ...</td>\n",
       "      <td>[spmT_0017.nii]</td>\n",
       "      <td>[spmT_0018.nii, spmT_0019.nii, spmT_0020.nii, ...</td>\n",
       "    </tr>\n",
       "    <tr>\n",
       "      <th>119</th>\n",
       "      <td>TP_05162014</td>\n",
       "      <td>3</td>\n",
       "      <td>C://Users/user/Documents/Reyhaneh/EEG+fMRI/EO/...</td>\n",
       "      <td>[spmT_0001.nii, spmT_0002.nii, spmT_0003.nii, ...</td>\n",
       "      <td>[spmT_0009.nii, spmT_0010.nii, spmT_0011.nii, ...</td>\n",
       "      <td>[spmT_0017.nii]</td>\n",
       "      <td>[spmT_0018.nii, spmT_0019.nii, spmT_0020.nii, ...</td>\n",
       "    </tr>\n",
       "    <tr>\n",
       "      <th>120</th>\n",
       "      <td>TP_05162014</td>\n",
       "      <td>4</td>\n",
       "      <td>C://Users/user/Documents/Reyhaneh/EEG+fMRI/EO/...</td>\n",
       "      <td>[spmT_0001.nii, spmT_0002.nii, spmT_0003.nii, ...</td>\n",
       "      <td>[spmT_0009.nii, spmT_0010.nii, spmT_0011.nii, ...</td>\n",
       "      <td>[spmT_0017.nii]</td>\n",
       "      <td>[spmT_0018.nii, spmT_0019.nii, spmT_0020.nii, ...</td>\n",
       "    </tr>\n",
       "    <tr>\n",
       "      <th>121</th>\n",
       "      <td>TP_05162014</td>\n",
       "      <td>5</td>\n",
       "      <td>C://Users/user/Documents/Reyhaneh/EEG+fMRI/EO/...</td>\n",
       "      <td>[spmT_0001.nii, spmT_0002.nii, spmT_0003.nii, ...</td>\n",
       "      <td>[spmT_0009.nii, spmT_0010.nii, spmT_0011.nii, ...</td>\n",
       "      <td>[spmT_0017.nii]</td>\n",
       "      <td>[spmT_0018.nii, spmT_0019.nii, spmT_0020.nii, ...</td>\n",
       "    </tr>\n",
       "  </tbody>\n",
       "</table>\n",
       "<p>122 rows × 7 columns</p>\n",
       "</div>"
      ],
      "text/plain": [
       "            Subj Run                                             Folder  \\\n",
       "0    AB_04152014   1  C://Users/user/Documents/Reyhaneh/EEG+fMRI/EO/...   \n",
       "1    AB_04152014   2  C://Users/user/Documents/Reyhaneh/EEG+fMRI/EO/...   \n",
       "2    AB_04152014   3  C://Users/user/Documents/Reyhaneh/EEG+fMRI/EO/...   \n",
       "3    AB_04152014   4  C://Users/user/Documents/Reyhaneh/EEG+fMRI/EO/...   \n",
       "4    AB_04152014   5  C://Users/user/Documents/Reyhaneh/EEG+fMRI/EO/...   \n",
       "..           ...  ..                                                ...   \n",
       "117  TP_05162014   1  C://Users/user/Documents/Reyhaneh/EEG+fMRI/EO/...   \n",
       "118  TP_05162014   2  C://Users/user/Documents/Reyhaneh/EEG+fMRI/EO/...   \n",
       "119  TP_05162014   3  C://Users/user/Documents/Reyhaneh/EEG+fMRI/EO/...   \n",
       "120  TP_05162014   4  C://Users/user/Documents/Reyhaneh/EEG+fMRI/EO/...   \n",
       "121  TP_05162014   5  C://Users/user/Documents/Reyhaneh/EEG+fMRI/EO/...   \n",
       "\n",
       "                                                   Neu  \\\n",
       "0    [spmT_0001.nii, spmT_0002.nii, spmT_0003.nii, ...   \n",
       "1    [spmT_0001.nii, spmT_0002.nii, spmT_0003.nii, ...   \n",
       "2    [spmT_0001.nii, spmT_0002.nii, spmT_0003.nii, ...   \n",
       "3    [spmT_0001.nii, spmT_0002.nii, spmT_0003.nii, ...   \n",
       "4    [spmT_0001.nii, spmT_0002.nii, spmT_0003.nii, ...   \n",
       "..                                                 ...   \n",
       "117  [spmT_0001.nii, spmT_0002.nii, spmT_0003.nii, ...   \n",
       "118  [spmT_0001.nii, spmT_0002.nii, spmT_0003.nii, ...   \n",
       "119  [spmT_0001.nii, spmT_0002.nii, spmT_0003.nii, ...   \n",
       "120  [spmT_0001.nii, spmT_0002.nii, spmT_0003.nii, ...   \n",
       "121  [spmT_0001.nii, spmT_0002.nii, spmT_0003.nii, ...   \n",
       "\n",
       "                                                   Neg              Pos  \\\n",
       "0    [spmT_0007.nii, spmT_0008.nii, spmT_0009.nii, ...  [spmT_0014.nii]   \n",
       "1    [spmT_0009.nii, spmT_0010.nii, spmT_0011.nii, ...  [spmT_0017.nii]   \n",
       "2    [spmT_0009.nii, spmT_0010.nii, spmT_0011.nii, ...  [spmT_0017.nii]   \n",
       "3    [spmT_0009.nii, spmT_0010.nii, spmT_0011.nii, ...  [spmT_0017.nii]   \n",
       "4    [spmT_0009.nii, spmT_0010.nii, spmT_0011.nii, ...  [spmT_0017.nii]   \n",
       "..                                                 ...              ...   \n",
       "117  [spmT_0009.nii, spmT_0010.nii, spmT_0011.nii, ...  [spmT_0017.nii]   \n",
       "118  [spmT_0009.nii, spmT_0010.nii, spmT_0011.nii, ...  [spmT_0017.nii]   \n",
       "119  [spmT_0009.nii, spmT_0010.nii, spmT_0011.nii, ...  [spmT_0017.nii]   \n",
       "120  [spmT_0009.nii, spmT_0010.nii, spmT_0011.nii, ...  [spmT_0017.nii]   \n",
       "121  [spmT_0009.nii, spmT_0010.nii, spmT_0011.nii, ...  [spmT_0017.nii]   \n",
       "\n",
       "                                                  Targ  \n",
       "0    [spmT_0015.nii, spmT_0016.nii, spmT_0017.nii, ...  \n",
       "1    [spmT_0018.nii, spmT_0019.nii, spmT_0020.nii, ...  \n",
       "2    [spmT_0018.nii, spmT_0019.nii, spmT_0020.nii, ...  \n",
       "3    [spmT_0018.nii, spmT_0019.nii, spmT_0020.nii, ...  \n",
       "4    [spmT_0018.nii, spmT_0019.nii, spmT_0020.nii, ...  \n",
       "..                                                 ...  \n",
       "117  [spmT_0018.nii, spmT_0019.nii, spmT_0020.nii, ...  \n",
       "118  [spmT_0018.nii, spmT_0019.nii, spmT_0020.nii, ...  \n",
       "119  [spmT_0018.nii, spmT_0019.nii, spmT_0020.nii, ...  \n",
       "120  [spmT_0018.nii, spmT_0019.nii, spmT_0020.nii, ...  \n",
       "121  [spmT_0018.nii, spmT_0019.nii, spmT_0020.nii, ...  \n",
       "\n",
       "[122 rows x 7 columns]"
      ]
     },
     "execution_count": 6,
     "metadata": {},
     "output_type": "execute_result"
    }
   ],
   "source": [
    "ZstatInfo"
   ]
  },
  {
   "cell_type": "code",
   "execution_count": 7,
   "id": "046cc8c0",
   "metadata": {},
   "outputs": [],
   "source": [
    "# Calculate the length of each list in Neu, Neg, and Targ columns\n",
    "ZstatInfo['Neu_cnt'] = ZstatInfo['Neu'].apply(len)\n",
    "ZstatInfo['Neg_cnt'] = ZstatInfo['Neg'].apply(len)\n",
    "ZstatInfo['Targ_cnt'] = ZstatInfo['Targ'].apply(len)\n",
    "\n",
    "# Sum the counts for each Subj\n",
    "result = ZstatInfo.groupby('Subj')[['Neu_cnt', 'Neg_cnt', 'Targ_cnt']].sum().reset_index()\n",
    "result.to_csv('trial_cnt.csv')"
   ]
  },
  {
   "cell_type": "code",
   "execution_count": 8,
   "id": "42cc2107",
   "metadata": {},
   "outputs": [
    {
     "name": "stdout",
     "output_type": "stream",
     "text": [
      "(64, 64, 28)\n"
     ]
    }
   ],
   "source": [
    "MyZstat=ZstatInfo.loc[(ZstatInfo['Subj']==subj) & (ZstatInfo['Run']==1)]\n",
    "MyZstat.reset_index(inplace = True, drop = True)\n",
    "MyFile=MyZstat['Folder'][0]+MyZstat['Neu'][0][0]\n",
    "#print(MyFile)\n",
    "data = nib.load(MyFile).get_data()\n",
    "voxel_dims = data.shape\n",
    "print(voxel_dims)\n"
   ]
  },
  {
   "cell_type": "code",
   "execution_count": 9,
   "id": "61d478ba",
   "metadata": {
    "scrolled": true
   },
   "outputs": [
    {
     "name": "stdout",
     "output_type": "stream",
     "text": [
      "load existing sphere file...\n",
      "size of shperes: (3, 1, 1)\n"
     ]
    }
   ],
   "source": [
    "# Calculate the spotlights voxels for all points and keep them in AllPoints \n",
    "\n",
    "radius = 0 #spheres  radius \n",
    "\n",
    "if os.path.exists('Radius'+str(radius)+'_points.npy'):\n",
    "    print('load existing sphere file...')\n",
    "    AllPoints=np.load('Radius'+str(radius)+'_points.npy')\n",
    "    print('size of shperes:',AllPoints[0].shape)\n",
    "else:\n",
    "    start = timer()\n",
    "\n",
    "    tmpPoints = SpherePoints(np.array([26,26,16]) , radius, voxel_dims) #generate a random sphere to find its dimension\n",
    "    print('size of shperes:',tmpPoints.shape)\n",
    "    AllZeroSphere = np.zeros((1,tmpPoints.shape[2]))\n",
    "    AllZeroSpherePoints=np.zeros(tmpPoints.shape)\n",
    "    cnt=0\n",
    "    for MyCenter in itertools.product(range(0,voxel_dims[0]), range(0,voxel_dims[1]), range(0,voxel_dims[2])):\n",
    "        #print(MyCenter)\n",
    "        myPoints = SpherePoints(np.array(MyCenter) , radius, voxel_dims)\n",
    "        if myPoints.shape==(3,1,0): myPoints=AllZeroSpherePoints\n",
    "        if cnt==0:\n",
    "            AllPoints = np.array(myPoints,ndmin=4)\n",
    "            cnt=1\n",
    "        else:\n",
    "            AllPoints = np.concatenate((AllPoints,np.array(myPoints,ndmin=4)),axis=0)\n",
    "    #     if myPoints.shape!=(3,1,0): sphereVal = data[myPoints[0],myPoints[1],myPoints[2]]\n",
    "    #     else: sphereVal = AllZeroSphere\n",
    "\n",
    "    #    if myPoints.shape!=(0,): sphereVal = SphereValue(myPoints,data)\n",
    "    #     if sphereVal.shape!=(0,): sphereValOut=\n",
    "\n",
    "\n",
    "    end = timer()\n",
    "    print(end-start)\n",
    "    np.save('Radius'+str(radius)+'_points.npy',AllPoints)\n",
    "    # aa=np.load('Radius'+str(radius)+'_points.npy')"
   ]
  },
  {
   "cell_type": "code",
   "execution_count": 10,
   "id": "33982d1d-0563-46cc-a6df-c7500f46cb3e",
   "metadata": {},
   "outputs": [],
   "source": [
    "def LoopiFeaturePerm(iFeature: int, AllPoints: np.ndarray,ZstatInfoSubj: pd.core.frame.DataFrame ,CLconditions: list, Alldata: np.ndarray, pipeSpotLight: Pipeline,nPerm:int,EEG_features=None):\n",
    "    '''This function calulates p-value based on permutaion tests'''\n",
    "    myPoints = AllPoints[iFeature] \n",
    "    #myPoints = SpherePoints(np.array([30,30,15]) , radius,voxel_dims) # sample good point\n",
    "\n",
    "    [X, Y, Gr]=MVPA_FeatureExtraction(ZstatInfoSubj,CLconditions,Alldata, myPoints,EEG_features) # extract data for classifer\n",
    "    #SpotPerformance=MVPA_Classification(X,Y,Gr, pipeSpotLight)\n",
    "    score, perm_scores, pvalue = permutation_test_score(pipeSpotLight, X, Y,  groups=Gr, cv=None, n_permutations=nPerm, n_jobs=None, random_state=0, verbose=0, scoring='accuracy', fit_params=None)    \n",
    "    return pvalue\n",
    "\n",
    "def LoopiFeatureDictPerm(iFeature: int, DataArgDict: dict):\n",
    "    '''This function clacluates the classificaiton output for each spotlight feature (sphere around a ith voxel, with predefined radius'''\n",
    "    ''' iFeature is the index of Spotlight from AllPoints (embeded in DataArgDic)'''\n",
    "    '''DataArcDic is a dict that contains all the information required for classification, including classification pipeline, conditions, location of the zstat file for each condition, spotligh points'''\n",
    "    myPoints = DataArgDict['AllPoints'][iFeature] \n",
    "    # myPoints = SpherePoints(np.array([30,30,15]) , radius,voxel_dims) # sample good point\n",
    "\n",
    "    EEG_features = DataArgDict.get('EEG_features', None)\n",
    "    [X, Y, Gr]=MVPA_FeatureExtraction(DataArgDict['ZstatInfoSubj'],DataArgDict['CLconditions'],DataArgDict['Alldata'], myPoints,EEG_features) # extract data for classifer\n",
    "    #SpotPerformance=MVPA_Classification(X,Y,Gr, DataArgDict['pipeSpotLight'])\n",
    "    score, perm_scores, pvalue = permutation_test_score(DataArgDict['pipeSpotLight'], X, Y,  groups=Gr, cv=None, n_permutations=DataArgDict['nPerm'], n_jobs=None, random_state=0, verbose=0, scoring='accuracy', fit_params=None)\n",
    "    return pvalue \n",
    "    \n",
    "    \n",
    "def multi_run_wrapperLoopiFeatureDictPerm(args):\n",
    "    return LoopiFeatureDictPerm(*args) "
   ]
  },
  {
   "cell_type": "code",
   "execution_count": null,
   "id": "9694b913",
   "metadata": {},
   "outputs": [
    {
     "name": "stdout",
     "output_type": "stream",
     "text": [
      "C://Users/user/Documents/Reyhaneh/EEG+fMRI/EO/MRI_data/Analysis/MVPA/DecisionNeg_PermSpotlightR0_\n",
      "AM_05082014\n"
     ]
    }
   ],
   "source": [
    "# This code does classification based on spot light search, parallel processing, fast\n",
    "CLconditions=['Neg','Targ']\n",
    "EEG_features=''\n",
    "Hypothesis_name='DecisionNeg'\n",
    "MVPA_out_folder='C://Users/user/Documents/Reyhaneh/EEG+fMRI/EO/MRI_data/Analysis/MVPA/'+Hypothesis_name+'_PermSpotlightR'+str(radius)+'_'+'+'.join(EEG_features)\n",
    "print(MVPA_out_folder)\n",
    "if not os.path.exists(MVPA_out_folder):\n",
    "    os.makedirs(MVPA_out_folder)\n",
    "\n",
    "    \n",
    "##LinearSVC(random_state=0))\n",
    "clf = SVC(kernel='linear',probability=True)\n",
    "pipeSpotLight = Pipeline([('scaler', StandardScaler()), ('clf', clf)])\n",
    "\n",
    "subj_list_one=[subj_list[1]]; \n",
    "Nsubj=len(subj_list_one)\n",
    "# Nsubj=len(subj_list)\n",
    "all_performance = np.zeros(Nsubj)\n",
    "for i_sub, subj in enumerate(subj_list_one): #subj_list\n",
    "    if (subj=='ET_12102013') & (radius==2): \n",
    "        continue  \n",
    "    print(subj)\n",
    "    start = timer()\n",
    "\n",
    "    ZstatInfoSubj=ZstatInfo.loc[ZstatInfo['Subj']==subj]\n",
    "    Zstattmp=ZstatInfoSubj.loc[ZstatInfoSubj['Run']==1]\n",
    "    Zstattmp.reset_index(inplace = True, drop = True)\n",
    "    MyFiletmp=Zstattmp['Folder'][0]+Zstattmp['Neg'][0][0]\n",
    "    \n",
    "    myimg_affine=nib.load(MyFiletmp).affine\n",
    "\n",
    "    Alldata=LoadAllNii(ZstatInfoSubj,CLconditions) # load Alldata\n",
    "         \n",
    "    DataArgDict= {'AllPoints': AllPoints,\n",
    "              'ZstatInfoSubj':ZstatInfoSubj ,\n",
    "              'CLconditions': CLconditions, \n",
    "              'Alldata': Alldata,\n",
    "              'pipeSpotLight':pipeSpotLight,\n",
    "              'nPerm': 100} \n",
    "    SpotLight_performance=np.zeros(AllPoints.shape[0])\n",
    "    \n",
    "    aa1= range(AllPoints.shape[0]) #range(56500,56510) # to test for smaller data\n",
    "    aa2=[DataArgDict]*len(aa1)\n",
    "    aa=[*zip(aa1, aa2)]\n",
    "\n",
    "    if __name__ == \"__main__\":\n",
    "\n",
    "        pool = Pool(multiprocessing.cpu_count()-2)\n",
    "        resultsN = pool.map(multi_run_wrapperLoopiFeatureDictPerm,aa)\n",
    "\n",
    "        resultsN=np.array(resultsN).reshape(voxel_dims)\n",
    "\n",
    "        nft_img = nib.Nifti1Image(resultsN, myimg_affine)\n",
    "        OutFile=MVPA_out_folder+'/MVPA_'+subj+'.nii.gz'\n",
    "        nib.save(nft_img, OutFile)\n",
    "\n",
    "    end = timer()\n",
    "    print(end-start)\n",
    "# print(resultsN[56500:56510])"
   ]
  },
  {
   "cell_type": "code",
   "execution_count": 20,
   "id": "dcfe4855-e118-48b5-805d-0124a0ebd726",
   "metadata": {},
   "outputs": [
    {
     "data": {
      "text/plain": [
       "[0.9603960396039604,\n",
       " 0.9603960396039604,\n",
       " 0.9702970297029703,\n",
       " 0.9603960396039604,\n",
       " 1.0,\n",
       " 0.9603960396039604,\n",
       " 1.0,\n",
       " 0.9504950495049505,\n",
       " 0.9900990099009901,\n",
       " 0.9504950495049505]"
      ]
     },
     "execution_count": 20,
     "metadata": {},
     "output_type": "execute_result"
    }
   ],
   "source": [
    "resultsN"
   ]
  },
  {
   "cell_type": "code",
   "execution_count": null,
   "id": "034c9a8a-cfa3-43ac-b071-39fb000b6208",
   "metadata": {},
   "outputs": [],
   "source": [
    "multi_run_wrapperLoopiFeatureDictPerm"
   ]
  },
  {
   "cell_type": "code",
   "execution_count": 11,
   "id": "b83f6688",
   "metadata": {},
   "outputs": [],
   "source": []
  },
  {
   "cell_type": "code",
   "execution_count": 11,
   "id": "97426b2f",
   "metadata": {},
   "outputs": [
    {
     "data": {
      "text/plain": [
       "['AM_05082014']"
      ]
     },
     "execution_count": 11,
     "metadata": {},
     "output_type": "execute_result"
    }
   ],
   "source": [
    "[subj_list[1]]"
   ]
  },
  {
   "cell_type": "code",
   "execution_count": 14,
   "id": "be98e3ff-c39b-43fd-a2f5-3c50a64615e5",
   "metadata": {},
   "outputs": [],
   "source": [
    "from MVPA_func import LoopiFeature"
   ]
  },
  {
   "cell_type": "code",
   "execution_count": 70,
   "id": "10377a09-1994-4c0a-8db8-0eae2ee31137",
   "metadata": {},
   "outputs": [
    {
     "ename": "KeyboardInterrupt",
     "evalue": "",
     "output_type": "error",
     "traceback": [
      "\u001b[1;31m---------------------------------------------------------------------------\u001b[0m",
      "\u001b[1;31mKeyboardInterrupt\u001b[0m                         Traceback (most recent call last)",
      "Cell \u001b[1;32mIn[70], line 27\u001b[0m\n\u001b[0;32m     24\u001b[0m     SpotLight_performance\u001b[38;5;241m=\u001b[39mnp\u001b[38;5;241m.\u001b[39mzeros(AllPoints\u001b[38;5;241m.\u001b[39mshape[\u001b[38;5;241m0\u001b[39m])\n\u001b[0;32m     26\u001b[0m     \u001b[38;5;28;01mfor\u001b[39;00m iFeature \u001b[38;5;129;01min\u001b[39;00m \u001b[38;5;28mrange\u001b[39m(AllPoints\u001b[38;5;241m.\u001b[39mshape[\u001b[38;5;241m0\u001b[39m]): \u001b[38;5;66;03m#iFeature=40836, range(56500,56610):\u001b[39;00m\n\u001b[1;32m---> 27\u001b[0m         SpotLight_performance[iFeature]\u001b[38;5;241m=\u001b[39m \u001b[43mLoopiFeaturePerm\u001b[49m\u001b[43m(\u001b[49m\u001b[43miFeature\u001b[49m\u001b[43m,\u001b[49m\u001b[43m \u001b[49m\u001b[43mAllPoints\u001b[49m\u001b[43m,\u001b[49m\u001b[43mZstatInfoSubj\u001b[49m\u001b[43m \u001b[49m\u001b[43m,\u001b[49m\u001b[43mCLconditions\u001b[49m\u001b[43m,\u001b[49m\u001b[43m \u001b[49m\u001b[43mAlldata\u001b[49m\u001b[43m,\u001b[49m\u001b[43m \u001b[49m\u001b[43mpipeSpotLight\u001b[49m\u001b[43m,\u001b[49m\u001b[38;5;241;43m100\u001b[39;49m\u001b[43m)\u001b[49m\n\u001b[0;32m     29\u001b[0m end \u001b[38;5;241m=\u001b[39m timer()\n\u001b[0;32m     30\u001b[0m \u001b[38;5;28mprint\u001b[39m(end\u001b[38;5;241m-\u001b[39mstart)\n",
      "Cell \u001b[1;32mIn[65], line 8\u001b[0m, in \u001b[0;36mLoopiFeaturePerm\u001b[1;34m(iFeature, AllPoints, ZstatInfoSubj, CLconditions, Alldata, pipeSpotLight, nPerm, EEG_features)\u001b[0m\n\u001b[0;32m      6\u001b[0m [X, Y, Gr]\u001b[38;5;241m=\u001b[39mMVPA_FeatureExtraction(ZstatInfoSubj,CLconditions,Alldata, myPoints,EEG_features) \u001b[38;5;66;03m# extract data for classifer\u001b[39;00m\n\u001b[0;32m      7\u001b[0m \u001b[38;5;66;03m#SpotPerformance=MVPA_Classification(X,Y,Gr, pipeSpotLight)\u001b[39;00m\n\u001b[1;32m----> 8\u001b[0m score, perm_scores, pvalue \u001b[38;5;241m=\u001b[39m \u001b[43mpermutation_test_score\u001b[49m\u001b[43m(\u001b[49m\u001b[43mpipeSpotLight\u001b[49m\u001b[43m,\u001b[49m\u001b[43m \u001b[49m\u001b[43mX\u001b[49m\u001b[43m,\u001b[49m\u001b[43m \u001b[49m\u001b[43mY\u001b[49m\u001b[43m,\u001b[49m\u001b[43m  \u001b[49m\u001b[43mgroups\u001b[49m\u001b[38;5;241;43m=\u001b[39;49m\u001b[43mGr\u001b[49m\u001b[43m,\u001b[49m\u001b[43m \u001b[49m\u001b[43mcv\u001b[49m\u001b[38;5;241;43m=\u001b[39;49m\u001b[38;5;28;43;01mNone\u001b[39;49;00m\u001b[43m,\u001b[49m\u001b[43m \u001b[49m\u001b[43mn_permutations\u001b[49m\u001b[38;5;241;43m=\u001b[39;49m\u001b[43mnPerm\u001b[49m\u001b[43m,\u001b[49m\u001b[43m \u001b[49m\u001b[43mn_jobs\u001b[49m\u001b[38;5;241;43m=\u001b[39;49m\u001b[38;5;28;43;01mNone\u001b[39;49;00m\u001b[43m,\u001b[49m\u001b[43m \u001b[49m\u001b[43mrandom_state\u001b[49m\u001b[38;5;241;43m=\u001b[39;49m\u001b[38;5;241;43m0\u001b[39;49m\u001b[43m,\u001b[49m\u001b[43m \u001b[49m\u001b[43mverbose\u001b[49m\u001b[38;5;241;43m=\u001b[39;49m\u001b[38;5;241;43m0\u001b[39;49m\u001b[43m,\u001b[49m\u001b[43m \u001b[49m\u001b[43mscoring\u001b[49m\u001b[38;5;241;43m=\u001b[39;49m\u001b[38;5;124;43m'\u001b[39;49m\u001b[38;5;124;43maccuracy\u001b[39;49m\u001b[38;5;124;43m'\u001b[39;49m\u001b[43m,\u001b[49m\u001b[43m \u001b[49m\u001b[43mfit_params\u001b[49m\u001b[38;5;241;43m=\u001b[39;49m\u001b[38;5;28;43;01mNone\u001b[39;49;00m\u001b[43m)\u001b[49m    \n\u001b[0;32m      9\u001b[0m \u001b[38;5;28;01mreturn\u001b[39;00m pvalue\n",
      "File \u001b[1;32m~\\AppData\\Roaming\\Python\\Python311\\site-packages\\sklearn\\model_selection\\_validation.py:1307\u001b[0m, in \u001b[0;36mpermutation_test_score\u001b[1;34m(estimator, X, y, groups, cv, n_permutations, n_jobs, random_state, verbose, scoring, fit_params)\u001b[0m\n\u001b[0;32m   1302\u001b[0m \u001b[38;5;66;03m# We clone the estimator to make sure that all the folds are\u001b[39;00m\n\u001b[0;32m   1303\u001b[0m \u001b[38;5;66;03m# independent, and that it is pickle-able.\u001b[39;00m\n\u001b[0;32m   1304\u001b[0m score \u001b[38;5;241m=\u001b[39m _permutation_test_score(\n\u001b[0;32m   1305\u001b[0m     clone(estimator), X, y, groups, cv, scorer, fit_params\u001b[38;5;241m=\u001b[39mfit_params\n\u001b[0;32m   1306\u001b[0m )\n\u001b[1;32m-> 1307\u001b[0m permutation_scores \u001b[38;5;241m=\u001b[39m \u001b[43mParallel\u001b[49m\u001b[43m(\u001b[49m\u001b[43mn_jobs\u001b[49m\u001b[38;5;241;43m=\u001b[39;49m\u001b[43mn_jobs\u001b[49m\u001b[43m,\u001b[49m\u001b[43m \u001b[49m\u001b[43mverbose\u001b[49m\u001b[38;5;241;43m=\u001b[39;49m\u001b[43mverbose\u001b[49m\u001b[43m)\u001b[49m\u001b[43m(\u001b[49m\n\u001b[0;32m   1308\u001b[0m \u001b[43m    \u001b[49m\u001b[43mdelayed\u001b[49m\u001b[43m(\u001b[49m\u001b[43m_permutation_test_score\u001b[49m\u001b[43m)\u001b[49m\u001b[43m(\u001b[49m\n\u001b[0;32m   1309\u001b[0m \u001b[43m        \u001b[49m\u001b[43mclone\u001b[49m\u001b[43m(\u001b[49m\u001b[43mestimator\u001b[49m\u001b[43m)\u001b[49m\u001b[43m,\u001b[49m\n\u001b[0;32m   1310\u001b[0m \u001b[43m        \u001b[49m\u001b[43mX\u001b[49m\u001b[43m,\u001b[49m\n\u001b[0;32m   1311\u001b[0m \u001b[43m        \u001b[49m\u001b[43m_shuffle\u001b[49m\u001b[43m(\u001b[49m\u001b[43my\u001b[49m\u001b[43m,\u001b[49m\u001b[43m \u001b[49m\u001b[43mgroups\u001b[49m\u001b[43m,\u001b[49m\u001b[43m \u001b[49m\u001b[43mrandom_state\u001b[49m\u001b[43m)\u001b[49m\u001b[43m,\u001b[49m\n\u001b[0;32m   1312\u001b[0m \u001b[43m        \u001b[49m\u001b[43mgroups\u001b[49m\u001b[43m,\u001b[49m\n\u001b[0;32m   1313\u001b[0m \u001b[43m        \u001b[49m\u001b[43mcv\u001b[49m\u001b[43m,\u001b[49m\n\u001b[0;32m   1314\u001b[0m \u001b[43m        \u001b[49m\u001b[43mscorer\u001b[49m\u001b[43m,\u001b[49m\n\u001b[0;32m   1315\u001b[0m \u001b[43m        \u001b[49m\u001b[43mfit_params\u001b[49m\u001b[38;5;241;43m=\u001b[39;49m\u001b[43mfit_params\u001b[49m\u001b[43m,\u001b[49m\n\u001b[0;32m   1316\u001b[0m \u001b[43m    \u001b[49m\u001b[43m)\u001b[49m\n\u001b[0;32m   1317\u001b[0m \u001b[43m    \u001b[49m\u001b[38;5;28;43;01mfor\u001b[39;49;00m\u001b[43m \u001b[49m\u001b[43m_\u001b[49m\u001b[43m \u001b[49m\u001b[38;5;129;43;01min\u001b[39;49;00m\u001b[43m \u001b[49m\u001b[38;5;28;43mrange\u001b[39;49m\u001b[43m(\u001b[49m\u001b[43mn_permutations\u001b[49m\u001b[43m)\u001b[49m\n\u001b[0;32m   1318\u001b[0m \u001b[43m\u001b[49m\u001b[43m)\u001b[49m\n\u001b[0;32m   1319\u001b[0m permutation_scores \u001b[38;5;241m=\u001b[39m np\u001b[38;5;241m.\u001b[39marray(permutation_scores)\n\u001b[0;32m   1320\u001b[0m pvalue \u001b[38;5;241m=\u001b[39m (np\u001b[38;5;241m.\u001b[39msum(permutation_scores \u001b[38;5;241m>\u001b[39m\u001b[38;5;241m=\u001b[39m score) \u001b[38;5;241m+\u001b[39m \u001b[38;5;241m1.0\u001b[39m) \u001b[38;5;241m/\u001b[39m (n_permutations \u001b[38;5;241m+\u001b[39m \u001b[38;5;241m1\u001b[39m)\n",
      "File \u001b[1;32m~\\AppData\\Roaming\\Python\\Python311\\site-packages\\joblib\\parallel.py:1088\u001b[0m, in \u001b[0;36mParallel.__call__\u001b[1;34m(self, iterable)\u001b[0m\n\u001b[0;32m   1085\u001b[0m \u001b[38;5;28;01mif\u001b[39;00m \u001b[38;5;28mself\u001b[39m\u001b[38;5;241m.\u001b[39mdispatch_one_batch(iterator):\n\u001b[0;32m   1086\u001b[0m     \u001b[38;5;28mself\u001b[39m\u001b[38;5;241m.\u001b[39m_iterating \u001b[38;5;241m=\u001b[39m \u001b[38;5;28mself\u001b[39m\u001b[38;5;241m.\u001b[39m_original_iterator \u001b[38;5;129;01mis\u001b[39;00m \u001b[38;5;129;01mnot\u001b[39;00m \u001b[38;5;28;01mNone\u001b[39;00m\n\u001b[1;32m-> 1088\u001b[0m \u001b[38;5;28;01mwhile\u001b[39;00m \u001b[38;5;28;43mself\u001b[39;49m\u001b[38;5;241;43m.\u001b[39;49m\u001b[43mdispatch_one_batch\u001b[49m\u001b[43m(\u001b[49m\u001b[43miterator\u001b[49m\u001b[43m)\u001b[49m:\n\u001b[0;32m   1089\u001b[0m     \u001b[38;5;28;01mpass\u001b[39;00m\n\u001b[0;32m   1091\u001b[0m \u001b[38;5;28;01mif\u001b[39;00m pre_dispatch \u001b[38;5;241m==\u001b[39m \u001b[38;5;124m\"\u001b[39m\u001b[38;5;124mall\u001b[39m\u001b[38;5;124m\"\u001b[39m \u001b[38;5;129;01mor\u001b[39;00m n_jobs \u001b[38;5;241m==\u001b[39m \u001b[38;5;241m1\u001b[39m:\n\u001b[0;32m   1092\u001b[0m     \u001b[38;5;66;03m# The iterable was consumed all at once by the above for loop.\u001b[39;00m\n\u001b[0;32m   1093\u001b[0m     \u001b[38;5;66;03m# No need to wait for async callbacks to trigger to\u001b[39;00m\n\u001b[0;32m   1094\u001b[0m     \u001b[38;5;66;03m# consumption.\u001b[39;00m\n",
      "File \u001b[1;32m~\\AppData\\Roaming\\Python\\Python311\\site-packages\\joblib\\parallel.py:901\u001b[0m, in \u001b[0;36mParallel.dispatch_one_batch\u001b[1;34m(self, iterator)\u001b[0m\n\u001b[0;32m    899\u001b[0m     \u001b[38;5;28;01mreturn\u001b[39;00m \u001b[38;5;28;01mFalse\u001b[39;00m\n\u001b[0;32m    900\u001b[0m \u001b[38;5;28;01melse\u001b[39;00m:\n\u001b[1;32m--> 901\u001b[0m     \u001b[38;5;28;43mself\u001b[39;49m\u001b[38;5;241;43m.\u001b[39;49m\u001b[43m_dispatch\u001b[49m\u001b[43m(\u001b[49m\u001b[43mtasks\u001b[49m\u001b[43m)\u001b[49m\n\u001b[0;32m    902\u001b[0m     \u001b[38;5;28;01mreturn\u001b[39;00m \u001b[38;5;28;01mTrue\u001b[39;00m\n",
      "File \u001b[1;32m~\\AppData\\Roaming\\Python\\Python311\\site-packages\\joblib\\parallel.py:819\u001b[0m, in \u001b[0;36mParallel._dispatch\u001b[1;34m(self, batch)\u001b[0m\n\u001b[0;32m    817\u001b[0m \u001b[38;5;28;01mwith\u001b[39;00m \u001b[38;5;28mself\u001b[39m\u001b[38;5;241m.\u001b[39m_lock:\n\u001b[0;32m    818\u001b[0m     job_idx \u001b[38;5;241m=\u001b[39m \u001b[38;5;28mlen\u001b[39m(\u001b[38;5;28mself\u001b[39m\u001b[38;5;241m.\u001b[39m_jobs)\n\u001b[1;32m--> 819\u001b[0m     job \u001b[38;5;241m=\u001b[39m \u001b[38;5;28;43mself\u001b[39;49m\u001b[38;5;241;43m.\u001b[39;49m\u001b[43m_backend\u001b[49m\u001b[38;5;241;43m.\u001b[39;49m\u001b[43mapply_async\u001b[49m\u001b[43m(\u001b[49m\u001b[43mbatch\u001b[49m\u001b[43m,\u001b[49m\u001b[43m \u001b[49m\u001b[43mcallback\u001b[49m\u001b[38;5;241;43m=\u001b[39;49m\u001b[43mcb\u001b[49m\u001b[43m)\u001b[49m\n\u001b[0;32m    820\u001b[0m     \u001b[38;5;66;03m# A job can complete so quickly than its callback is\u001b[39;00m\n\u001b[0;32m    821\u001b[0m     \u001b[38;5;66;03m# called before we get here, causing self._jobs to\u001b[39;00m\n\u001b[0;32m    822\u001b[0m     \u001b[38;5;66;03m# grow. To ensure correct results ordering, .insert is\u001b[39;00m\n\u001b[0;32m    823\u001b[0m     \u001b[38;5;66;03m# used (rather than .append) in the following line\u001b[39;00m\n\u001b[0;32m    824\u001b[0m     \u001b[38;5;28mself\u001b[39m\u001b[38;5;241m.\u001b[39m_jobs\u001b[38;5;241m.\u001b[39minsert(job_idx, job)\n",
      "File \u001b[1;32m~\\AppData\\Roaming\\Python\\Python311\\site-packages\\joblib\\_parallel_backends.py:208\u001b[0m, in \u001b[0;36mSequentialBackend.apply_async\u001b[1;34m(self, func, callback)\u001b[0m\n\u001b[0;32m    206\u001b[0m \u001b[38;5;28;01mdef\u001b[39;00m \u001b[38;5;21mapply_async\u001b[39m(\u001b[38;5;28mself\u001b[39m, func, callback\u001b[38;5;241m=\u001b[39m\u001b[38;5;28;01mNone\u001b[39;00m):\n\u001b[0;32m    207\u001b[0m     \u001b[38;5;124;03m\"\"\"Schedule a func to be run\"\"\"\u001b[39;00m\n\u001b[1;32m--> 208\u001b[0m     result \u001b[38;5;241m=\u001b[39m \u001b[43mImmediateResult\u001b[49m\u001b[43m(\u001b[49m\u001b[43mfunc\u001b[49m\u001b[43m)\u001b[49m\n\u001b[0;32m    209\u001b[0m     \u001b[38;5;28;01mif\u001b[39;00m callback:\n\u001b[0;32m    210\u001b[0m         callback(result)\n",
      "File \u001b[1;32m~\\AppData\\Roaming\\Python\\Python311\\site-packages\\joblib\\_parallel_backends.py:597\u001b[0m, in \u001b[0;36mImmediateResult.__init__\u001b[1;34m(self, batch)\u001b[0m\n\u001b[0;32m    594\u001b[0m \u001b[38;5;28;01mdef\u001b[39;00m \u001b[38;5;21m__init__\u001b[39m(\u001b[38;5;28mself\u001b[39m, batch):\n\u001b[0;32m    595\u001b[0m     \u001b[38;5;66;03m# Don't delay the application, to avoid keeping the input\u001b[39;00m\n\u001b[0;32m    596\u001b[0m     \u001b[38;5;66;03m# arguments in memory\u001b[39;00m\n\u001b[1;32m--> 597\u001b[0m     \u001b[38;5;28mself\u001b[39m\u001b[38;5;241m.\u001b[39mresults \u001b[38;5;241m=\u001b[39m \u001b[43mbatch\u001b[49m\u001b[43m(\u001b[49m\u001b[43m)\u001b[49m\n",
      "File \u001b[1;32m~\\AppData\\Roaming\\Python\\Python311\\site-packages\\joblib\\parallel.py:288\u001b[0m, in \u001b[0;36mBatchedCalls.__call__\u001b[1;34m(self)\u001b[0m\n\u001b[0;32m    284\u001b[0m \u001b[38;5;28;01mdef\u001b[39;00m \u001b[38;5;21m__call__\u001b[39m(\u001b[38;5;28mself\u001b[39m):\n\u001b[0;32m    285\u001b[0m     \u001b[38;5;66;03m# Set the default nested backend to self._backend but do not set the\u001b[39;00m\n\u001b[0;32m    286\u001b[0m     \u001b[38;5;66;03m# change the default number of processes to -1\u001b[39;00m\n\u001b[0;32m    287\u001b[0m     \u001b[38;5;28;01mwith\u001b[39;00m parallel_backend(\u001b[38;5;28mself\u001b[39m\u001b[38;5;241m.\u001b[39m_backend, n_jobs\u001b[38;5;241m=\u001b[39m\u001b[38;5;28mself\u001b[39m\u001b[38;5;241m.\u001b[39m_n_jobs):\n\u001b[1;32m--> 288\u001b[0m         \u001b[38;5;28;01mreturn\u001b[39;00m \u001b[43m[\u001b[49m\u001b[43mfunc\u001b[49m\u001b[43m(\u001b[49m\u001b[38;5;241;43m*\u001b[39;49m\u001b[43margs\u001b[49m\u001b[43m,\u001b[49m\u001b[43m \u001b[49m\u001b[38;5;241;43m*\u001b[39;49m\u001b[38;5;241;43m*\u001b[39;49m\u001b[43mkwargs\u001b[49m\u001b[43m)\u001b[49m\n\u001b[0;32m    289\u001b[0m \u001b[43m                \u001b[49m\u001b[38;5;28;43;01mfor\u001b[39;49;00m\u001b[43m \u001b[49m\u001b[43mfunc\u001b[49m\u001b[43m,\u001b[49m\u001b[43m \u001b[49m\u001b[43margs\u001b[49m\u001b[43m,\u001b[49m\u001b[43m \u001b[49m\u001b[43mkwargs\u001b[49m\u001b[43m \u001b[49m\u001b[38;5;129;43;01min\u001b[39;49;00m\u001b[43m \u001b[49m\u001b[38;5;28;43mself\u001b[39;49m\u001b[38;5;241;43m.\u001b[39;49m\u001b[43mitems\u001b[49m\u001b[43m]\u001b[49m\n",
      "File \u001b[1;32m~\\AppData\\Roaming\\Python\\Python311\\site-packages\\joblib\\parallel.py:288\u001b[0m, in \u001b[0;36m<listcomp>\u001b[1;34m(.0)\u001b[0m\n\u001b[0;32m    284\u001b[0m \u001b[38;5;28;01mdef\u001b[39;00m \u001b[38;5;21m__call__\u001b[39m(\u001b[38;5;28mself\u001b[39m):\n\u001b[0;32m    285\u001b[0m     \u001b[38;5;66;03m# Set the default nested backend to self._backend but do not set the\u001b[39;00m\n\u001b[0;32m    286\u001b[0m     \u001b[38;5;66;03m# change the default number of processes to -1\u001b[39;00m\n\u001b[0;32m    287\u001b[0m     \u001b[38;5;28;01mwith\u001b[39;00m parallel_backend(\u001b[38;5;28mself\u001b[39m\u001b[38;5;241m.\u001b[39m_backend, n_jobs\u001b[38;5;241m=\u001b[39m\u001b[38;5;28mself\u001b[39m\u001b[38;5;241m.\u001b[39m_n_jobs):\n\u001b[1;32m--> 288\u001b[0m         \u001b[38;5;28;01mreturn\u001b[39;00m [\u001b[43mfunc\u001b[49m\u001b[43m(\u001b[49m\u001b[38;5;241;43m*\u001b[39;49m\u001b[43margs\u001b[49m\u001b[43m,\u001b[49m\u001b[43m \u001b[49m\u001b[38;5;241;43m*\u001b[39;49m\u001b[38;5;241;43m*\u001b[39;49m\u001b[43mkwargs\u001b[49m\u001b[43m)\u001b[49m\n\u001b[0;32m    289\u001b[0m                 \u001b[38;5;28;01mfor\u001b[39;00m func, args, kwargs \u001b[38;5;129;01min\u001b[39;00m \u001b[38;5;28mself\u001b[39m\u001b[38;5;241m.\u001b[39mitems]\n",
      "File \u001b[1;32m~\\AppData\\Roaming\\Python\\Python311\\site-packages\\sklearn\\utils\\fixes.py:117\u001b[0m, in \u001b[0;36m_FuncWrapper.__call__\u001b[1;34m(self, *args, **kwargs)\u001b[0m\n\u001b[0;32m    115\u001b[0m \u001b[38;5;28;01mdef\u001b[39;00m \u001b[38;5;21m__call__\u001b[39m(\u001b[38;5;28mself\u001b[39m, \u001b[38;5;241m*\u001b[39margs, \u001b[38;5;241m*\u001b[39m\u001b[38;5;241m*\u001b[39mkwargs):\n\u001b[0;32m    116\u001b[0m     \u001b[38;5;28;01mwith\u001b[39;00m config_context(\u001b[38;5;241m*\u001b[39m\u001b[38;5;241m*\u001b[39m\u001b[38;5;28mself\u001b[39m\u001b[38;5;241m.\u001b[39mconfig):\n\u001b[1;32m--> 117\u001b[0m         \u001b[38;5;28;01mreturn\u001b[39;00m \u001b[38;5;28;43mself\u001b[39;49m\u001b[38;5;241;43m.\u001b[39;49m\u001b[43mfunction\u001b[49m\u001b[43m(\u001b[49m\u001b[38;5;241;43m*\u001b[39;49m\u001b[43margs\u001b[49m\u001b[43m,\u001b[49m\u001b[43m \u001b[49m\u001b[38;5;241;43m*\u001b[39;49m\u001b[38;5;241;43m*\u001b[39;49m\u001b[43mkwargs\u001b[49m\u001b[43m)\u001b[49m\n",
      "File \u001b[1;32m~\\AppData\\Roaming\\Python\\Python311\\site-packages\\sklearn\\model_selection\\_validation.py:1333\u001b[0m, in \u001b[0;36m_permutation_test_score\u001b[1;34m(estimator, X, y, groups, cv, scorer, fit_params)\u001b[0m\n\u001b[0;32m   1331\u001b[0m     X_test, y_test \u001b[38;5;241m=\u001b[39m _safe_split(estimator, X, y, test, train)\n\u001b[0;32m   1332\u001b[0m     fit_params \u001b[38;5;241m=\u001b[39m _check_fit_params(X, fit_params, train)\n\u001b[1;32m-> 1333\u001b[0m     \u001b[43mestimator\u001b[49m\u001b[38;5;241;43m.\u001b[39;49m\u001b[43mfit\u001b[49m\u001b[43m(\u001b[49m\u001b[43mX_train\u001b[49m\u001b[43m,\u001b[49m\u001b[43m \u001b[49m\u001b[43my_train\u001b[49m\u001b[43m,\u001b[49m\u001b[43m \u001b[49m\u001b[38;5;241;43m*\u001b[39;49m\u001b[38;5;241;43m*\u001b[39;49m\u001b[43mfit_params\u001b[49m\u001b[43m)\u001b[49m\n\u001b[0;32m   1334\u001b[0m     avg_score\u001b[38;5;241m.\u001b[39mappend(scorer(estimator, X_test, y_test))\n\u001b[0;32m   1335\u001b[0m \u001b[38;5;28;01mreturn\u001b[39;00m np\u001b[38;5;241m.\u001b[39mmean(avg_score)\n",
      "File \u001b[1;32m~\\AppData\\Roaming\\Python\\Python311\\site-packages\\sklearn\\pipeline.py:406\u001b[0m, in \u001b[0;36mPipeline.fit\u001b[1;34m(self, X, y, **fit_params)\u001b[0m\n\u001b[0;32m    404\u001b[0m     \u001b[38;5;28;01mif\u001b[39;00m \u001b[38;5;28mself\u001b[39m\u001b[38;5;241m.\u001b[39m_final_estimator \u001b[38;5;241m!=\u001b[39m \u001b[38;5;124m\"\u001b[39m\u001b[38;5;124mpassthrough\u001b[39m\u001b[38;5;124m\"\u001b[39m:\n\u001b[0;32m    405\u001b[0m         fit_params_last_step \u001b[38;5;241m=\u001b[39m fit_params_steps[\u001b[38;5;28mself\u001b[39m\u001b[38;5;241m.\u001b[39msteps[\u001b[38;5;241m-\u001b[39m\u001b[38;5;241m1\u001b[39m][\u001b[38;5;241m0\u001b[39m]]\n\u001b[1;32m--> 406\u001b[0m         \u001b[38;5;28;43mself\u001b[39;49m\u001b[38;5;241;43m.\u001b[39;49m\u001b[43m_final_estimator\u001b[49m\u001b[38;5;241;43m.\u001b[39;49m\u001b[43mfit\u001b[49m\u001b[43m(\u001b[49m\u001b[43mXt\u001b[49m\u001b[43m,\u001b[49m\u001b[43m \u001b[49m\u001b[43my\u001b[49m\u001b[43m,\u001b[49m\u001b[43m \u001b[49m\u001b[38;5;241;43m*\u001b[39;49m\u001b[38;5;241;43m*\u001b[39;49m\u001b[43mfit_params_last_step\u001b[49m\u001b[43m)\u001b[49m\n\u001b[0;32m    408\u001b[0m \u001b[38;5;28;01mreturn\u001b[39;00m \u001b[38;5;28mself\u001b[39m\n",
      "File \u001b[1;32m~\\AppData\\Roaming\\Python\\Python311\\site-packages\\sklearn\\svm\\_base.py:252\u001b[0m, in \u001b[0;36mBaseLibSVM.fit\u001b[1;34m(self, X, y, sample_weight)\u001b[0m\n\u001b[0;32m    249\u001b[0m     \u001b[38;5;28mprint\u001b[39m(\u001b[38;5;124m\"\u001b[39m\u001b[38;5;124m[LibSVM]\u001b[39m\u001b[38;5;124m\"\u001b[39m, end\u001b[38;5;241m=\u001b[39m\u001b[38;5;124m\"\u001b[39m\u001b[38;5;124m\"\u001b[39m)\n\u001b[0;32m    251\u001b[0m seed \u001b[38;5;241m=\u001b[39m rnd\u001b[38;5;241m.\u001b[39mrandint(np\u001b[38;5;241m.\u001b[39miinfo(\u001b[38;5;124m\"\u001b[39m\u001b[38;5;124mi\u001b[39m\u001b[38;5;124m\"\u001b[39m)\u001b[38;5;241m.\u001b[39mmax)\n\u001b[1;32m--> 252\u001b[0m \u001b[43mfit\u001b[49m\u001b[43m(\u001b[49m\u001b[43mX\u001b[49m\u001b[43m,\u001b[49m\u001b[43m \u001b[49m\u001b[43my\u001b[49m\u001b[43m,\u001b[49m\u001b[43m \u001b[49m\u001b[43msample_weight\u001b[49m\u001b[43m,\u001b[49m\u001b[43m \u001b[49m\u001b[43msolver_type\u001b[49m\u001b[43m,\u001b[49m\u001b[43m \u001b[49m\u001b[43mkernel\u001b[49m\u001b[43m,\u001b[49m\u001b[43m \u001b[49m\u001b[43mrandom_seed\u001b[49m\u001b[38;5;241;43m=\u001b[39;49m\u001b[43mseed\u001b[49m\u001b[43m)\u001b[49m\n\u001b[0;32m    253\u001b[0m \u001b[38;5;66;03m# see comment on the other call to np.iinfo in this file\u001b[39;00m\n\u001b[0;32m    255\u001b[0m \u001b[38;5;28mself\u001b[39m\u001b[38;5;241m.\u001b[39mshape_fit_ \u001b[38;5;241m=\u001b[39m X\u001b[38;5;241m.\u001b[39mshape \u001b[38;5;28;01mif\u001b[39;00m \u001b[38;5;28mhasattr\u001b[39m(X, \u001b[38;5;124m\"\u001b[39m\u001b[38;5;124mshape\u001b[39m\u001b[38;5;124m\"\u001b[39m) \u001b[38;5;28;01melse\u001b[39;00m (n_samples,)\n",
      "File \u001b[1;32m~\\AppData\\Roaming\\Python\\Python311\\site-packages\\sklearn\\svm\\_base.py:331\u001b[0m, in \u001b[0;36mBaseLibSVM._dense_fit\u001b[1;34m(self, X, y, sample_weight, solver_type, kernel, random_seed)\u001b[0m\n\u001b[0;32m    317\u001b[0m libsvm\u001b[38;5;241m.\u001b[39mset_verbosity_wrap(\u001b[38;5;28mself\u001b[39m\u001b[38;5;241m.\u001b[39mverbose)\n\u001b[0;32m    319\u001b[0m \u001b[38;5;66;03m# we don't pass **self.get_params() to allow subclasses to\u001b[39;00m\n\u001b[0;32m    320\u001b[0m \u001b[38;5;66;03m# add other parameters to __init__\u001b[39;00m\n\u001b[0;32m    321\u001b[0m (\n\u001b[0;32m    322\u001b[0m     \u001b[38;5;28mself\u001b[39m\u001b[38;5;241m.\u001b[39msupport_,\n\u001b[0;32m    323\u001b[0m     \u001b[38;5;28mself\u001b[39m\u001b[38;5;241m.\u001b[39msupport_vectors_,\n\u001b[0;32m    324\u001b[0m     \u001b[38;5;28mself\u001b[39m\u001b[38;5;241m.\u001b[39m_n_support,\n\u001b[0;32m    325\u001b[0m     \u001b[38;5;28mself\u001b[39m\u001b[38;5;241m.\u001b[39mdual_coef_,\n\u001b[0;32m    326\u001b[0m     \u001b[38;5;28mself\u001b[39m\u001b[38;5;241m.\u001b[39mintercept_,\n\u001b[0;32m    327\u001b[0m     \u001b[38;5;28mself\u001b[39m\u001b[38;5;241m.\u001b[39m_probA,\n\u001b[0;32m    328\u001b[0m     \u001b[38;5;28mself\u001b[39m\u001b[38;5;241m.\u001b[39m_probB,\n\u001b[0;32m    329\u001b[0m     \u001b[38;5;28mself\u001b[39m\u001b[38;5;241m.\u001b[39mfit_status_,\n\u001b[0;32m    330\u001b[0m     \u001b[38;5;28mself\u001b[39m\u001b[38;5;241m.\u001b[39m_num_iter,\n\u001b[1;32m--> 331\u001b[0m ) \u001b[38;5;241m=\u001b[39m \u001b[43mlibsvm\u001b[49m\u001b[38;5;241;43m.\u001b[39;49m\u001b[43mfit\u001b[49m\u001b[43m(\u001b[49m\n\u001b[0;32m    332\u001b[0m \u001b[43m    \u001b[49m\u001b[43mX\u001b[49m\u001b[43m,\u001b[49m\n\u001b[0;32m    333\u001b[0m \u001b[43m    \u001b[49m\u001b[43my\u001b[49m\u001b[43m,\u001b[49m\n\u001b[0;32m    334\u001b[0m \u001b[43m    \u001b[49m\u001b[43msvm_type\u001b[49m\u001b[38;5;241;43m=\u001b[39;49m\u001b[43msolver_type\u001b[49m\u001b[43m,\u001b[49m\n\u001b[0;32m    335\u001b[0m \u001b[43m    \u001b[49m\u001b[43msample_weight\u001b[49m\u001b[38;5;241;43m=\u001b[39;49m\u001b[43msample_weight\u001b[49m\u001b[43m,\u001b[49m\n\u001b[0;32m    336\u001b[0m \u001b[43m    \u001b[49m\u001b[38;5;66;43;03m# TODO(1.4): Replace \"_class_weight\" with \"class_weight_\"\u001b[39;49;00m\n\u001b[0;32m    337\u001b[0m \u001b[43m    \u001b[49m\u001b[43mclass_weight\u001b[49m\u001b[38;5;241;43m=\u001b[39;49m\u001b[38;5;28;43mgetattr\u001b[39;49m\u001b[43m(\u001b[49m\u001b[38;5;28;43mself\u001b[39;49m\u001b[43m,\u001b[49m\u001b[43m \u001b[49m\u001b[38;5;124;43m\"\u001b[39;49m\u001b[38;5;124;43m_class_weight\u001b[39;49m\u001b[38;5;124;43m\"\u001b[39;49m\u001b[43m,\u001b[49m\u001b[43m \u001b[49m\u001b[43mnp\u001b[49m\u001b[38;5;241;43m.\u001b[39;49m\u001b[43mempty\u001b[49m\u001b[43m(\u001b[49m\u001b[38;5;241;43m0\u001b[39;49m\u001b[43m)\u001b[49m\u001b[43m)\u001b[49m\u001b[43m,\u001b[49m\n\u001b[0;32m    338\u001b[0m \u001b[43m    \u001b[49m\u001b[43mkernel\u001b[49m\u001b[38;5;241;43m=\u001b[39;49m\u001b[43mkernel\u001b[49m\u001b[43m,\u001b[49m\n\u001b[0;32m    339\u001b[0m \u001b[43m    \u001b[49m\u001b[43mC\u001b[49m\u001b[38;5;241;43m=\u001b[39;49m\u001b[38;5;28;43mself\u001b[39;49m\u001b[38;5;241;43m.\u001b[39;49m\u001b[43mC\u001b[49m\u001b[43m,\u001b[49m\n\u001b[0;32m    340\u001b[0m \u001b[43m    \u001b[49m\u001b[43mnu\u001b[49m\u001b[38;5;241;43m=\u001b[39;49m\u001b[38;5;28;43mself\u001b[39;49m\u001b[38;5;241;43m.\u001b[39;49m\u001b[43mnu\u001b[49m\u001b[43m,\u001b[49m\n\u001b[0;32m    341\u001b[0m \u001b[43m    \u001b[49m\u001b[43mprobability\u001b[49m\u001b[38;5;241;43m=\u001b[39;49m\u001b[38;5;28;43mself\u001b[39;49m\u001b[38;5;241;43m.\u001b[39;49m\u001b[43mprobability\u001b[49m\u001b[43m,\u001b[49m\n\u001b[0;32m    342\u001b[0m \u001b[43m    \u001b[49m\u001b[43mdegree\u001b[49m\u001b[38;5;241;43m=\u001b[39;49m\u001b[38;5;28;43mself\u001b[39;49m\u001b[38;5;241;43m.\u001b[39;49m\u001b[43mdegree\u001b[49m\u001b[43m,\u001b[49m\n\u001b[0;32m    343\u001b[0m \u001b[43m    \u001b[49m\u001b[43mshrinking\u001b[49m\u001b[38;5;241;43m=\u001b[39;49m\u001b[38;5;28;43mself\u001b[39;49m\u001b[38;5;241;43m.\u001b[39;49m\u001b[43mshrinking\u001b[49m\u001b[43m,\u001b[49m\n\u001b[0;32m    344\u001b[0m \u001b[43m    \u001b[49m\u001b[43mtol\u001b[49m\u001b[38;5;241;43m=\u001b[39;49m\u001b[38;5;28;43mself\u001b[39;49m\u001b[38;5;241;43m.\u001b[39;49m\u001b[43mtol\u001b[49m\u001b[43m,\u001b[49m\n\u001b[0;32m    345\u001b[0m \u001b[43m    \u001b[49m\u001b[43mcache_size\u001b[49m\u001b[38;5;241;43m=\u001b[39;49m\u001b[38;5;28;43mself\u001b[39;49m\u001b[38;5;241;43m.\u001b[39;49m\u001b[43mcache_size\u001b[49m\u001b[43m,\u001b[49m\n\u001b[0;32m    346\u001b[0m \u001b[43m    \u001b[49m\u001b[43mcoef0\u001b[49m\u001b[38;5;241;43m=\u001b[39;49m\u001b[38;5;28;43mself\u001b[39;49m\u001b[38;5;241;43m.\u001b[39;49m\u001b[43mcoef0\u001b[49m\u001b[43m,\u001b[49m\n\u001b[0;32m    347\u001b[0m \u001b[43m    \u001b[49m\u001b[43mgamma\u001b[49m\u001b[38;5;241;43m=\u001b[39;49m\u001b[38;5;28;43mself\u001b[39;49m\u001b[38;5;241;43m.\u001b[39;49m\u001b[43m_gamma\u001b[49m\u001b[43m,\u001b[49m\n\u001b[0;32m    348\u001b[0m \u001b[43m    \u001b[49m\u001b[43mepsilon\u001b[49m\u001b[38;5;241;43m=\u001b[39;49m\u001b[38;5;28;43mself\u001b[39;49m\u001b[38;5;241;43m.\u001b[39;49m\u001b[43mepsilon\u001b[49m\u001b[43m,\u001b[49m\n\u001b[0;32m    349\u001b[0m \u001b[43m    \u001b[49m\u001b[43mmax_iter\u001b[49m\u001b[38;5;241;43m=\u001b[39;49m\u001b[38;5;28;43mself\u001b[39;49m\u001b[38;5;241;43m.\u001b[39;49m\u001b[43mmax_iter\u001b[49m\u001b[43m,\u001b[49m\n\u001b[0;32m    350\u001b[0m \u001b[43m    \u001b[49m\u001b[43mrandom_seed\u001b[49m\u001b[38;5;241;43m=\u001b[39;49m\u001b[43mrandom_seed\u001b[49m\u001b[43m,\u001b[49m\n\u001b[0;32m    351\u001b[0m \u001b[43m\u001b[49m\u001b[43m)\u001b[49m\n\u001b[0;32m    353\u001b[0m \u001b[38;5;28mself\u001b[39m\u001b[38;5;241m.\u001b[39m_warn_from_fit_status()\n",
      "\u001b[1;31mKeyboardInterrupt\u001b[0m: "
     ]
    }
   ],
   "source": [
    "# This code does classification based on spot light search, serial processing, slow. Don't run it, troubleshooting\n",
    "start = timer()\n",
    "CLconditions=['Neg','Targ']\n",
    "\n",
    "\n",
    "##LinearSVC(random_state=0))\n",
    "clf = SVC(kernel='linear',probability=True)\n",
    "pipeSpotLight = Pipeline([('scaler', StandardScaler()), ('clf', clf)])\n",
    "\n",
    "subj_list_one=[subj_list[1]]; \n",
    "Nsubj=len(subj_list_one)\n",
    "all_performance = np.zeros(Nsubj)\n",
    "for i_sub, subj in enumerate(subj_list_one):\n",
    "    \n",
    "    ZstatInfoSubj=ZstatInfo.loc[ZstatInfo['Subj']==subj]\n",
    "    \n",
    "    Alldata=LoadAllNii(ZstatInfoSubj,CLconditions) # load Alldata\n",
    "         \n",
    "    DataArgDict= {'AllPoints': AllPoints,\n",
    "              'ZstatInfoSubj':ZstatInfoSubj ,\n",
    "              'CLconditions': CLconditions, \n",
    "              'Alldata': Alldata,\n",
    "              'pipeSpotLight':pipeSpotLight,\n",
    "              'nPerm': 100  } \n",
    "    SpotLight_performance=np.zeros(AllPoints.shape[0])\n",
    "    \n",
    "    for iFeature in range(AllPoints.shape[0]): #iFeature=40836, range(56500,56610):\n",
    "        SpotLight_performance[iFeature]= LoopiFeaturePerm(iFeature, AllPoints,ZstatInfoSubj ,CLconditions, Alldata, pipeSpotLight,100)\n",
    "        \n",
    "end = timer()\n",
    "print(end-start)\n",
    "#SpotLight_performance[56500:56610]"
   ]
  },
  {
   "cell_type": "code",
   "execution_count": 81,
   "id": "ceca837a-2dad-4955-a81a-3aa35decfdda",
   "metadata": {},
   "outputs": [
    {
     "ename": "IndentationError",
     "evalue": "unindent does not match any outer indentation level (<tokenize>, line 11)",
     "output_type": "error",
     "traceback": [
      "\u001b[1;36m  File \u001b[1;32m<tokenize>:11\u001b[1;36m\u001b[0m\n\u001b[1;33m    def LoopiFeatureDictPerm(iFeature: int, DataArgDict: dict):\u001b[0m\n\u001b[1;37m    ^\u001b[0m\n\u001b[1;31mIndentationError\u001b[0m\u001b[1;31m:\u001b[0m unindent does not match any outer indentation level\n"
     ]
    }
   ],
   "source": [
    "def LoopiFeaturePerm(iFeature: int, AllPoints: np.ndarray,ZstatInfoSubj: pd.core.frame.DataFrame ,CLconditions: list, Alldata: np.ndarray, pipeSpotLight: Pipeline,nPerm:int,EEG_features=None):\n",
    "    '''This function calulates p-value based on permutaion tests'''\n",
    "    myPoints = AllPoints[iFeature] \n",
    "    #myPoints = SpherePoints(np.array([30,30,15]) , radius,voxel_dims) # sample good point\n",
    "\n",
    "    [X, Y, Gr]=MVPA_FeatureExtraction(ZstatInfoSubj,CLconditions,Alldata, myPoints,EEG_features) # extract data for classifer\n",
    "    #SpotPerformance=MVPA_Classification(X,Y,Gr, pipeSpotLight)\n",
    "    score, perm_scores, pvalue = permutation_test_score(pipeSpotLight, X, Y,  groups=Gr, cv=None, n_permutations=nPerm, n_jobs=None, random_state=0, verbose=0, scoring='accuracy', fit_params=None)    \n",
    "    return pvalue\n",
    "\n",
    " def LoopiFeatureDictPerm(iFeature: int, DataArgDict: dict):\n",
    "    '''This function clacluates the classificaiton output for each spotlight feature (sphere around a ith voxel, with predefined radius'''\n",
    "    ''' iFeature is the index of Spotlight from AllPoints (embeded in DataArgDic)'''\n",
    "    '''DataArcDic is a dict that contains all the information required for classification, including classification pipeline, conditions, location of the zstat file for each condition, spotligh points'''\n",
    "    myPoints = DataArgDict['AllPoints'][iFeature] \n",
    "    # myPoints = SpherePoints(np.array([30,30,15]) , radius,voxel_dims) # sample good point\n",
    "\n",
    "    EEG_features = DataArgDict.get('EEG_features', None)\n",
    "    [X, Y, Gr]=MVPA_FeatureExtraction(DataArgDict['ZstatInfoSubj'],DataArgDict['CLconditions'],DataArgDict['Alldata'], myPoints,EEG_features) # extract data for classifer\n",
    "    #SpotPerformance=MVPA_Classification(X,Y,Gr, DataArgDict['pipeSpotLight'])\n",
    "    score, perm_scores, pvalue = permutation_test_score(DataArgDict['pipeSpotLight'], X, Y,  groups=Gr, cv=None, n_permutations=DataArgDict['nPerm'], n_jobs=None, random_state=0, verbose=0, scoring='accuracy', fit_params=None)\n",
    "    return pvalue \n",
    "    \n",
    "    \n",
    "def multi_run_wrapperLoopiFeatureDictPerm(args):\n",
    "    return LoopiFeatureDictPerm(*args) "
   ]
  },
  {
   "cell_type": "code",
   "execution_count": 78,
   "id": "fd55ae65-5f10-4095-9b61-0a08e186f44f",
   "metadata": {},
   "outputs": [
    {
     "data": {
      "text/plain": [
       "1.0"
      ]
     },
     "execution_count": 78,
     "metadata": {},
     "output_type": "execute_result"
    }
   ],
   "source": [
    "SpotLight_performance[0:932].min()"
   ]
  },
  {
   "cell_type": "code",
   "execution_count": 15,
   "id": "b286a90a-9748-4242-817d-d90be17464cf",
   "metadata": {},
   "outputs": [
    {
     "name": "stdout",
     "output_type": "stream",
     "text": [
      "56501 , 0.5366319444444445\n",
      "56503 , 0.5373263888888888\n",
      "56507 , 0.5243055555555556\n",
      "56509 , 0.5126736111111112\n"
     ]
    }
   ],
   "source": [
    "ch_level=0.51\n",
    "for iFeature in range(56500,56510):# iFeature in range(56500,56610): #\n",
    "\n",
    "        SpotLight_performance_tmp= LoopiFeature(iFeature, AllPoints,ZstatInfoSubj ,CLconditions, Alldata, pipeSpotLight)\n",
    "        if SpotLight_performance_tmp>ch_level:\n",
    "            print(iFeature,',',SpotLight_performance_tmp)\n",
    "    "
   ]
  },
  {
   "cell_type": "code",
   "execution_count": 53,
   "id": "4cb37cd2-2c1e-4125-bf7d-7f299ad47fb6",
   "metadata": {},
   "outputs": [
    {
     "data": {
      "text/plain": [
       "array([[[31]],\n",
       "\n",
       "       [[37]],\n",
       "\n",
       "       [[20]]])"
      ]
     },
     "execution_count": 53,
     "metadata": {},
     "output_type": "execute_result"
    }
   ],
   "source": [
    "AllPoints[56608  ]"
   ]
  },
  {
   "cell_type": "code",
   "execution_count": 56,
   "id": "f66bdc87-a4b8-49b5-a271-71d185764655",
   "metadata": {},
   "outputs": [
    {
     "data": {
      "text/plain": [
       "0.5"
      ]
     },
     "execution_count": 56,
     "metadata": {},
     "output_type": "execute_result"
    }
   ],
   "source": [
    "myPoints = AllPoints[56608  ]\n",
    "#myPoints=np.array([[[39]],[[49]],[[17]]])\n",
    "#myPoints=np.array([[[31]],[[33]],[[25]]])\n",
    "\n",
    "[X, Y, Gr]=MVPA_FeatureExtraction(ZstatInfoSubj,CLconditions,Alldata, myPoints,EEG_features=None) # extract data for classifer\n",
    "#SpotPerformance=MVPA_Classification(X,Y,Gr, pipeSpotLight)\n",
    "score, perm_scores, pvalue = permutation_test_score(pipeSpotLight, X, Y,  groups=Gr, cv=None, n_permutations=100, n_jobs=None, random_state=0, verbose=0, scoring='accuracy', fit_params=None)\n",
    "SpotPerformance"
   ]
  },
  {
   "cell_type": "code",
   "execution_count": 69,
   "id": "5278f1f1-9441-407d-9f77-e62067f22040",
   "metadata": {},
   "outputs": [
    {
     "data": {
      "text/plain": [
       "0.949050949050949"
      ]
     },
     "execution_count": 69,
     "metadata": {},
     "output_type": "execute_result"
    }
   ],
   "source": [
    "LoopiFeaturePerm(iFeature, AllPoints,ZstatInfoSubj ,CLconditions, Alldata, pipeSpotLight,100)"
   ]
  },
  {
   "cell_type": "code",
   "execution_count": 65,
   "id": "b61ae611-8c89-40ce-8e6f-51a2a811779a",
   "metadata": {},
   "outputs": [],
   "source": [
    "def LoopiFeaturePerm(iFeature: int, AllPoints: np.ndarray,ZstatInfoSubj: pd.core.frame.DataFrame ,CLconditions: list, Alldata: np.ndarray, pipeSpotLight: Pipeline,nPerm:int,EEG_features=None):\n",
    "    '''This function calulates p-value based on permutaion tests'''\n",
    "    myPoints = AllPoints[iFeature] \n",
    "    #myPoints = SpherePoints(np.array([30,30,15]) , radius,voxel_dims) # sample good point\n",
    "\n",
    "    [X, Y, Gr]=MVPA_FeatureExtraction(ZstatInfoSubj,CLconditions,Alldata, myPoints,EEG_features) # extract data for classifer\n",
    "    #SpotPerformance=MVPA_Classification(X,Y,Gr, pipeSpotLight)\n",
    "    score, perm_scores, pvalue = permutation_test_score(pipeSpotLight, X, Y,  groups=Gr, cv=None, n_permutations=nPerm, n_jobs=None, random_state=0, verbose=0, scoring='accuracy', fit_params=None)    \n",
    "    return pvalue"
   ]
  },
  {
   "cell_type": "code",
   "execution_count": 15,
   "id": "24fe5998-c4bf-43e4-ac40-5a608ae6fb6f",
   "metadata": {},
   "outputs": [],
   "source": []
  },
  {
   "cell_type": "code",
   "execution_count": 49,
   "id": "9beec829-0226-4bd9-adb1-6cdc2a4e9c25",
   "metadata": {},
   "outputs": [
    {
     "ename": "ValueError",
     "evalue": "multiclass format is not supported",
     "output_type": "error",
     "traceback": [
      "\u001b[1;31m---------------------------------------------------------------------------\u001b[0m",
      "\u001b[1;31mValueError\u001b[0m                                Traceback (most recent call last)",
      "Cell \u001b[1;32mIn[49], line 1\u001b[0m\n\u001b[1;32m----> 1\u001b[0m score, perm_scores, pvalue \u001b[38;5;241m=\u001b[39m \u001b[43mpermutation_test_score\u001b[49m\u001b[43m(\u001b[49m\u001b[43mpipeSpotLight\u001b[49m\u001b[43m,\u001b[49m\u001b[43m \u001b[49m\u001b[43mX\u001b[49m\u001b[43m,\u001b[49m\u001b[43m \u001b[49m\u001b[43mY\u001b[49m\u001b[43m,\u001b[49m\u001b[43m  \u001b[49m\u001b[43mgroups\u001b[49m\u001b[38;5;241;43m=\u001b[39;49m\u001b[43mGr\u001b[49m\u001b[43m,\u001b[49m\u001b[43m \u001b[49m\u001b[43mcv\u001b[49m\u001b[38;5;241;43m=\u001b[39;49m\u001b[38;5;28;43;01mNone\u001b[39;49;00m\u001b[43m,\u001b[49m\u001b[43m \u001b[49m\u001b[43mn_permutations\u001b[49m\u001b[38;5;241;43m=\u001b[39;49m\u001b[38;5;241;43m100\u001b[39;49m\u001b[43m,\u001b[49m\u001b[43m \u001b[49m\u001b[43mn_jobs\u001b[49m\u001b[38;5;241;43m=\u001b[39;49m\u001b[38;5;28;43;01mNone\u001b[39;49;00m\u001b[43m,\u001b[49m\u001b[43m \u001b[49m\u001b[43mrandom_state\u001b[49m\u001b[38;5;241;43m=\u001b[39;49m\u001b[38;5;241;43m0\u001b[39;49m\u001b[43m,\u001b[49m\u001b[43m \u001b[49m\u001b[43mverbose\u001b[49m\u001b[38;5;241;43m=\u001b[39;49m\u001b[38;5;241;43m0\u001b[39;49m\u001b[43m,\u001b[49m\u001b[43m \u001b[49m\u001b[43mscoring\u001b[49m\u001b[38;5;241;43m=\u001b[39;49m\u001b[38;5;124;43m'\u001b[39;49m\u001b[38;5;124;43mroc_auc\u001b[39;49m\u001b[38;5;124;43m'\u001b[39;49m\u001b[43m,\u001b[49m\u001b[43m \u001b[49m\u001b[43mfit_params\u001b[49m\u001b[38;5;241;43m=\u001b[39;49m\u001b[38;5;28;43;01mNone\u001b[39;49;00m\u001b[43m)\u001b[49m\n\u001b[0;32m      2\u001b[0m score\n",
      "File \u001b[1;32m~\\AppData\\Roaming\\Python\\Python311\\site-packages\\sklearn\\model_selection\\_validation.py:1304\u001b[0m, in \u001b[0;36mpermutation_test_score\u001b[1;34m(estimator, X, y, groups, cv, n_permutations, n_jobs, random_state, verbose, scoring, fit_params)\u001b[0m\n\u001b[0;32m   1300\u001b[0m random_state \u001b[38;5;241m=\u001b[39m check_random_state(random_state)\n\u001b[0;32m   1302\u001b[0m \u001b[38;5;66;03m# We clone the estimator to make sure that all the folds are\u001b[39;00m\n\u001b[0;32m   1303\u001b[0m \u001b[38;5;66;03m# independent, and that it is pickle-able.\u001b[39;00m\n\u001b[1;32m-> 1304\u001b[0m score \u001b[38;5;241m=\u001b[39m \u001b[43m_permutation_test_score\u001b[49m\u001b[43m(\u001b[49m\n\u001b[0;32m   1305\u001b[0m \u001b[43m    \u001b[49m\u001b[43mclone\u001b[49m\u001b[43m(\u001b[49m\u001b[43mestimator\u001b[49m\u001b[43m)\u001b[49m\u001b[43m,\u001b[49m\u001b[43m \u001b[49m\u001b[43mX\u001b[49m\u001b[43m,\u001b[49m\u001b[43m \u001b[49m\u001b[43my\u001b[49m\u001b[43m,\u001b[49m\u001b[43m \u001b[49m\u001b[43mgroups\u001b[49m\u001b[43m,\u001b[49m\u001b[43m \u001b[49m\u001b[43mcv\u001b[49m\u001b[43m,\u001b[49m\u001b[43m \u001b[49m\u001b[43mscorer\u001b[49m\u001b[43m,\u001b[49m\u001b[43m \u001b[49m\u001b[43mfit_params\u001b[49m\u001b[38;5;241;43m=\u001b[39;49m\u001b[43mfit_params\u001b[49m\n\u001b[0;32m   1306\u001b[0m \u001b[43m\u001b[49m\u001b[43m)\u001b[49m\n\u001b[0;32m   1307\u001b[0m permutation_scores \u001b[38;5;241m=\u001b[39m Parallel(n_jobs\u001b[38;5;241m=\u001b[39mn_jobs, verbose\u001b[38;5;241m=\u001b[39mverbose)(\n\u001b[0;32m   1308\u001b[0m     delayed(_permutation_test_score)(\n\u001b[0;32m   1309\u001b[0m         clone(estimator),\n\u001b[1;32m   (...)\u001b[0m\n\u001b[0;32m   1317\u001b[0m     \u001b[38;5;28;01mfor\u001b[39;00m _ \u001b[38;5;129;01min\u001b[39;00m \u001b[38;5;28mrange\u001b[39m(n_permutations)\n\u001b[0;32m   1318\u001b[0m )\n\u001b[0;32m   1319\u001b[0m permutation_scores \u001b[38;5;241m=\u001b[39m np\u001b[38;5;241m.\u001b[39marray(permutation_scores)\n",
      "File \u001b[1;32m~\\AppData\\Roaming\\Python\\Python311\\site-packages\\sklearn\\model_selection\\_validation.py:1334\u001b[0m, in \u001b[0;36m_permutation_test_score\u001b[1;34m(estimator, X, y, groups, cv, scorer, fit_params)\u001b[0m\n\u001b[0;32m   1332\u001b[0m     fit_params \u001b[38;5;241m=\u001b[39m _check_fit_params(X, fit_params, train)\n\u001b[0;32m   1333\u001b[0m     estimator\u001b[38;5;241m.\u001b[39mfit(X_train, y_train, \u001b[38;5;241m*\u001b[39m\u001b[38;5;241m*\u001b[39mfit_params)\n\u001b[1;32m-> 1334\u001b[0m     avg_score\u001b[38;5;241m.\u001b[39mappend(\u001b[43mscorer\u001b[49m\u001b[43m(\u001b[49m\u001b[43mestimator\u001b[49m\u001b[43m,\u001b[49m\u001b[43m \u001b[49m\u001b[43mX_test\u001b[49m\u001b[43m,\u001b[49m\u001b[43m \u001b[49m\u001b[43my_test\u001b[49m\u001b[43m)\u001b[49m)\n\u001b[0;32m   1335\u001b[0m \u001b[38;5;28;01mreturn\u001b[39;00m np\u001b[38;5;241m.\u001b[39mmean(avg_score)\n",
      "File \u001b[1;32m~\\AppData\\Roaming\\Python\\Python311\\site-packages\\sklearn\\metrics\\_scorer.py:220\u001b[0m, in \u001b[0;36m_BaseScorer.__call__\u001b[1;34m(self, estimator, X, y_true, sample_weight)\u001b[0m\n\u001b[0;32m    197\u001b[0m \u001b[38;5;28;01mdef\u001b[39;00m \u001b[38;5;21m__call__\u001b[39m(\u001b[38;5;28mself\u001b[39m, estimator, X, y_true, sample_weight\u001b[38;5;241m=\u001b[39m\u001b[38;5;28;01mNone\u001b[39;00m):\n\u001b[0;32m    198\u001b[0m     \u001b[38;5;124;03m\"\"\"Evaluate predicted target values for X relative to y_true.\u001b[39;00m\n\u001b[0;32m    199\u001b[0m \n\u001b[0;32m    200\u001b[0m \u001b[38;5;124;03m    Parameters\u001b[39;00m\n\u001b[1;32m   (...)\u001b[0m\n\u001b[0;32m    218\u001b[0m \u001b[38;5;124;03m        Score function applied to prediction of estimator on X.\u001b[39;00m\n\u001b[0;32m    219\u001b[0m \u001b[38;5;124;03m    \"\"\"\u001b[39;00m\n\u001b[1;32m--> 220\u001b[0m     \u001b[38;5;28;01mreturn\u001b[39;00m \u001b[38;5;28;43mself\u001b[39;49m\u001b[38;5;241;43m.\u001b[39;49m\u001b[43m_score\u001b[49m\u001b[43m(\u001b[49m\n\u001b[0;32m    221\u001b[0m \u001b[43m        \u001b[49m\u001b[43mpartial\u001b[49m\u001b[43m(\u001b[49m\u001b[43m_cached_call\u001b[49m\u001b[43m,\u001b[49m\u001b[43m \u001b[49m\u001b[38;5;28;43;01mNone\u001b[39;49;00m\u001b[43m)\u001b[49m\u001b[43m,\u001b[49m\n\u001b[0;32m    222\u001b[0m \u001b[43m        \u001b[49m\u001b[43mestimator\u001b[49m\u001b[43m,\u001b[49m\n\u001b[0;32m    223\u001b[0m \u001b[43m        \u001b[49m\u001b[43mX\u001b[49m\u001b[43m,\u001b[49m\n\u001b[0;32m    224\u001b[0m \u001b[43m        \u001b[49m\u001b[43my_true\u001b[49m\u001b[43m,\u001b[49m\n\u001b[0;32m    225\u001b[0m \u001b[43m        \u001b[49m\u001b[43msample_weight\u001b[49m\u001b[38;5;241;43m=\u001b[39;49m\u001b[43msample_weight\u001b[49m\u001b[43m,\u001b[49m\n\u001b[0;32m    226\u001b[0m \u001b[43m    \u001b[49m\u001b[43m)\u001b[49m\n",
      "File \u001b[1;32m~\\AppData\\Roaming\\Python\\Python311\\site-packages\\sklearn\\metrics\\_scorer.py:353\u001b[0m, in \u001b[0;36m_ThresholdScorer._score\u001b[1;34m(self, method_caller, clf, X, y, sample_weight)\u001b[0m\n\u001b[0;32m    351\u001b[0m y_type \u001b[38;5;241m=\u001b[39m type_of_target(y)\n\u001b[0;32m    352\u001b[0m \u001b[38;5;28;01mif\u001b[39;00m y_type \u001b[38;5;129;01mnot\u001b[39;00m \u001b[38;5;129;01min\u001b[39;00m (\u001b[38;5;124m\"\u001b[39m\u001b[38;5;124mbinary\u001b[39m\u001b[38;5;124m\"\u001b[39m, \u001b[38;5;124m\"\u001b[39m\u001b[38;5;124mmultilabel-indicator\u001b[39m\u001b[38;5;124m\"\u001b[39m):\n\u001b[1;32m--> 353\u001b[0m     \u001b[38;5;28;01mraise\u001b[39;00m \u001b[38;5;167;01mValueError\u001b[39;00m(\u001b[38;5;124m\"\u001b[39m\u001b[38;5;132;01m{0}\u001b[39;00m\u001b[38;5;124m format is not supported\u001b[39m\u001b[38;5;124m\"\u001b[39m\u001b[38;5;241m.\u001b[39mformat(y_type))\n\u001b[0;32m    355\u001b[0m \u001b[38;5;28;01mif\u001b[39;00m is_regressor(clf):\n\u001b[0;32m    356\u001b[0m     y_pred \u001b[38;5;241m=\u001b[39m method_caller(clf, \u001b[38;5;124m\"\u001b[39m\u001b[38;5;124mpredict\u001b[39m\u001b[38;5;124m\"\u001b[39m, X)\n",
      "\u001b[1;31mValueError\u001b[0m: multiclass format is not supported"
     ]
    }
   ],
   "source": [
    "score, perm_scores, pvalue = permutation_test_score(pipeSpotLight, X, Y,  groups=Gr, cv=None, n_permutations=100, n_jobs=None, random_state=0, verbose=0, scoring='roc_auc', fit_params=None)\n",
    "score"
   ]
  },
  {
   "cell_type": "code",
   "execution_count": null,
   "id": "f1c3a2ff-2611-471d-b687-33fea2ce388f",
   "metadata": {},
   "outputs": [],
   "source": []
  },
  {
   "cell_type": "code",
   "execution_count": 46,
   "id": "94795775-25bb-4271-983d-15921a01fdb6",
   "metadata": {},
   "outputs": [
    {
     "data": {
      "image/png": "[encoded data removed]",
      "text/plain": [
       "<Figure size 640x480 with 1 Axes>"
      ]
     },
     "metadata": {},
     "output_type": "display_data"
    }
   ],
   "source": [
    "import matplotlib.pyplot as plt\n",
    "\n",
    "fig, ax = plt.subplots()\n",
    "\n",
    "ax.hist(perm_scores, bins=20, density=True)\n",
    "ax.axvline(score, ls=\"--\", color=\"r\")\n",
    "score_label = f\"Score on original\\ndata: {score:.2f}\\n(p-value: {pvalue:.3f})\"\n",
    "ax.text(0.7, 10, score_label, fontsize=12)\n",
    "ax.set_xlabel(\"Accuracy score\")\n",
    "_ = ax.set_ylabel(\"Probability density\")"
   ]
  },
  {
   "cell_type": "code",
   "execution_count": 134,
   "id": "7276b88b-a1a3-492c-94f4-96a088bb8847",
   "metadata": {},
   "outputs": [
    {
     "data": {
      "text/plain": [
       "array([[[31]],\n",
       "\n",
       "       [[33]],\n",
       "\n",
       "       [[25]]])"
      ]
     },
     "execution_count": 134,
     "metadata": {},
     "output_type": "execute_result"
    }
   ],
   "source": [
    "AllPoints[56501 ]"
   ]
  },
  {
   "cell_type": "code",
   "execution_count": 32,
   "id": "7725c4bf-bcf2-4050-b6ef-cf76ab77fe54",
   "metadata": {},
   "outputs": [
    {
     "name": "stdout",
     "output_type": "stream",
     "text": [
      "[1. 1. 1. 1. 1. 1. 1. 1. 1. 1. 1. 1. 1. 1. 1. 1. 1. 1. 1. 1. 1. 1. 1. 1.\n",
      " 1. 1. 1. 1. 2. 2. 2. 2. 2. 2. 2. 2. 2. 2. 2. 2. 2. 2. 2. 2. 2. 2. 2. 2.\n",
      " 2. 2. 2. 2. 2. 2. 2. 2. 3. 3. 3. 3. 3. 3. 3. 3. 3. 3. 3. 3. 3. 3. 3. 3.\n",
      " 3. 3. 3. 3. 3. 3. 3. 3. 3. 3. 3. 3. 4. 4. 4. 4. 4. 4. 4. 4. 4. 4. 4. 4.\n",
      " 4. 4. 4. 4. 4. 4. 4. 4. 4. 4. 4. 4. 4. 4. 4. 4. 5. 5. 5. 5. 5. 5. 5. 5.\n",
      " 5. 5. 5. 5. 5. 5. 5. 5. 5. 5. 5. 5. 5. 5. 5. 5. 5. 5. 5. 5.]\n",
      "TRUE: [1. 1. 1. 1. 1. 1. 1. 1. 2. 2. 2. 2. 2. 2. 2. 2. 3. 3. 3. 3. 3. 3. 3. 3.\n",
      " 3. 3. 3. 3.]\n",
      "Pred: [3. 3. 3. 3. 3. 3. 3. 3. 3. 3. 3. 3. 3. 3. 3. 3. 3. 3. 3. 3. 3. 3. 3. 3.\n",
      " 3. 3. 3. 3.]\n",
      "Accuracy test: 0.43\n",
      "ROC_AUC_Score: 0.54\n",
      "0.10798611111111112\n"
     ]
    }
   ],
   "source": [
    "    \n",
    "    #def MVPA_Classification(X,Y,Gr, pipeSpotLight):\n",
    "    # '''Performe classification on voxel data'''\n",
    "    SpotPerformance = 0;\n",
    "    NRun=int(max(Gr))\n",
    "    if (np.any(X)): # perform classifier if values of X are not all zero\n",
    "        print(Gr)\n",
    "        gkf = GroupKFold(n_splits=NRun) # leave one out, initialize GroupKFold with Nrun splits\n",
    "        performance_this_fold = np.zeros(gkf.n_splits)\n",
    "        for i_fold, (train_idx, test_idx) in enumerate(gkf.split(X=X, y=Y, groups=Gr)):\n",
    "            if i_fold >=1:\n",
    "                continue\n",
    "            # print(\"Indices of our test-samples: %r\" % test_idx.tolist())\n",
    "            # print(\"... which correspond to following runs: %r\" % Gr[test_idx].tolist(), '\\n')\n",
    "            # Implement your ToDo here!\n",
    "            X_test, X_train=X[test_idx], X[train_idx]\n",
    "            Y_test, Y_train=Y[test_idx], Y[train_idx]\n",
    "\n",
    "            pipeSpotLight.fit(X_train, Y_train)\n",
    "            preds = pipeSpotLight.predict(X_test)\n",
    "            print('TRUE:',Y_test)\n",
    "            print('Pred:',preds)\n",
    "            print(\"Accuracy test: %.2f\" % (preds == Y_test).mean())\n",
    "\n",
    "            if len(list(set(Y)))>2: # for multi-class classifier\n",
    "        #        performance = roc_auc_score(Y_test,  pipe.predict_proba(X_test), multi_class='ovr') # 'ovr'(One-vs-rest): Computes the AUC of each class against the rest, This treats the multiclass case in the same way as the multilabel case. Sensitive to class imbalance even when average == 'macro', because class imbalance affects the composition of each of the ‘rest’ groupings.\n",
    "                # in the pairwise AUC calculation, if a sample is labeled wrongly as a another class (not in paired), it will be dropped from the calculation, resulting in a higher rate\n",
    "                performance = roc_auc_score(Y_test,  pipeSpotLight.predict_proba(X_test),  multi_class='ovo', average = 'macro') # 'ovo' (One-vs-one) Computes the average AUC of all possible pairwise combinations of classes. Insensitive to class imbalance when average == 'macro'.\n",
    "            else:\n",
    "                performance = roc_auc_score(Y_test,  preds, average = 'macro') \n",
    "\n",
    "            performance_this_fold[i_fold] = performance\n",
    "            print(\"ROC_AUC_Score: %.2f\" % performance_this_fold[i_fold])\n",
    "\n",
    "        SpotPerformance=np.mean(performance_this_fold)\n",
    "        print(SpotPerformance)\n",
    "        \n",
    "    # return SpotPerformance\n"
   ]
  },
  {
   "cell_type": "code",
   "execution_count": 122,
   "id": "42c0a36c-29da-44b5-adda-4d921aee3694",
   "metadata": {},
   "outputs": [
    {
     "data": {
      "text/plain": [
       "[array([1, 0, 0, 0, 0, 0, 0, 0, 1, 1, 1, 0, 0, 0, 0, 0, 0, 0, 0, 0, 0, 0,\n",
       "        0, 0, 0, 0, 0, 0], dtype=int64),\n",
       " array([1, 1, 1, 1, 1, 1, 1, 1, 1, 1, 1, 1, 1, 1, 1, 1, 1, 1, 1, 1, 1, 1,\n",
       "        1, 1, 1, 1, 1, 1], dtype=int64),\n",
       " array([1, 1, 1, 1, 1, 1, 1, 1, 1, 1, 1, 1, 1, 1, 1, 1, 1, 1, 1, 1, 1, 1,\n",
       "        1, 1, 1, 1, 1, 1], dtype=int64)]"
      ]
     },
     "execution_count": 122,
     "metadata": {},
     "output_type": "execute_result"
    }
   ],
   "source": [
    "Test_Prob=pipeSpotLight.predict_proba(X_test)\n",
    "[np.argmax(Test_Prob[:, [0,1]], axis=1),np.argmax(Test_Prob[:, [1,2]], axis=1),np.argmax(Test_Prob[:, [0,2]], axis=1)]\n"
   ]
  },
  {
   "cell_type": "code",
   "execution_count": 112,
   "id": "9e06c7a9-0455-4623-ac10-0846acb1df7e",
   "metadata": {},
   "outputs": [
    {
     "data": {
      "text/plain": [
       "0.75"
      ]
     },
     "execution_count": 112,
     "metadata": {},
     "output_type": "execute_result"
    }
   ],
   "source": []
  },
  {
   "cell_type": "code",
   "execution_count": 110,
   "id": "3e78344f-041c-4b95-9ae3-95cb050fe44f",
   "metadata": {},
   "outputs": [
    {
     "data": {
      "text/plain": [
       "0.5"
      ]
     },
     "execution_count": 110,
     "metadata": {},
     "output_type": "execute_result"
    }
   ],
   "source": [
    "roc_auc_score([1,1,1,2,2,2,2],[2,2,2,2,2,2,2])"
   ]
  },
  {
   "cell_type": "code",
   "execution_count": 33,
   "id": "77b94279-3ab4-456a-b660-7d84cbcf06d5",
   "metadata": {},
   "outputs": [
    {
     "ename": "NameError",
     "evalue": "name 'Test_Probtt' is not defined",
     "output_type": "error",
     "traceback": [
      "\u001b[1;31m---------------------------------------------------------------------------\u001b[0m",
      "\u001b[1;31mNameError\u001b[0m                                 Traceback (most recent call last)",
      "Cell \u001b[1;32mIn[33], line 1\u001b[0m\n\u001b[1;32m----> 1\u001b[0m summation\u001b[38;5;241m=\u001b[39mnp\u001b[38;5;241m.\u001b[39msum(\u001b[43mTest_Probtt\u001b[49m[:, [\u001b[38;5;241m0\u001b[39m,\u001b[38;5;241m1\u001b[39m]], axis\u001b[38;5;241m=\u001b[39m\u001b[38;5;241m1\u001b[39m)\n\u001b[0;32m      2\u001b[0m Test_Probtt12\u001b[38;5;241m=\u001b[39mTest_Probtt[:, [\u001b[38;5;241m0\u001b[39m,\u001b[38;5;241m1\u001b[39m]]\u001b[38;5;241m/\u001b[39msummation[:, np\u001b[38;5;241m.\u001b[39mnewaxis]\n\u001b[0;32m      3\u001b[0m roc_auc_score(YTest_tt[\u001b[38;5;241m0\u001b[39m:\u001b[38;5;241m6\u001b[39m], Test_Probtt12[\u001b[38;5;241m0\u001b[39m:\u001b[38;5;241m6\u001b[39m])\u001b[38;5;66;03m#, average = 'macro')\u001b[39;00m\n",
      "\u001b[1;31mNameError\u001b[0m: name 'Test_Probtt' is not defined"
     ]
    }
   ],
   "source": [
    "summation=np.sum(Test_Probtt[:, [0,1]], axis=1)\n",
    "Test_Probtt12=Test_Probtt[:, [0,1]]/summation[:, np.newaxis]\n",
    "roc_auc_score(YTest_tt[0:6], Test_Probtt12[0:6])#, average = 'macro')"
   ]
  },
  {
   "cell_type": "code",
   "execution_count": 80,
   "id": "fb652881-152b-46a4-8daa-e784f3d32407",
   "metadata": {},
   "outputs": [
    {
     "data": {
      "text/plain": [
       "0.4305555555555555"
      ]
     },
     "execution_count": 80,
     "metadata": {},
     "output_type": "execute_result"
    }
   ],
   "source": [
    "roc_auc = roc_auc_score(YTest_tt, Test_Probtt, multi_class='ovo')#, average = 'macro')\n",
    "roc_auc"
   ]
  },
  {
   "cell_type": "code",
   "execution_count": 91,
   "id": "f600ff1a-c2f2-4a00-9f4d-470bba94cc6c",
   "metadata": {},
   "outputs": [
    {
     "data": {
      "text/plain": [
       "array([2.80821646, 2.71319032])"
      ]
     },
     "execution_count": 91,
     "metadata": {},
     "output_type": "execute_result"
    }
   ],
   "source": [
    "sum(Test_Probtt[:,0:2],)"
   ]
  },
  {
   "cell_type": "code",
   "execution_count": 89,
   "id": "53fc01ef-4fd5-48fe-bbcf-050f53ba53b2",
   "metadata": {},
   "outputs": [
    {
     "ename": "ValueError",
     "evalue": "Target scores need to be probabilities for multiclass roc_auc, i.e. they should sum up to 1.0 over classes",
     "output_type": "error",
     "traceback": [
      "\u001b[1;31m---------------------------------------------------------------------------\u001b[0m",
      "\u001b[1;31mValueError\u001b[0m                                Traceback (most recent call last)",
      "Cell \u001b[1;32mIn[89], line 2\u001b[0m\n\u001b[0;32m      1\u001b[0m Test_Probtt[:,\u001b[38;5;241m0\u001b[39m:\u001b[38;5;241m2\u001b[39m]\n\u001b[1;32m----> 2\u001b[0m roc_auc12 \u001b[38;5;241m=\u001b[39m \u001b[43mroc_auc_score\u001b[49m\u001b[43m(\u001b[49m\u001b[43mYTest_tt\u001b[49m\u001b[43m,\u001b[49m\u001b[43m \u001b[49m\u001b[43mTest_Probtt\u001b[49m\u001b[43m[\u001b[49m\u001b[43m:\u001b[49m\u001b[43m,\u001b[49m\u001b[38;5;241;43m0\u001b[39;49m\u001b[43m:\u001b[49m\u001b[38;5;241;43m2\u001b[39;49m\u001b[43m]\u001b[49m\u001b[43m,\u001b[49m\u001b[43m \u001b[49m\u001b[43mmulti_class\u001b[49m\u001b[38;5;241;43m=\u001b[39;49m\u001b[38;5;124;43m'\u001b[39;49m\u001b[38;5;124;43movo\u001b[39;49m\u001b[38;5;124;43m'\u001b[39;49m\u001b[43m)\u001b[49m\u001b[38;5;66;03m#, average = 'macro')\u001b[39;00m\n\u001b[0;32m      3\u001b[0m roc_auc12\n",
      "File \u001b[1;32m~\\AppData\\Roaming\\Python\\Python311\\site-packages\\sklearn\\metrics\\_ranking.py:566\u001b[0m, in \u001b[0;36mroc_auc_score\u001b[1;34m(y_true, y_score, average, sample_weight, max_fpr, multi_class, labels)\u001b[0m\n\u001b[0;32m    564\u001b[0m     \u001b[38;5;28;01mif\u001b[39;00m multi_class \u001b[38;5;241m==\u001b[39m \u001b[38;5;124m\"\u001b[39m\u001b[38;5;124mraise\u001b[39m\u001b[38;5;124m\"\u001b[39m:\n\u001b[0;32m    565\u001b[0m         \u001b[38;5;28;01mraise\u001b[39;00m \u001b[38;5;167;01mValueError\u001b[39;00m(\u001b[38;5;124m\"\u001b[39m\u001b[38;5;124mmulti_class must be in (\u001b[39m\u001b[38;5;124m'\u001b[39m\u001b[38;5;124movo\u001b[39m\u001b[38;5;124m'\u001b[39m\u001b[38;5;124m, \u001b[39m\u001b[38;5;124m'\u001b[39m\u001b[38;5;124movr\u001b[39m\u001b[38;5;124m'\u001b[39m\u001b[38;5;124m)\u001b[39m\u001b[38;5;124m\"\u001b[39m)\n\u001b[1;32m--> 566\u001b[0m     \u001b[38;5;28;01mreturn\u001b[39;00m \u001b[43m_multiclass_roc_auc_score\u001b[49m\u001b[43m(\u001b[49m\n\u001b[0;32m    567\u001b[0m \u001b[43m        \u001b[49m\u001b[43my_true\u001b[49m\u001b[43m,\u001b[49m\u001b[43m \u001b[49m\u001b[43my_score\u001b[49m\u001b[43m,\u001b[49m\u001b[43m \u001b[49m\u001b[43mlabels\u001b[49m\u001b[43m,\u001b[49m\u001b[43m \u001b[49m\u001b[43mmulti_class\u001b[49m\u001b[43m,\u001b[49m\u001b[43m \u001b[49m\u001b[43maverage\u001b[49m\u001b[43m,\u001b[49m\u001b[43m \u001b[49m\u001b[43msample_weight\u001b[49m\n\u001b[0;32m    568\u001b[0m \u001b[43m    \u001b[49m\u001b[43m)\u001b[49m\n\u001b[0;32m    569\u001b[0m \u001b[38;5;28;01melif\u001b[39;00m y_type \u001b[38;5;241m==\u001b[39m \u001b[38;5;124m\"\u001b[39m\u001b[38;5;124mbinary\u001b[39m\u001b[38;5;124m\"\u001b[39m:\n\u001b[0;32m    570\u001b[0m     labels \u001b[38;5;241m=\u001b[39m np\u001b[38;5;241m.\u001b[39munique(y_true)\n",
      "File \u001b[1;32m~\\AppData\\Roaming\\Python\\Python311\\site-packages\\sklearn\\metrics\\_ranking.py:639\u001b[0m, in \u001b[0;36m_multiclass_roc_auc_score\u001b[1;34m(y_true, y_score, labels, multi_class, average, sample_weight)\u001b[0m\n\u001b[0;32m    637\u001b[0m \u001b[38;5;66;03m# validation of the input y_score\u001b[39;00m\n\u001b[0;32m    638\u001b[0m \u001b[38;5;28;01mif\u001b[39;00m \u001b[38;5;129;01mnot\u001b[39;00m np\u001b[38;5;241m.\u001b[39mallclose(\u001b[38;5;241m1\u001b[39m, y_score\u001b[38;5;241m.\u001b[39msum(axis\u001b[38;5;241m=\u001b[39m\u001b[38;5;241m1\u001b[39m)):\n\u001b[1;32m--> 639\u001b[0m     \u001b[38;5;28;01mraise\u001b[39;00m \u001b[38;5;167;01mValueError\u001b[39;00m(\n\u001b[0;32m    640\u001b[0m         \u001b[38;5;124m\"\u001b[39m\u001b[38;5;124mTarget scores need to be probabilities for multiclass \u001b[39m\u001b[38;5;124m\"\u001b[39m\n\u001b[0;32m    641\u001b[0m         \u001b[38;5;124m\"\u001b[39m\u001b[38;5;124mroc_auc, i.e. they should sum up to 1.0 over classes\u001b[39m\u001b[38;5;124m\"\u001b[39m\n\u001b[0;32m    642\u001b[0m     )\n\u001b[0;32m    644\u001b[0m \u001b[38;5;66;03m# validation for multiclass parameter specifications\u001b[39;00m\n\u001b[0;32m    645\u001b[0m average_options \u001b[38;5;241m=\u001b[39m (\u001b[38;5;124m\"\u001b[39m\u001b[38;5;124mmacro\u001b[39m\u001b[38;5;124m\"\u001b[39m, \u001b[38;5;124m\"\u001b[39m\u001b[38;5;124mweighted\u001b[39m\u001b[38;5;124m\"\u001b[39m, \u001b[38;5;28;01mNone\u001b[39;00m)\n",
      "\u001b[1;31mValueError\u001b[0m: Target scores need to be probabilities for multiclass roc_auc, i.e. they should sum up to 1.0 over classes"
     ]
    }
   ],
   "source": [
    "Test_Probtt[:,0:2]/sum\n",
    "roc_auc12 = roc_auc_score(YTest_tt, Test_Probtt[:,0:2], multi_class='ovo')#, average = 'macro')\n",
    "roc_auc12"
   ]
  },
  {
   "cell_type": "code",
   "execution_count": 34,
   "id": "b9e940f9-ed80-4f53-b513-b07f40da35fe",
   "metadata": {},
   "outputs": [
    {
     "data": {
      "text/plain": [
       "0.5399305555555556"
      ]
     },
     "execution_count": 34,
     "metadata": {},
     "output_type": "execute_result"
    }
   ],
   "source": [
    "roc_auc_score(Y_test,  pipeSpotLight.predict_proba(X_test),  multi_class='ovo', average = 'macro')"
   ]
  },
  {
   "cell_type": "code",
   "execution_count": 35,
   "id": "1d05a826-e2d1-4da8-be7c-735caeb82298",
   "metadata": {},
   "outputs": [
    {
     "data": {
      "text/plain": [
       "array([0.53993056, 0.        , 0.        , 0.        , 0.        ])"
      ]
     },
     "execution_count": 35,
     "metadata": {},
     "output_type": "execute_result"
    }
   ],
   "source": [
    "performance_this_fold"
   ]
  },
  {
   "cell_type": "code",
   "execution_count": null,
   "id": "b646c216-bb41-4d8a-9b56-c8b6a584bd27",
   "metadata": {},
   "outputs": [],
   "source": [
    "\n"
   ]
  },
  {
   "cell_type": "code",
   "execution_count": null,
   "id": "08fd8de2",
   "metadata": {},
   "outputs": [],
   "source": [
    "def MVPA_FeatureExtraction(ZstatInfoSubj,CLconditions,Alldata, myPoints,EEG_features=None):\n",
    "    '''In this function features for a classifer is extracted based on the myPoints provided & EEG features'''\n",
    "    \n",
    "    cntAllData=0\n",
    "    num_fMRI_features=myPoints.shape[-1]\n",
    "    if EEG_features is not None:\n",
    "        num_EEG_features=len(EEG_features)\n",
    "    else:\n",
    "        num_EEG_features=0\n",
    "    num_feature=num_fMRI_features+num_EEG_features\n",
    "    X=np.empty((0, num_feature), int) # the number of voxels in the spot light search + number of EEG_features\n",
    "    Y=np.array([])    \n",
    "    Gr=np.array([]) \n",
    "    for iRun in ZstatInfoSubj['Run']:\n",
    "        #print(iRun)\n",
    "        MyZstat=ZstatInfoSubj.loc[(ZstatInfoSubj['Run']==iRun)]\n",
    "        MyZstat.reset_index(inplace = True, drop = True)\n",
    "        #print(MyZstat)\n",
    "        X_run=np.empty((0, num_feature), int)\n",
    "        Y_run=np.array([])\n",
    "        Gr_run=np.array([])\n",
    "        for iCond,CondName in enumerate(CLconditions):\n",
    "            #print(MyZstat[CondName][0])\n",
    "            X_tmp = np.zeros((len(MyZstat[CondName][0]), num_feature))\n",
    "            Y_tmp = np.zeros(len(MyZstat[CondName][0]))\n",
    "            for MyInd,MyNii in enumerate(MyZstat[CondName][0]):\n",
    "                # print(f'{MyInd},{MyNii}')\n",
    "                MyFile=MyZstat['Folder'][0]+MyNii\n",
    "                data=Alldata[cntAllData,:,:,:]\n",
    "                cntAllData+=1\n",
    "\n",
    "                sphereVal = data[np.int_(myPoints[0]),np.int_(myPoints[1]),np.int_(myPoints[2])] \n",
    "\n",
    "                X_tmp[MyInd,0:num_fMRI_features] = sphereVal\n",
    "                Y_tmp[MyInd]=int(iCond)+1\n",
    "\n",
    "                # Extract EEG feature data\n",
    "                if EEG_features is not None:\n",
    "    \n",
    "                    EEG_data=[]\n",
    "                    for my_EEG in EEG_features:\n",
    "                        EEG_col=CondName+'_'+my_EEG\n",
    "                        #print(EEG_col)\n",
    "                        #print(MyZstat[EEG_col][0])                    \n",
    "                        EEG_data.append(MyZstat[EEG_col][0][MyInd])\n",
    "                        #print(f'{EEG_col} for {MyNii}: {EEG_data[-1]}')\n",
    "                    X_tmp[MyInd,num_fMRI_features:] =EEG_data\n",
    "                                \n",
    "            X_run=np.concatenate((X_run,X_tmp),axis = 0)\n",
    "            Y_run=np.concatenate((Y_run,Y_tmp),axis = 0)\n",
    "            Gr_run=np.concatenate((Gr_run,np.repeat(iRun,Y_tmp.shape)),axis = 0)\n",
    "            #print(Y.shape)\n",
    "        X=np.concatenate((X,X_run),axis = 0)\n",
    "        Y=np.concatenate((Y,Y_run),axis = 0)\n",
    "        Gr=np.concatenate((Gr,Gr_run),axis = 0)\n",
    "#     print(cntAllData)\n",
    "    return X, Y, Gr\n",
    "    \n",
    "    \n",
    "    \n",
    "def MVPA_Classification(X,Y,Gr, pipeSpotLight):\n",
    "    '''Performe classification on voxed data'''\n",
    "    SpotPerformance = 0;\n",
    "    NRun=int(max(Gr))\n",
    "    if (np.any(X)): # perform classifier if values of X are not all zero\n",
    "        # print(Gr)\n",
    "        gkf = GroupKFold(n_splits=NRun) # leave one out, initialize GroupKFold with Nrun splits\n",
    "        performance_this_fold = np.zeros(gkf.n_splits)\n",
    "        for i_fold, (train_idx, test_idx) in enumerate(gkf.split(X=X, y=Y, groups=Gr)):\n",
    "            # print(\"Indices of our test-samples: %r\" % test_idx.tolist())\n",
    "            # print(\"... which correspond to following runs: %r\" % Gr[test_idx].tolist(), '\\n')\n",
    "            # Implement your ToDo here!\n",
    "            X_test, X_train=X[test_idx], X[train_idx]\n",
    "            Y_test, Y_train=Y[test_idx], Y[train_idx]\n",
    "\n",
    "            pipeSpotLight.fit(X_train, Y_train)\n",
    "            preds = pipeSpotLight.predict(X_test)\n",
    "    #                 print('TRUE:',Y_test)\n",
    "    #                 print('Pred:',preds)\n",
    "    #                 print(\"Accuracy test: %.2f\" % (preds == Y_test).mean())\n",
    "\n",
    "            if len(list(set(Y)))>2: # for multi-class classifier\n",
    "        #        performance = roc_auc_score(Y_test,  pipe.predict_proba(X_test), multi_class='ovr') # 'ovr'(One-vs-rest): Computes the AUC of each class against the rest, This treats the multiclass case in the same way as the multilabel case. Sensitive to class imbalance even when average == 'macro', because class imbalance affects the composition of each of the ‘rest’ groupings.\n",
    "                # in the pairwise AUC calculation, if a sample is labeled wrongly as a another class (not in paired), it will be dropped from the calculation, resulting in a higher rate\n",
    "                performance = roc_auc_score(Y_test,  pipeSpotLight.predict_proba(X_test),  multi_class='ovo', average = 'macro') # 'ovo' (One-vs-one) Computes the average AUC of all possible pairwise combinations of classes. Insensitive to class imbalance when average == 'macro'.\n",
    "            else:\n",
    "                performance = roc_auc_score(Y_test,  preds, average = 'macro') \n",
    "\n",
    "            performance_this_fold[i_fold] = performance\n",
    "\n",
    "        SpotPerformance=np.mean(performance_this_fold)\n",
    "        \n",
    "    return SpotPerformance\n",
    "\n",
    "def LoopiFeature(iFeature: int, AllPoints: np.ndarray,ZstatInfoSubj: pd.core.frame.DataFrame ,CLconditions: list, Alldata: np.ndarray, pipeSpotLight: Pipeline,EEG_features=None):\n",
    "    myPoints = AllPoints[iFeature] \n",
    "    #myPoints = SpherePoints(np.array([30,30,15]) , radius,voxel_dims) # sample good point\n",
    "\n",
    "    [X, Y, Gr]=MVPA_FeatureExtraction(ZstatInfoSubj,CLconditions,Alldata, myPoints,EEG_features) # extract data for classifer\n",
    "    SpotPerformance=MVPA_Classification(X,Y,Gr, pipeSpotLight)\n",
    "    return SpotPerformance"
   ]
  },
  {
   "cell_type": "code",
   "execution_count": 17,
   "id": "f5a0035e",
   "metadata": {},
   "outputs": [],
   "source": [
    "pipeSpotLight='pipeSpotLight'\n",
    "SpotPerformance = 0;\n",
    "NRun=int(max(Gr))"
   ]
  },
  {
   "cell_type": "code",
   "execution_count": 19,
   "id": "2badbc3f",
   "metadata": {},
   "outputs": [
    {
     "data": {
      "text/plain": [
       "8"
      ]
     },
     "execution_count": 19,
     "metadata": {},
     "output_type": "execute_result"
    }
   ],
   "source": [
    "gkf = GroupKFold(n_splits=NRun)\n",
    "performance_this_fold = np.zeros(gkf.n_splits)\n",
    "gkf.n_splits"
   ]
  },
  {
   "cell_type": "code",
   "execution_count": 20,
   "id": "66ab2649",
   "metadata": {},
   "outputs": [
    {
     "name": "stdout",
     "output_type": "stream",
     "text": [
      "Indices of our test-samples: [133, 134, 135, 136, 137, 138, 139, 140, 141, 142, 143, 144, 145, 146, 147, 148, 149, 150, 151]\n",
      "... which correspond to following runs: [8.0, 8.0, 8.0, 8.0, 8.0, 8.0, 8.0, 8.0, 8.0, 8.0, 8.0, 8.0, 8.0, 8.0, 8.0, 8.0, 8.0, 8.0, 8.0] \n",
      "\n"
     ]
    },
    {
     "ename": "AttributeError",
     "evalue": "'str' object has no attribute 'fit'",
     "output_type": "error",
     "traceback": [
      "\u001b[1;31m---------------------------------------------------------------------------\u001b[0m",
      "\u001b[1;31mAttributeError\u001b[0m                            Traceback (most recent call last)",
      "Cell \u001b[1;32mIn[20], line 15\u001b[0m\n\u001b[0;32m     12\u001b[0m         X_test, X_train\u001b[38;5;241m=\u001b[39mX[test_idx], X[train_idx]\n\u001b[0;32m     13\u001b[0m         Y_test, Y_train\u001b[38;5;241m=\u001b[39mY[test_idx], Y[train_idx]\n\u001b[1;32m---> 15\u001b[0m         \u001b[43mpipeSpotLight\u001b[49m\u001b[38;5;241;43m.\u001b[39;49m\u001b[43mfit\u001b[49m(X_train, Y_train)\n\u001b[0;32m     16\u001b[0m         preds \u001b[38;5;241m=\u001b[39m pipeSpotLight\u001b[38;5;241m.\u001b[39mpredict(X_test)\n\u001b[0;32m     17\u001b[0m \u001b[38;5;66;03m#                 print('TRUE:',Y_test)\u001b[39;00m\n\u001b[0;32m     18\u001b[0m \u001b[38;5;66;03m#                 print('Pred:',preds)\u001b[39;00m\n\u001b[0;32m     19\u001b[0m \u001b[38;5;66;03m#                 print(\"Accuracy test: %.2f\" % (preds == Y_test).mean())\u001b[39;00m\n\u001b[0;32m     20\u001b[0m \n\u001b[0;32m     21\u001b[0m \u001b[38;5;66;03m#        performance = roc_auc_score(Y_test,  pipe.predict_proba(X_test), multi_class='ovr') # 'ovr'(One-vs-rest): Computes the AUC of each class against the rest, This treats the multiclass case in the same way as the multilabel case. Sensitive to class imbalance even when average == 'macro', because class imbalance affects the composition of each of the ‘rest’ groupings.\u001b[39;00m\n\u001b[0;32m     22\u001b[0m         \u001b[38;5;66;03m# in the pairwise AUC calculation, if a sample is labeled wrongly as a another class (not in paired), it will be dropped from the calculation, resulting in a higher rate\u001b[39;00m\n",
      "\u001b[1;31mAttributeError\u001b[0m: 'str' object has no attribute 'fit'"
     ]
    }
   ],
   "source": [
    "pipeSpotLight='pipeSpotLight'\n",
    "SpotPerformance = 0;\n",
    "NRun=int(max(Gr))\n",
    "if (np.any(X)): # perform classifier if values of X are not all zero\n",
    "    # print(Gr)\n",
    "    gkf = GroupKFold(n_splits=NRun) # leave one out, initialize GroupKFold with Nrun splits\n",
    "    performance_this_fold = np.zeros(gkf.n_splits)\n",
    "    for i_fold, (train_idx, test_idx) in enumerate(gkf.split(X=X, y=Y, groups=Gr)):\n",
    "        print(\"Indices of our test-samples: %r\" % test_idx.tolist())\n",
    "        print(\"... which correspond to following runs: %r\" % Gr[test_idx].tolist(), '\\n')\n",
    "        # Implement your ToDo here!\n",
    "        X_test, X_train=X[test_idx], X[train_idx]\n",
    "        Y_test, Y_train=Y[test_idx], Y[train_idx]\n",
    "\n",
    "        pipeSpotLight.fit(X_train, Y_train)\n",
    "        preds = pipeSpotLight.predict(X_test)\n",
    "#                 print('TRUE:',Y_test)\n",
    "#                 print('Pred:',preds)\n",
    "#                 print(\"Accuracy test: %.2f\" % (preds == Y_test).mean())\n",
    "\n",
    "#        performance = roc_auc_score(Y_test,  pipe.predict_proba(X_test), multi_class='ovr') # 'ovr'(One-vs-rest): Computes the AUC of each class against the rest, This treats the multiclass case in the same way as the multilabel case. Sensitive to class imbalance even when average == 'macro', because class imbalance affects the composition of each of the ‘rest’ groupings.\n",
    "        # in the pairwise AUC calculation, if a sample is labeled wrongly as a another class (not in paired), it will be dropped from the calculation, resulting in a higher rate\n",
    "        performance = roc_auc_score(Y_test,  pipeSpotLight.predict_proba(X_test),  multi_class='ovo', average = 'macro') # 'ovo' (One-vs-one) Computes the average AUC of all possible pairwise combinations of classes. Insensitive to class imbalance when average == 'macro'.\n",
    "\n",
    "        performance_this_fold[i_fold] = performance\n",
    "\n",
    "    SpotPerformance=np.mean(performance_this_fold)"
   ]
  },
  {
   "cell_type": "code",
   "execution_count": 14,
   "id": "85cc5ef6",
   "metadata": {},
   "outputs": [],
   "source": [
    "iFeature=74712\n",
    "\n",
    "myPoints = DataArgDict['AllPoints'][iFeature] \n",
    "myPoints.shape\n",
    "#LoopiFeatureDict(iFeature, DataArgDict)\n",
    "[X, Y, Gr]=MVPA_FeatureExtraction(DataArgDict['ZstatInfoSubj'],DataArgDict['CLconditions'],DataArgDict['Alldata'], myPoints) # extract data for classifer\n",
    "SpotPerformance=MVPA_Classification(X,Y,Gr, DataArgDict['pipeSpotLight'])\n",
    "pipeSpotLight='pipeSpotLight'"
   ]
  },
  {
   "cell_type": "code",
   "execution_count": 17,
   "id": "ec87c70a",
   "metadata": {},
   "outputs": [
    {
     "name": "stdout",
     "output_type": "stream",
     "text": [
      "ET_12102013\n",
      "6693.612897799991\n"
     ]
    }
   ],
   "source": [
    "# This code does classification based on spot light search, serial processing (for trouble shooting)\n",
    "CLconditions=['Neu','Neg','Targ']\n",
    "\n",
    "\n",
    "##LinearSVC(random_state=0))\n",
    "clf = SVC(kernel='linear',probability=True)\n",
    "pipeSpotLight = Pipeline([('scaler', StandardScaler()), ('clf', clf)])\n",
    "\n",
    "# subj_list_one=[subj_list[1]]; \n",
    "# Nsubj=len(subj_list_one)\n",
    "Nsubj=len([subj_list[6]])\n",
    "all_performance = np.zeros(Nsubj)\n",
    "for i_sub, subj in enumerate([subj_list[6]]):\n",
    "    print(subj)\n",
    "    start = timer()\n",
    "\n",
    "    ZstatInfoSubj=ZstatInfo.loc[ZstatInfo['Subj']==subj]\n",
    "    Zstattmp=ZstatInfoSubj.loc[ZstatInfoSubj['Run']==1]\n",
    "    Zstattmp.reset_index(inplace = True, drop = True)\n",
    "    MyFiletmp=Zstattmp['Folder'][0]+Zstattmp['Neg'][0][0]\n",
    "    \n",
    "    myimg_affine=nib.load(MyFiletmp).affine\n",
    "\n",
    "    Alldata=LoadAllNii(ZstatInfoSubj,CLconditions) # load Alldata\n",
    "         \n",
    "    DataArgDict= {'AllPoints': AllPoints,\n",
    "              'ZstatInfoSubj':ZstatInfoSubj ,\n",
    "              'CLconditions': CLconditions, \n",
    "              'Alldata': Alldata,\n",
    "              'pipeSpotLight':pipeSpotLight} \n",
    "    SpotLight_performance=np.zeros(AllPoints.shape[0])\n",
    "    \n",
    "#     aa1= range(AllPoints.shape[0])\n",
    "#     aa2=[DataArgDict]*len(aa1)\n",
    "#     aa=[*zip(aa1, aa2)]\n",
    "\n",
    "    resultsN = np.zeros(AllPoints.shape[0])\n",
    "    for iFeature in range(AllPoints.shape[0]): #iFeature=40836, range(56500,56610):\n",
    "        if (iFeature==74712 and radius==2 and subj=='ET_12102013'): # for ET, radius=2, the code stucks at this voxel\n",
    "            resultsN[iFeature]=resultsN[iFeature-1]\n",
    "        else:\n",
    "            resultsN[iFeature]= LoopiFeatureDict(iFeature, DataArgDict)\n",
    "    \n",
    "    resultsN=np.array(resultsN).reshape(voxel_dims)\n",
    "\n",
    "    nft_img = nib.Nifti1Image(resultsN, myimg_affine)\n",
    "    OutFile='C://Users/user/Documents/Reyhaneh/EEG+fMRI/EO/MRI_data/Analysis/MVPA/SpotlightR'+str(radius)+'/MVPA_'+subj+'.nii.gz'\n",
    "    nib.save(nft_img, OutFile)\n",
    "\n",
    "    end = timer()\n",
    "    print(end-start)\n",
    "# print(resultsN[56500:56510])"
   ]
  },
  {
   "cell_type": "code",
   "execution_count": 2,
   "id": "844c83f1",
   "metadata": {},
   "outputs": [
    {
     "ename": "NameError",
     "evalue": "name 'OutFile' is not defined",
     "output_type": "error",
     "traceback": [
      "\u001b[1;31m---------------------------------------------------------------------------\u001b[0m",
      "\u001b[1;31mNameError\u001b[0m                                 Traceback (most recent call last)",
      "Cell \u001b[1;32mIn[2], line 1\u001b[0m\n\u001b[1;32m----> 1\u001b[0m \u001b[43mOutFile\u001b[49m\n",
      "\u001b[1;31mNameError\u001b[0m: name 'OutFile' is not defined"
     ]
    }
   ],
   "source": [
    "OutFile"
   ]
  },
  {
   "cell_type": "code",
   "execution_count": 41,
   "id": "d79bf782",
   "metadata": {},
   "outputs": [
    {
     "name": "stdout",
     "output_type": "stream",
     "text": [
      "C://Users/user/Documents/Reyhaneh/EEG+fMRI/EO/MRI_data/Analysis/SPM/AM_05082014/3cond_dist2/run01/spmT_0009.nii\n"
     ]
    }
   ],
   "source": [
    "Zstattmp=ZstatInfoSubj.loc[ZstatInfoSubj['Run']==1]\n",
    "Zstattmp.reset_index(inplace = True, drop = True)\n",
    "MyFile=Zstattmp['Folder'][0]+Zstattmp['Neg'][0][0]\n",
    "data = nib.load(MyFile).get_data()\n",
    "voxel_dims = data.shape\n",
    "print(voxel_dims)"
   ]
  },
  {
   "cell_type": "code",
   "execution_count": 40,
   "id": "bc0ec079",
   "metadata": {},
   "outputs": [
    {
     "data": {
      "text/html": [
       "<div>\n",
       "<style scoped>\n",
       "    .dataframe tbody tr th:only-of-type {\n",
       "        vertical-align: middle;\n",
       "    }\n",
       "\n",
       "    .dataframe tbody tr th {\n",
       "        vertical-align: top;\n",
       "    }\n",
       "\n",
       "    .dataframe thead th {\n",
       "        text-align: right;\n",
       "    }\n",
       "</style>\n",
       "<table border=\"1\" class=\"dataframe\">\n",
       "  <thead>\n",
       "    <tr style=\"text-align: right;\">\n",
       "      <th></th>\n",
       "      <th>Subj</th>\n",
       "      <th>Run</th>\n",
       "      <th>Folder</th>\n",
       "      <th>Neu</th>\n",
       "      <th>Neg</th>\n",
       "      <th>Pos</th>\n",
       "      <th>Targ</th>\n",
       "    </tr>\n",
       "  </thead>\n",
       "  <tbody>\n",
       "    <tr>\n",
       "      <th>0</th>\n",
       "      <td>AM_05082014</td>\n",
       "      <td>1</td>\n",
       "      <td>C://Users/user/Documents/Reyhaneh/EEG+fMRI/EO/...</td>\n",
       "      <td>[spmT_0001.nii, spmT_0002.nii, spmT_0003.nii, ...</td>\n",
       "      <td>[spmT_0009.nii, spmT_0010.nii, spmT_0011.nii, ...</td>\n",
       "      <td>[spmT_0017.nii]</td>\n",
       "      <td>[spmT_0018.nii, spmT_0019.nii, spmT_0020.nii, ...</td>\n",
       "    </tr>\n",
       "  </tbody>\n",
       "</table>\n",
       "</div>"
      ],
      "text/plain": [
       "          Subj Run                                             Folder  \\\n",
       "0  AM_05082014   1  C://Users/user/Documents/Reyhaneh/EEG+fMRI/EO/...   \n",
       "\n",
       "                                                 Neu  \\\n",
       "0  [spmT_0001.nii, spmT_0002.nii, spmT_0003.nii, ...   \n",
       "\n",
       "                                                 Neg              Pos  \\\n",
       "0  [spmT_0009.nii, spmT_0010.nii, spmT_0011.nii, ...  [spmT_0017.nii]   \n",
       "\n",
       "                                                Targ  \n",
       "0  [spmT_0018.nii, spmT_0019.nii, spmT_0020.nii, ...  "
      ]
     },
     "execution_count": 40,
     "metadata": {},
     "output_type": "execute_result"
    }
   ],
   "source": [
    "Zstattmp=ZstatInfoSubj.loc[ZstatInfoSubj['Run']==1]\n",
    "Zstattmp.reset_index(inplace = True, drop = True)\n",
    "Zstattmp"
   ]
  },
  {
   "cell_type": "code",
   "execution_count": null,
   "id": "92f74cf9",
   "metadata": {},
   "outputs": [],
   "source": [
    "\n",
    "MyFile=MyZstat['Folder'][0]+MyZstat['Neu'][0][0]\n",
    "#print(MyFile)\n",
    "data = nib.load(MyFile).get_data()\n",
    "voxel_dims = data.shape\n",
    "print(voxel_dims)"
   ]
  },
  {
   "cell_type": "code",
   "execution_count": null,
   "id": "8c34a51c",
   "metadata": {},
   "outputs": [],
   "source": [
    "statOut=np.array(resultsN).reshape(voxel_dims)\n",
    "statOut.shape\n",
    "nib.save(statOut)"
   ]
  },
  {
   "cell_type": "code",
   "execution_count": null,
   "id": "d9c05ac6",
   "metadata": {},
   "outputs": [],
   "source": [
    "cnt=0\n",
    "tmpVal=[]\n",
    "for tmp in itertools.product(range(0,1), range(0,2), range(0,3)):\n",
    "    print(f'{tmp}: {cnt}')\n",
    "    tmpVal.append(cnt)\n",
    "    cnt+=1\n",
    "print(tmpVal)\n",
    "tmpVal=np.array(tmpVal)\n",
    "tt=tmpVal.reshape(1,2,3)\n",
    "tt.shape"
   ]
  },
  {
   "cell_type": "code",
   "execution_count": null,
   "id": "2b37e3d5",
   "metadata": {},
   "outputs": [],
   "source": [
    "tt[0,1,2]"
   ]
  },
  {
   "cell_type": "code",
   "execution_count": null,
   "id": "5d56fb7a",
   "metadata": {},
   "outputs": [],
   "source": [
    "aa1= range(AllPoints.shape[0])\n",
    "aa2=[DataArgDict]*len(aa1)\n",
    "aa=[*zip(aa1, aa2)]\n",
    "\n",
    "#def multi_run_wrapperLoopiFeatureDict(args): # If I call it here, Jupyter notebook will freeze\n",
    "#    return LoopiFeatureDict(*args) \n",
    "start = timer()\n",
    "\n",
    "if __name__ == \"__main__\":\n",
    "    \n",
    "    pool = Pool(multiprocessing.cpu_count())\n",
    "    results = pool.map(multi_run_wrapperLoopiFeatureDict,aa)\n",
    "    #print(results)\n",
    "end = timer()\n",
    "print(end-start)    \n",
    "print(results[56500:56510])"
   ]
  },
  {
   "cell_type": "markdown",
   "id": "6ec6807e",
   "metadata": {},
   "source": [
    "If it is needed to modify a funciton and relaod it:"
   ]
  },
  {
   "cell_type": "code",
   "execution_count": null,
   "id": "422f8d62",
   "metadata": {},
   "outputs": [],
   "source": [
    "#del multi_run_wrapperLoopiFeatureDict\n",
    "#from MVPA_func import multi_run_wrapperLoopiFeatureDict\n",
    "multi_run_wrapperLoopiFeatureDict = reload(sys.modules[\"MVPA_func\"]).multi_run_wrapperLoopiFeatureDict  # reload() returns the new module\n",
    "LoopiFeatureDict = reload(sys.modules[\"MVPA_func\"]).LoopiFeatureDict  # reload() returns the new module\n"
   ]
  },
  {
   "cell_type": "code",
   "execution_count": null,
   "id": "06c2701a",
   "metadata": {},
   "outputs": [],
   "source": [
    "SpotLight_performance[56500:56510]"
   ]
  }
 ],
 "metadata": {
  "kernelspec": {
   "display_name": "Python 3 (ipykernel)",
   "language": "python",
   "name": "python3"
  },
  "language_info": {
   "codemirror_mode": {
    "name": "ipython",
    "version": 3
   },
   "file_extension": ".py",
   "mimetype": "text/x-python",
   "name": "python",
   "nbconvert_exporter": "python",
   "pygments_lexer": "ipython3",
   "version": "3.11.1"
  }
 },
 "nbformat": 4,
 "nbformat_minor": 5
}
