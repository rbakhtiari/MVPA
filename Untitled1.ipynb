{
 "cells": [
  {
   "cell_type": "code",
   "execution_count": null,
   "id": "ae8d428c",
   "metadata": {},
   "outputs": [],
   "source": [
    "statOut=np.array(resultsN).reshape(voxel_dims)\n",
    "statOut.shape\n",
    "nib.save(statOut)"
   ]
  },
  {
   "cell_type": "code",
   "execution_count": null,
   "id": "10a6eb29",
   "metadata": {},
   "outputs": [],
   "source": [
    "cnt=0\n",
    "tmpVal=[]\n",
    "for tmp in itertools.product(range(0,1), range(0,2), range(0,3)):\n",
    "    print(f'{tmp}: {cnt}')\n",
    "    tmpVal.append(cnt)\n",
    "    cnt+=1\n",
    "print(tmpVal)\n",
    "tmpVal=np.array(tmpVal)\n",
    "tt=tmpVal.reshape(1,2,3)\n",
    "tt.shape"
   ]
  }
 ],
 "metadata": {
  "kernelspec": {
   "display_name": "Python 3 (ipykernel)",
   "language": "python",
   "name": "python3"
  },
  "language_info": {
   "codemirror_mode": {
    "name": "ipython",
    "version": 3
   },
   "file_extension": ".py",
   "mimetype": "text/x-python",
   "name": "python",
   "nbconvert_exporter": "python",
   "pygments_lexer": "ipython3",
   "version": "3.11.1"
  }
 },
 "nbformat": 4,
 "nbformat_minor": 5
}
