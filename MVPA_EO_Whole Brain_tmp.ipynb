{
 "cells": [
  {
   "cell_type": "code",
   "execution_count": null,
   "id": "7d4b95e6",
   "metadata": {},
   "outputs": [],
   "source": [
    "from sklearn.metrics import confusion_matrix\n",
    "print(accuracy_score(Y_test, preds))\n",
    "confusion_matrix(Y_test, preds)"
   ]
  },
  {
   "cell_type": "code",
   "execution_count": null,
   "id": "90d554df",
   "metadata": {},
   "outputs": [],
   "source": [
    "Mypreds=[2, 2, 1, 1, 1, 2, 2, 2, 1, 2, 2, 2, 2, 1, 2, 1, 1, 1, 1, 3, 3, 3, 3, 3, 3, 2, 1, 3]# 4th fold\n",
    "Mypreds=preds#5th fold\n",
    "print(Mypreds)\n",
    "print(Y_test)\n",
    "print(\"Accuracy test: %.2f\" % (Mypreds == Y_test).mean())\n",
    "Y12, P12 =Y_test[0:16], Mypreds[0:16]\n",
    "Y13, P13=np.concatenate((Y_test[0:8],Y_test[16:])), np.concatenate((Mypreds[0:8],Mypreds[16:]))\n",
    "Y23, P23=Y_test[8:], Mypreds[8:]\n",
    "ROC12=roc_auc_score(Y12,P12)\n",
    "ROC13=roc_auc_score(Y13,P13)\n",
    "ROC23=roc_auc_score(Y23,P23)\n",
    "\n",
    "print('Pairwise AUC: ',ROC12,ROC13,ROC23)\n",
    "print('pairwise AUC averaged mean:',ROC12*16/56+ROC13*20/56+ROC23*20/56)\n",
    "performance_this_participant"
   ]
  },
  {
   "cell_type": "code",
   "execution_count": null,
   "id": "dfb7873a",
   "metadata": {},
   "outputs": [],
   "source": [
    "select100best = SelectKBest(f_classif, k=100)\n",
    "\n",
    "##\n",
    "#clf=MultiOutputClassifier(SVC(kernel='linear'))\n",
    "clf = SVC(kernel='linear',probability=True)\n",
    "pipe = Pipeline([('scaler', StandardScaler()), ('ufs', select100best), ('clf', clf)])\n",
    "pipe.fit(X_train, Y_train)\n",
    "pipe.decision_function(X_test)\n",
    "pipe.predict_proba(X_test)\n",
    "# roc_auc_score(Y_test, pipe.predict_proba(X_test),  multi_class='ovr')\n",
    "roc_auc_score(Y_test, pipe.predict_proba(X_test),  multi_class='ovo')\n",
    "\n",
    "#clf.predict_proba(X)"
   ]
  },
  {
   "cell_type": "code",
   "execution_count": null,
   "id": "bc930658",
   "metadata": {},
   "outputs": [],
   "source": [
    "from sklearn.datasets import load_breast_cancer\n",
    "from sklearn.linear_model import LogisticRegression\n",
    "from sklearn.metrics import roc_auc_score\n",
    "from sklearn.datasets import load_iris\n",
    "X, y = load_iris(return_X_y=True)\n",
    "clf = LogisticRegression(solver=\"liblinear\").fit(X, y)\n",
    "yt=clf.predict_proba(X)\n",
    "roc_auc_score(y, yt, multi_class='ovr')\n",
    "np.sum(clf.predict_proba(X), axis=1)"
   ]
  },
  {
   "cell_type": "code",
   "execution_count": null,
   "id": "5631e2a5",
   "metadata": {},
   "outputs": [],
   "source": [
    "# Try out different estimators below (call fit and predict on X and y!)\n",
    "lda = LinearDiscriminantAnalysis()\n",
    "lda.fit(X, Y)\n",
    "y_hat=lda.predict(X)\n",
    "print('accuracty: '+ str(accuracy_score(Y, y_hat)))"
   ]
  }
 ],
 "metadata": {
  "kernelspec": {
   "display_name": "Python 3 (ipykernel)",
   "language": "python",
   "name": "python3"
  },
  "language_info": {
   "codemirror_mode": {
    "name": "ipython",
    "version": 3
   },
   "file_extension": ".py",
   "mimetype": "text/x-python",
   "name": "python",
   "nbconvert_exporter": "python",
   "pygments_lexer": "ipython3",
   "version": "3.11.1"
  }
 },
 "nbformat": 4,
 "nbformat_minor": 5
}
