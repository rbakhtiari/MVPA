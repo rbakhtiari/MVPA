{
 "cells": [
  {
   "cell_type": "markdown",
   "id": "15a0d7b8",
   "metadata": {},
   "source": [
    "# Overview\n",
    "In this file, the MNI space mask image is shrunk, so that the spheres with all voxels within the brain (original mask) are used for classification. In the naive space calculation, similar strategy has been implemented but to assure the spheres are complete (not touching the surface of brain imaging (ie 0, or 64). \n",
    "\n",
    "    "
   ]
  },
  {
   "cell_type": "code",
   "execution_count": 1,
   "id": "595ae782",
   "metadata": {},
   "outputs": [],
   "source": [
    "import numpy as np\n",
    "import pandas as pd\n",
    "import os.path as op\n",
    "import matplotlib.pyplot as plt\n",
    "import nibabel as nib\n",
    "from scipy.ndimage import binary_erosion\n",
    "import itertools\n",
    "import multiprocessing\n",
    "from multiprocessing import Pool\n",
    "from importlib import reload #import function \"reload\"\n",
    "import sys\n",
    "\n",
    "import warnings\n",
    "warnings.filterwarnings(\"ignore\")\n",
    "import os\n",
    "import glob\n",
    "from glob import glob\n",
    "from scipy.io import loadmat\n",
    "import math\n",
    "import timeit\n",
    "from timeit import default_timer as timer\n",
    "\n",
    "plt.style.use('classic')\n",
    "%matplotlib inline"
   ]
  },
  {
   "cell_type": "code",
   "execution_count": 2,
   "id": "a4c3d1a3",
   "metadata": {},
   "outputs": [],
   "source": [
    "from sklearn.preprocessing import StandardScaler\n",
    "from sklearn.svm import SVC\n",
    "#from sklearn.svm import LinearSVC\n",
    "\n",
    "from sklearn.discriminant_analysis import LinearDiscriminantAnalysis\n",
    "from sklearn.metrics import accuracy_score\n",
    "from sklearn.model_selection import train_test_split\n",
    "from sklearn.metrics import roc_auc_score\n",
    "from sklearn.model_selection import GroupKFold\n",
    "from sklearn.decomposition import PCA\n",
    "from sklearn.feature_selection import SelectKBest, f_classif\n",
    "from sklearn.pipeline import Pipeline\n",
    "from sklearn.multioutput import MultiOutputClassifier\n"
   ]
  },
  {
   "cell_type": "code",
   "execution_count": null,
   "id": "4d739c54",
   "metadata": {},
   "outputs": [],
   "source": [
    "from MVPA_func import "
   ]
  },
  {
   "cell_type": "markdown",
   "id": "0bc34d3d",
   "metadata": {},
   "source": [
    "### Load MNI space mask"
   ]
  },
  {
   "cell_type": "code",
   "execution_count": 4,
   "id": "3dfba78a",
   "metadata": {},
   "outputs": [
    {
     "name": "stdout",
     "output_type": "stream",
     "text": [
      "(121, 145, 121)\n"
     ]
    }
   ],
   "source": [
    "MASK_Original_fileName='C://Users/user/Documents/MATLAB/spm12/tpm/mask_ICV.nii'\n",
    "MASK_Original_img=nib.load(MASK_Original_fileName)\n",
    "MASK_Original_data=MASK_Original_img.get_data()\n",
    "voxel_dims = MASK_Original_data.shape\n",
    "print(voxel_dims)"
   ]
  },
  {
   "cell_type": "code",
   "execution_count": 20,
   "id": "78c505de",
   "metadata": {},
   "outputs": [],
   "source": [
    "radius=0\n",
    "MVPAFile='C://Users/user/Documents/Reyhaneh/EEG+fMRI/EO/MRI_data/Analysis/MVPA/SpotlightR'+str(radius)+'/MVPA_AB_04152014.nii.gz'\n",
    "subj_img=nib.load(MVPAFile)\n",
    "VoxelSizeNaive=subj_img.header.get_zooms()[0]"
   ]
  },
  {
   "cell_type": "code",
   "execution_count": 39,
   "id": "80fcd0af",
   "metadata": {},
   "outputs": [
    {
     "name": "stdout",
     "output_type": "stream",
     "text": [
      "shrink Size is for Naive space radius of 1 is 3\n",
      "shrink Size is for Naive space radius of 2 is 6\n",
      "shrink Size is for Naive space radius of 3 is 8\n",
      "shrink Size is for Naive space radius of 4 is 11\n"
     ]
    }
   ],
   "source": [
    "for radius in range(1,5):\n",
    "    # Load the mask brain image\n",
    "    mask_img = nib.load(MASK_Original_fileName)\n",
    "    mask_data = mask_img.get_fdata()\n",
    "\n",
    "    # Define the distance (in voxels) from the surface to keep\n",
    "    VoxelSizeMNI=MASK_Original_img.header.get_zooms()[0]\n",
    "    shrinkSize=math.ceil(radius*VoxelSizeNaive/VoxelSizeMNI)\n",
    "    print(f'shrink Size is for Naive space radius of {radius} is {shrinkSize}')\n",
    "    # Apply binary erosion to shrink the mask\n",
    "    shrunken_mask = binary_erosion(mask_data, iterations=shrinkSize)\n",
    "\n",
    "\n",
    "    # Save the modified mask image if needed\n",
    "    modified_mask_img = nib.Nifti1Image(shrunken_mask.astype(np.uint8), mask_img.affine)\n",
    "    nib.save(modified_mask_img, 'C://Users/user/Documents/Reyhaneh/EEG+fMRI/EO/MRI_data/Analysis/MVPA/mask_ICV_R'+str(radius)+'.nii.gz')"
   ]
  },
  {
   "cell_type": "code",
   "execution_count": 36,
   "id": "3f1ca914",
   "metadata": {},
   "outputs": [
    {
     "data": {
      "text/plain": [
       "4"
      ]
     },
     "execution_count": 36,
     "metadata": {},
     "output_type": "execute_result"
    }
   ],
   "source": [
    "\n"
   ]
  },
  {
   "cell_type": "code",
   "execution_count": 22,
   "id": "870f77ef",
   "metadata": {},
   "outputs": [
    {
     "data": {
      "text/plain": [
       "1.5"
      ]
     },
     "execution_count": 22,
     "metadata": {},
     "output_type": "execute_result"
    }
   ],
   "source": [
    "VoxelSizeMNI"
   ]
  },
  {
   "cell_type": "code",
   "execution_count": 5,
   "id": "84b18c76",
   "metadata": {},
   "outputs": [
    {
     "name": "stdout",
     "output_type": "stream",
     "text": [
      "<class 'nibabel.nifti1.Nifti1Header'> object, endian='<'\n",
      "sizeof_hdr      : 348\n",
      "data_type       : b''\n",
      "db_name         : b''\n",
      "extents         : 0\n",
      "session_error   : 0\n",
      "regular         : b'r'\n",
      "dim_info        : 0\n",
      "dim             : [  3 121 145 121   1   1   1   1]\n",
      "intent_p1       : 0.0\n",
      "intent_p2       : 0.0\n",
      "intent_p3       : 0.0\n",
      "intent_code     : none\n",
      "datatype        : uint8\n",
      "bitpix          : 8\n",
      "slice_start     : 0\n",
      "pixdim          : [-1.   1.5  1.5  1.5  0.   0.   0.   0. ]\n",
      "vox_offset      : 0.0\n",
      "scl_slope       : nan\n",
      "scl_inter       : nan\n",
      "slice_end       : 0\n",
      "slice_code      : unknown\n",
      "xyzt_units      : 10\n",
      "cal_max         : 0.0\n",
      "cal_min         : 0.0\n",
      "slice_duration  : 0.0\n",
      "toffset         : 0.0\n",
      "glmax           : 0\n",
      "glmin           : 0\n",
      "descrip         : b'Intracranial region'\n",
      "aux_file        : b''\n",
      "qform_code      : mni\n",
      "sform_code      : mni\n",
      "quatern_b       : 0.0\n",
      "quatern_c       : 1.0\n",
      "quatern_d       : 0.0\n",
      "qoffset_x       : 90.0\n",
      "qoffset_y       : -126.0\n",
      "qoffset_z       : -72.0\n",
      "srow_x          : [-1.5  0.   0.  90. ]\n",
      "srow_y          : [   0.     1.5    0.  -126. ]\n",
      "srow_z          : [  0.    0.    1.5 -72. ]\n",
      "intent_name     : b''\n",
      "magic           : b'n+1'\n"
     ]
    }
   ],
   "source": [
    "print(MASK_Original_img.header)"
   ]
  },
  {
   "cell_type": "code",
   "execution_count": 6,
   "id": "693216ab",
   "metadata": {},
   "outputs": [
    {
     "data": {
      "text/plain": [
       "<nibabel.nifti1.Nifti1Header at 0x29de0d70410>"
      ]
     },
     "execution_count": 6,
     "metadata": {},
     "output_type": "execute_result"
    }
   ],
   "source": [
    "MASK_Original_img.header"
   ]
  },
  {
   "cell_type": "markdown",
   "id": "cfbeb2dc",
   "metadata": {},
   "source": [
    "### Load SPM.mat to extract experiment info\n",
    "This cell loads spm.mat file for each participant and from the data, extracts the number of runs, the path for each stat file, etc"
   ]
  },
  {
   "cell_type": "code",
   "execution_count": 5,
   "id": "5da5fcb4",
   "metadata": {},
   "outputs": [],
   "source": [
    "# NEW note: I need to change neg to sad & Fear, 3 December 2023\n",
    "# note: I don't know why the last item is repeated! but it doesn't make a misatke\n",
    "\n",
    "conditions=['Neu','Neg','Pos','Targ']\n",
    "ZstatInfo=pd.DataFrame(columns=['Subj','Run','Folder']+conditions)\n",
    "for subj in subj_list:\n",
    "    #print('Participant: '+subj)\n",
    "    # Zstat files and their condisitons are in SPM filesWe repeat loading in the dataframe to avoid dividing the onsets by 2 multiple times ...\n",
    "    SubjSPMFolder='C://Users/user/Documents/Reyhaneh/EEG+fMRI/EO/MRI_data/Analysis/SPM/'+subj+'/3cond_dist2/'\n",
    "    os.path.isdir(SubjSPMFolder)\n",
    "    myZstat=[]\n",
    "    \n",
    "    nRuns = len(os.listdir(SubjSPMFolder))\n",
    "    iRuns = 0\n",
    "    for myRun in os.listdir(SubjSPMFolder):\n",
    "        ZstatInfotmp=pd.DataFrame(columns=ZstatInfo.columns,index=[0])\n",
    "        ZstatInfotmp['Subj'][0]=subj\n",
    "        \n",
    "        RunSubjSPM=SubjSPMFolder+myRun+'/SPM.mat'\n",
    "        ZstatInfotmp['Folder'][0]=SubjSPMFolder+myRun+'/'\n",
    "\n",
    "        #print('   loading SPM.mat for '+myRun+'...')\n",
    "        mat = loadmat(RunSubjSPM)\n",
    "        mdata=mat['SPM'][0,0]\n",
    "        ndata=mdata['Sess'][0,0]\n",
    "        odata=ndata['U']\n",
    "        pdata=odata['name'][0]\n",
    "        ZstatNames=[pdata[i][0,0][0] for i in range(len(pdata))]\n",
    "        myZstat.append(ZstatNames)\n",
    "\n",
    "        ZstatInfotmp['Run'][0]=iRuns+1\n",
    "        old_ind=len(myZstat[0])+1\n",
    "        for iCond in reversed(conditions):    \n",
    "            Start_ind=myZstat[0].index(iCond+'_1')+1\n",
    "            #print(Start_ind)\n",
    "            ZstatInfotmp[iCond][0]=['spmT_'+str(val).zfill(4)+'.nii' for val in list(range(Start_ind, old_ind))]#list(range(Start_ind, old_ind))\n",
    "            old_ind=Start_ind\n",
    "        ZstatInfo=ZstatInfo.append(ZstatInfotmp,ignore_index=True)\n",
    "        iRuns = iRuns+1\n",
    " "
   ]
  },
  {
   "cell_type": "markdown",
   "id": "287fc8ea",
   "metadata": {},
   "source": [
    "### find Voxel dimension by openning one of the image files\n"
   ]
  },
  {
   "cell_type": "code",
   "execution_count": 6,
   "id": "42cc2107",
   "metadata": {},
   "outputs": [
    {
     "name": "stdout",
     "output_type": "stream",
     "text": [
      "(64, 64, 28)\n"
     ]
    }
   ],
   "source": [
    "MyZstat=ZstatInfo.loc[(ZstatInfo['Subj']==subj) & (ZstatInfo['Run']==1)]\n",
    "MyZstat.reset_index(inplace = True, drop = True)\n",
    "MyFile=MyZstat['Folder'][0]+MyZstat['Neu'][0][0]\n",
    "#print(MyFile)\n",
    "data = nib.load(MyFile).get_data()\n",
    "voxel_dims = data.shape\n",
    "print(voxel_dims)\n"
   ]
  },
  {
   "cell_type": "code",
   "execution_count": 19,
   "id": "05855a81",
   "metadata": {},
   "outputs": [
    {
     "data": {
      "text/plain": [
       "array([[[-1,  0,  0,  0,  0,  0,  0,  0,  0,  0,  1,  1,  1,  1,  1,  1,\n",
       "          1,  1,  1,  1,  1,  1,  1,  2,  2,  2,  2,  2,  2,  2,  2,  2,\n",
       "          3]],\n",
       "\n",
       "       [[ 1,  0,  0,  0,  1,  1,  1,  2,  2,  2, -1,  0,  0,  0,  1,  1,\n",
       "          1,  1,  1,  2,  2,  2,  3,  0,  0,  0,  1,  1,  1,  2,  2,  2,\n",
       "          1]],\n",
       "\n",
       "       [[ 0, -1,  0,  1, -1,  0,  1, -1,  0,  1,  0, -1,  0,  1, -2, -1,\n",
       "          0,  1,  2, -1,  0,  1,  0, -1,  0,  1, -1,  0,  1, -1,  0,  1,\n",
       "          0]]])"
      ]
     },
     "execution_count": 19,
     "metadata": {},
     "output_type": "execute_result"
    }
   ],
   "source": [
    "# SpherePoints(np.array([1,1,0]) , radius, voxel_dims)\n",
    "IncompleteSpherePoints(np.array([1,1,0]) , radius, voxel_dims)\n",
    "    "
   ]
  },
  {
   "cell_type": "code",
   "execution_count": 11,
   "id": "61d478ba",
   "metadata": {
    "scrolled": true
   },
   "outputs": [
    {
     "name": "stdout",
     "output_type": "stream",
     "text": [
      "size of shperes: (3, 1, 33)\n",
      "1520.4460888999747\n"
     ]
    }
   ],
   "source": [
    "# Calculate the spotlights voxels for all points and keep them in AllPoints \n",
    "start = timer()\n",
    "\n",
    "radius = 2 #spheres  radius \n",
    "tmpPoints = SpherePoints(np.array([26,26,16]) , radius, voxel_dims) #generate a random sphere to find its dimension\n",
    "print('size of shperes:',tmpPoints.shape)\n",
    "AllZeroSphere = np.zeros((1,tmpPoints.shape[2]))\n",
    "AllZeroSpherePoints=np.zeros(tmpPoints.shape)\n",
    "cnt=0\n",
    "for MyCenter in itertools.product(range(0,voxel_dims[0]), range(0,voxel_dims[1]), range(0,voxel_dims[2])):\n",
    "    #print(MyCenter)\n",
    "    myPoints = IncompleteSpherePoints(np.array(MyCenter) , radius, voxel_dims)\n",
    "    if myPoints.shape==(3,1,0): myPoints=AllZeroSpherePoints\n",
    "    if cnt==0:\n",
    "        AllPoints = np.array(myPoints,ndmin=4)\n",
    "        cnt=1\n",
    "    else:\n",
    "        AllPoints = np.concatenate((AllPoints,np.array(myPoints,ndmin=4)),axis=0)\n",
    "#     if myPoints.shape!=(3,1,0): sphereVal = data[myPoints[0],myPoints[1],myPoints[2]]\n",
    "#     else: sphereVal = AllZeroSphere\n",
    "        \n",
    "#    if myPoints.shape!=(0,): sphereVal = SphereValue(myPoints,data)\n",
    "#     if sphereVal.shape!=(0,): sphereValOut=\n",
    "\n",
    "\n",
    "end = timer()\n",
    "print(end-start)\n",
    "np.save('Radius'+str(radius)+'_points.npy',AllPoints)\n",
    "# aa=np.load('Radius'+str(radius)+'_points.npy',AllPoints)"
   ]
  },
  {
   "cell_type": "markdown",
   "id": "05396711",
   "metadata": {},
   "source": [
    "# This code does classification based on spot light search, serial processing, slow. Don't run it\n",
    "start = timer()\n",
    "CLconditions=['Neu','Neg','Targ']\n",
    "radius = 1 #spheres radius\n",
    "\n",
    "\n",
    "##LinearSVC(random_state=0))\n",
    "clf = SVC(kernel='linear',probability=True)\n",
    "pipeSpotLight = Pipeline([('scaler', StandardScaler()), ('clf', clf)])\n",
    "\n",
    "subj_list_one=[subj_list[1]]; \n",
    "Nsubj=len(subj_list_one)\n",
    "all_performance = np.zeros(Nsubj)\n",
    "for i_sub, subj in enumerate(subj_list_one):\n",
    "    \n",
    "    ZstatInfoSubj=ZstatInfo.loc[ZstatInfo['Subj']==subj]\n",
    "    \n",
    "    Alldata=LoadAllNii(ZstatInfoSubj,CLconditions) # load Alldata\n",
    "         \n",
    "    DataArgDict= {'AllPoints': AllPoints,\n",
    "              'ZstatInfoSubj':ZstatInfoSubj ,\n",
    "              'CLconditions': CLconditions, \n",
    "              'Alldata': Alldata,\n",
    "              'pipeSpotLight':pipeSpotLight} \n",
    "    SpotLight_performance=np.zeros(AllPoints.shape[0])\n",
    "    for iFeature in range(AllPoints.shape[0]): #iFeature=40836, range(56500,56610):\n",
    "\n",
    "        SpotLight_performance[iFeature]= LoopiFeature(iFeature, AllPoints,ZstatInfoSubj ,CLconditions, Alldata, pipeSpotLight)\n",
    "        \n",
    "end = timer()\n",
    "print(end-start)\n",
    "#SpotLight_performance[56500:56610]"
   ]
  },
  {
   "cell_type": "code",
   "execution_count": 16,
   "id": "c1132e00",
   "metadata": {},
   "outputs": [
    {
     "data": {
      "text/plain": [
       "array([[[0., 0., 0., 0., 0., 0., 0., 0., 0., 0., 0., 0., 0., 0., 0., 0.,\n",
       "         0., 0., 0., 0., 0., 0., 0., 0., 0., 0., 0., 0., 0., 0., 0., 0.,\n",
       "         0.]],\n",
       "\n",
       "       [[0., 0., 0., 0., 0., 0., 0., 0., 0., 0., 0., 0., 0., 0., 0., 0.,\n",
       "         0., 0., 0., 0., 0., 0., 0., 0., 0., 0., 0., 0., 0., 0., 0., 0.,\n",
       "         0.]],\n",
       "\n",
       "       [[0., 0., 0., 0., 0., 0., 0., 0., 0., 0., 0., 0., 0., 0., 0., 0.,\n",
       "         0., 0., 0., 0., 0., 0., 0., 0., 0., 0., 0., 0., 0., 0., 0., 0.,\n",
       "         0.]]])"
      ]
     },
     "execution_count": 16,
     "metadata": {},
     "output_type": "execute_result"
    }
   ],
   "source": [
    "\n"
   ]
  },
  {
   "cell_type": "code",
   "execution_count": null,
   "id": "9bb7081b",
   "metadata": {},
   "outputs": [],
   "source": [
    "# This code does classification based on spot light search, parallel processing, fast, \n",
    "# for complete & incomplete spheres, and limited to Brain Extracted Image\n",
    "\n",
    "CLconditions=['Neu','Neg','Targ']\n",
    "\n",
    "\n",
    "##LinearSVC(random_state=0))\n",
    "clf = SVC(kernel='linear',probability=True)\n",
    "pipeSpotLight = Pipeline([('scaler', StandardScaler()), ('clf', clf)])\n",
    "\n",
    "# subj_list_one=[subj_list[1]]; \n",
    "# Nsubj=len(subj_list_one)\n",
    "Nsubj=len(subj_list)\n",
    "all_performance = np.zeros(Nsubj)\n",
    "for i_sub, subj in enumerate(subj_list):\n",
    "    print(subj)\n",
    "    start = timer()\n",
    "\n",
    "    ZstatInfoSubj=ZstatInfo.loc[ZstatInfo['Subj']==subj]\n",
    "    Zstattmp=ZstatInfoSubj.loc[ZstatInfoSubj['Run']==1]\n",
    "    Zstattmp.reset_index(inplace = True, drop = True)\n",
    "    MyFiletmp=Zstattmp['Folder'][0]+Zstattmp['Neg'][0][0]\n",
    "    \n",
    "    myimg_affine=nib.load(MyFiletmp).affine\n",
    "\n",
    "    Alldata=LoadAllNii(ZstatInfoSubj,CLconditions) # load Alldata\n",
    "         \n",
    "    DataArgDict= {'AllPoints': AllPoints,\n",
    "              'ZstatInfoSubj':ZstatInfoSubj ,\n",
    "              'CLconditions': CLconditions, \n",
    "              'Alldata': Alldata,\n",
    "              'pipeSpotLight':pipeSpotLight} \n",
    "    SpotLight_performance=np.zeros(AllPoints.shape[0])\n",
    "    \n",
    "    aa1= range(AllPoints.shape[0])\n",
    "    aa2=[DataArgDict]*len(aa1)\n",
    "    aa=[*zip(aa1, aa2)]\n",
    "\n",
    "    if __name__ == \"__main__\":\n",
    "\n",
    "        pool = Pool(multiprocessing.cpu_count()-2)\n",
    "        resultsN = pool.map(multi_run_wrapperLoopiFeatureDict,aa)\n",
    "\n",
    "        resultsN=np.array(resultsN).reshape(voxel_dims)\n",
    "\n",
    "        nft_img = nib.Nifti1Image(resultsN, myimg_affine)\n",
    "        OutFile='C://Users/user/Documents/Reyhaneh/EEG+fMRI/EO/MRI_data/Analysis/MVPA/SpotlightR'+str(radius)+'/MVPA_'+subj+'.nii.gz'\n",
    "        nib.save(nft_img, OutFile)\n",
    "\n",
    "    end = timer()\n",
    "    print(end-start)\n",
    "# print(resultsN[56500:56510])"
   ]
  },
  {
   "cell_type": "code",
   "execution_count": null,
   "id": "9694b913",
   "metadata": {},
   "outputs": [
    {
     "name": "stdout",
     "output_type": "stream",
     "text": [
      "AB_04152014\n"
     ]
    }
   ],
   "source": [
    "# This code does classification based on spot light search, parallel processing, fast\n",
    "CLconditions=['Neu','Neg','Targ']\n",
    "\n",
    "\n",
    "##LinearSVC(random_state=0))\n",
    "clf = SVC(kernel='linear',probability=True)\n",
    "pipeSpotLight = Pipeline([('scaler', StandardScaler()), ('clf', clf)])\n",
    "\n",
    "# subj_list_one=[subj_list[1]]; \n",
    "# Nsubj=len(subj_list_one)\n",
    "Nsubj=len(subj_list)\n",
    "all_performance = np.zeros(Nsubj)\n",
    "for i_sub, subj in enumerate(subj_list):\n",
    "    print(subj)\n",
    "    start = timer()\n",
    "\n",
    "    ZstatInfoSubj=ZstatInfo.loc[ZstatInfo['Subj']==subj]\n",
    "    Zstattmp=ZstatInfoSubj.loc[ZstatInfoSubj['Run']==1]\n",
    "    Zstattmp.reset_index(inplace = True, drop = True)\n",
    "    MyFiletmp=Zstattmp['Folder'][0]+Zstattmp['Neg'][0][0]\n",
    "    \n",
    "    myimg_affine=nib.load(MyFiletmp).affine\n",
    "\n",
    "    Alldata=LoadAllNii(ZstatInfoSubj,CLconditions) # load Alldata\n",
    "         \n",
    "    DataArgDict= {'AllPoints': AllPoints,\n",
    "              'ZstatInfoSubj':ZstatInfoSubj ,\n",
    "              'CLconditions': CLconditions, \n",
    "              'Alldata': Alldata,\n",
    "              'pipeSpotLight':pipeSpotLight} \n",
    "    SpotLight_performance=np.zeros(AllPoints.shape[0])\n",
    "    \n",
    "    aa1= range(AllPoints.shape[0])\n",
    "    aa2=[DataArgDict]*len(aa1)\n",
    "    aa=[*zip(aa1, aa2)]\n",
    "\n",
    "    if __name__ == \"__main__\":\n",
    "\n",
    "        pool = Pool(multiprocessing.cpu_count()-2)\n",
    "        resultsN = pool.map(multi_run_wrapperLoopiFeatureDict,aa)\n",
    "\n",
    "        resultsN=np.array(resultsN).reshape(voxel_dims)\n",
    "\n",
    "        nft_img = nib.Nifti1Image(resultsN, myimg_affine)\n",
    "        MVPAFile='C://Users/user/Documents/Reyhaneh/EEG+fMRI/EO/MRI_data/Analysis/MVPA/SpotlightR'+str(radius)+'/MVPA_AB_04152014.nii.gz'\n",
    "        nib.save(nft_img, OutFile)\n",
    "\n",
    "    end = timer()\n",
    "    print(end-start)\n",
    "# print(resultsN[56500:56510])"
   ]
  },
  {
   "cell_type": "code",
   "execution_count": 13,
   "id": "97426b2f",
   "metadata": {},
   "outputs": [
    {
     "data": {
      "text/plain": [
       "11"
      ]
     },
     "execution_count": 13,
     "metadata": {},
     "output_type": "execute_result"
    }
   ],
   "source": [
    "Nsubj"
   ]
  },
  {
   "cell_type": "code",
   "execution_count": null,
   "id": "ec87c70a",
   "metadata": {},
   "outputs": [
    {
     "name": "stdout",
     "output_type": "stream",
     "text": [
      "ET_12102013\n"
     ]
    }
   ],
   "source": [
    "# This code does classification based on spot light search, serial processing (for trouble shooting)\n",
    "CLconditions=['Neu','Neg','Targ']\n",
    "\n",
    "\n",
    "##LinearSVC(random_state=0))\n",
    "clf = SVC(kernel='linear',probability=True)\n",
    "pipeSpotLight = Pipeline([('scaler', StandardScaler()), ('clf', clf)])\n",
    "\n",
    "# subj_list_one=[subj_list[1]]; \n",
    "# Nsubj=len(subj_list_one)\n",
    "Nsubj=len([subj_list[6]])\n",
    "all_performance = np.zeros(Nsubj)\n",
    "for i_sub, subj in enumerate([subj_list[6]]):\n",
    "    print(subj)\n",
    "    start = timer()\n",
    "\n",
    "    ZstatInfoSubj=ZstatInfo.loc[ZstatInfo['Subj']==subj]\n",
    "    Zstattmp=ZstatInfoSubj.loc[ZstatInfoSubj['Run']==1]\n",
    "    Zstattmp.reset_index(inplace = True, drop = True)\n",
    "    MyFiletmp=Zstattmp['Folder'][0]+Zstattmp['Neg'][0][0]\n",
    "    \n",
    "    myimg_affine=nib.load(MyFiletmp).affine\n",
    "\n",
    "    Alldata=LoadAllNii(ZstatInfoSubj,CLconditions) # load Alldata\n",
    "         \n",
    "    DataArgDict= {'AllPoints': AllPoints,\n",
    "              'ZstatInfoSubj':ZstatInfoSubj ,\n",
    "              'CLconditions': CLconditions, \n",
    "              'Alldata': Alldata,\n",
    "              'pipeSpotLight':pipeSpotLight} \n",
    "    SpotLight_performance=np.zeros(AllPoints.shape[0])\n",
    "    \n",
    "#     aa1= range(AllPoints.shape[0])\n",
    "#     aa2=[DataArgDict]*len(aa1)\n",
    "#     aa=[*zip(aa1, aa2)]\n",
    "\n",
    "    resultsN = np.zeros(AllPoints.shape[0])\n",
    "    for iFeature in range(AllPoints.shape[0]): #iFeature=40836, range(56500,56610):\n",
    "\n",
    "        resultsN[iFeature]= LoopiFeatureDict(iFeature, DataArgDict)\n",
    "    \n",
    "    resultsN=np.array(resultsN).reshape(voxel_dims)\n",
    "\n",
    "    nft_img = nib.Nifti1Image(resultsN, myimg_affine)\n",
    "    OutFile='C://Users/user/Documents/Reyhaneh/EEG+fMRI/EO/MRI_data/Analysis/MVPA/SpotlightR'+str(radius)+'/MVPA_'+subj+'.nii.gz'\n",
    "    nib.save(nft_img, OutFile)\n",
    "\n",
    "    end = timer()\n",
    "    print(end-start)\n",
    "# print(resultsN[56500:56510])"
   ]
  },
  {
   "cell_type": "code",
   "execution_count": 41,
   "id": "d79bf782",
   "metadata": {},
   "outputs": [
    {
     "name": "stdout",
     "output_type": "stream",
     "text": [
      "C://Users/user/Documents/Reyhaneh/EEG+fMRI/EO/MRI_data/Analysis/SPM/AM_05082014/3cond_dist2/run01/spmT_0009.nii\n"
     ]
    }
   ],
   "source": [
    "Zstattmp=ZstatInfoSubj.loc[ZstatInfoSubj['Run']==1]\n",
    "Zstattmp.reset_index(inplace = True, drop = True)\n",
    "MyFile=Zstattmp['Folder'][0]+Zstattmp['Neg'][0][0]\n",
    "data = nib.load(MyFile).get_data()\n",
    "voxel_dims = data.shape\n",
    "print(voxel_dims)"
   ]
  },
  {
   "cell_type": "code",
   "execution_count": 40,
   "id": "bc0ec079",
   "metadata": {},
   "outputs": [
    {
     "data": {
      "text/html": [
       "<div>\n",
       "<style scoped>\n",
       "    .dataframe tbody tr th:only-of-type {\n",
       "        vertical-align: middle;\n",
       "    }\n",
       "\n",
       "    .dataframe tbody tr th {\n",
       "        vertical-align: top;\n",
       "    }\n",
       "\n",
       "    .dataframe thead th {\n",
       "        text-align: right;\n",
       "    }\n",
       "</style>\n",
       "<table border=\"1\" class=\"dataframe\">\n",
       "  <thead>\n",
       "    <tr style=\"text-align: right;\">\n",
       "      <th></th>\n",
       "      <th>Subj</th>\n",
       "      <th>Run</th>\n",
       "      <th>Folder</th>\n",
       "      <th>Neu</th>\n",
       "      <th>Neg</th>\n",
       "      <th>Pos</th>\n",
       "      <th>Targ</th>\n",
       "    </tr>\n",
       "  </thead>\n",
       "  <tbody>\n",
       "    <tr>\n",
       "      <th>0</th>\n",
       "      <td>AM_05082014</td>\n",
       "      <td>1</td>\n",
       "      <td>C://Users/user/Documents/Reyhaneh/EEG+fMRI/EO/...</td>\n",
       "      <td>[spmT_0001.nii, spmT_0002.nii, spmT_0003.nii, ...</td>\n",
       "      <td>[spmT_0009.nii, spmT_0010.nii, spmT_0011.nii, ...</td>\n",
       "      <td>[spmT_0017.nii]</td>\n",
       "      <td>[spmT_0018.nii, spmT_0019.nii, spmT_0020.nii, ...</td>\n",
       "    </tr>\n",
       "  </tbody>\n",
       "</table>\n",
       "</div>"
      ],
      "text/plain": [
       "          Subj Run                                             Folder  \\\n",
       "0  AM_05082014   1  C://Users/user/Documents/Reyhaneh/EEG+fMRI/EO/...   \n",
       "\n",
       "                                                 Neu  \\\n",
       "0  [spmT_0001.nii, spmT_0002.nii, spmT_0003.nii, ...   \n",
       "\n",
       "                                                 Neg              Pos  \\\n",
       "0  [spmT_0009.nii, spmT_0010.nii, spmT_0011.nii, ...  [spmT_0017.nii]   \n",
       "\n",
       "                                                Targ  \n",
       "0  [spmT_0018.nii, spmT_0019.nii, spmT_0020.nii, ...  "
      ]
     },
     "execution_count": 40,
     "metadata": {},
     "output_type": "execute_result"
    }
   ],
   "source": [
    "Zstattmp=ZstatInfoSubj.loc[ZstatInfoSubj['Run']==1]\n",
    "Zstattmp.reset_index(inplace = True, drop = True)\n",
    "Zstattmp"
   ]
  },
  {
   "cell_type": "code",
   "execution_count": null,
   "id": "92f74cf9",
   "metadata": {},
   "outputs": [],
   "source": [
    "\n",
    "MyFile=MyZstat['Folder'][0]+MyZstat['Neu'][0][0]\n",
    "#print(MyFile)\n",
    "data = nib.load(MyFile).get_data()\n",
    "voxel_dims = data.shape\n",
    "print(voxel_dims)"
   ]
  },
  {
   "cell_type": "code",
   "execution_count": null,
   "id": "8c34a51c",
   "metadata": {},
   "outputs": [],
   "source": [
    "statOut=np.array(resultsN).reshape(voxel_dims)\n",
    "statOut.shape\n",
    "nib.save(statOut)"
   ]
  },
  {
   "cell_type": "code",
   "execution_count": null,
   "id": "d9c05ac6",
   "metadata": {},
   "outputs": [],
   "source": [
    "cnt=0\n",
    "tmpVal=[]\n",
    "for tmp in itertools.product(range(0,1), range(0,2), range(0,3)):\n",
    "    print(f'{tmp}: {cnt}')\n",
    "    tmpVal.append(cnt)\n",
    "    cnt+=1\n",
    "print(tmpVal)\n",
    "tmpVal=np.array(tmpVal)\n",
    "tt=tmpVal.reshape(1,2,3)\n",
    "tt.shape"
   ]
  },
  {
   "cell_type": "code",
   "execution_count": null,
   "id": "2b37e3d5",
   "metadata": {},
   "outputs": [],
   "source": [
    "tt[0,1,2]"
   ]
  },
  {
   "cell_type": "code",
   "execution_count": null,
   "id": "5d56fb7a",
   "metadata": {},
   "outputs": [],
   "source": [
    "aa1= range(AllPoints.shape[0])\n",
    "aa2=[DataArgDict]*len(aa1)\n",
    "aa=[*zip(aa1, aa2)]\n",
    "\n",
    "#def multi_run_wrapperLoopiFeatureDict(args): # If I call it here, Jupyter notebook will freeze\n",
    "#    return LoopiFeatureDict(*args) \n",
    "start = timer()\n",
    "\n",
    "if __name__ == \"__main__\":\n",
    "    \n",
    "    pool = Pool(multiprocessing.cpu_count())\n",
    "    results = pool.map(multi_run_wrapperLoopiFeatureDict,aa)\n",
    "    #print(results)\n",
    "end = timer()\n",
    "print(end-start)    \n",
    "print(results[56500:56510])"
   ]
  },
  {
   "cell_type": "markdown",
   "id": "6ec6807e",
   "metadata": {},
   "source": [
    "If it is needed to modify a funciton and relaod it:"
   ]
  },
  {
   "cell_type": "code",
   "execution_count": null,
   "id": "422f8d62",
   "metadata": {},
   "outputs": [],
   "source": [
    "#del multi_run_wrapperLoopiFeatureDict\n",
    "#from MVPA_func import multi_run_wrapperLoopiFeatureDict\n",
    "multi_run_wrapperLoopiFeatureDict = reload(sys.modules[\"MVPA_func\"]).multi_run_wrapperLoopiFeatureDict  # reload() returns the new module\n",
    "LoopiFeatureDict = reload(sys.modules[\"MVPA_func\"]).LoopiFeatureDict  # reload() returns the new module\n"
   ]
  },
  {
   "cell_type": "code",
   "execution_count": null,
   "id": "06c2701a",
   "metadata": {},
   "outputs": [],
   "source": [
    "SpotLight_performance[56500:56510]"
   ]
  }
 ],
 "metadata": {
  "kernelspec": {
   "display_name": "Python 3 (ipykernel)",
   "language": "python",
   "name": "python3"
  },
  "language_info": {
   "codemirror_mode": {
    "name": "ipython",
    "version": 3
   },
   "file_extension": ".py",
   "mimetype": "text/x-python",
   "name": "python",
   "nbconvert_exporter": "python",
   "pygments_lexer": "ipython3",
   "version": "3.11.1"
  }
 },
 "nbformat": 4,
 "nbformat_minor": 5
}
